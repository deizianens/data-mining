{
 "cells": [
  {
   "cell_type": "markdown",
   "metadata": {
    "colab_type": "text",
    "id": "QLfk3NOIWYQM"
   },
   "source": [
    "# **Análise Exploratória dos Dados (EDA)**\n"
   ]
  },
  {
   "cell_type": "markdown",
   "metadata": {
    "colab_type": "text",
    "id": "lgsYRWt9MMKs"
   },
   "source": [
    "## Configurando o ambiente e fazendo download dos conjuntos de dados\n",
    "\n"
   ]
  },
  {
   "cell_type": "code",
   "execution_count": 0,
   "metadata": {
    "colab": {},
    "colab_type": "code",
    "id": "G06wIT5btOzf"
   },
   "outputs": [],
   "source": [
    "# for some basic operations\n",
    "import numpy as np \n",
    "import pandas as pd \n",
    "\n",
    "# for visualizations\n",
    "import plotly.graph_objects as go\n",
    "import matplotlib.pyplot as plt\n"
   ]
  },
  {
   "cell_type": "code",
   "execution_count": 0,
   "metadata": {
    "colab": {},
    "colab_type": "code",
    "id": "jW3w-E3hpIm5"
   },
   "outputs": [],
   "source": [
    "# Code to read csv file into Colaboratory:\n",
    "!pip install -U -q PyDrive\n",
    "from pydrive.auth import GoogleAuth\n",
    "from pydrive.drive import GoogleDrive\n",
    "from google.colab import auth\n",
    "from oauth2client.client import GoogleCredentials\n",
    "# Authenticate and create the PyDrive client.\n",
    "auth.authenticate_user()\n",
    "gauth = GoogleAuth()\n",
    "gauth.credentials = GoogleCredentials.get_application_default()\n",
    "drive = GoogleDrive(gauth)"
   ]
  },
  {
   "cell_type": "code",
   "execution_count": 3,
   "metadata": {
    "colab": {
     "base_uri": "https://localhost:8080/",
     "height": 34
    },
    "colab_type": "code",
    "id": "DXEMlI-Epid-",
    "outputId": "d2650bea-0ee3-41b8-e166-56b0f4a1b807"
   },
   "outputs": [
    {
     "name": "stdout",
     "output_type": "stream",
     "text": [
      "1gXJhtcrcZ-7jFsRfTZXXFcVBKlRA-5qD\n"
     ]
    }
   ],
   "source": [
    "link = 'https://drive.google.com/open?id=1gXJhtcrcZ-7jFsRfTZXXFcVBKlRA-5qD' # The shareable link\n",
    "base_dp = 'https://drive.google.com/open?id=1kf85Br9YVKUCTAFt1XQAWnVgXkyh2qsx'\n",
    "policiais_mortos_link = 'https://drive.google.com/open?id=1vYPSTopm0MJ53PdF6l_L1iu1R_ghncD5' \n",
    "populacao = 'https://drive.google.com/open?id=1LwXhSAKn1iMpxVzp9Rw1lNDmuX-CPDZN'\n",
    "feminicidio = 'https://drive.google.com/open?id=1JAd-cliUKk_CwVCJ0xk0db0seeMe0Err'\n",
    "delegacias = 'https://drive.google.com/open?id=12fU3Y_TjyiBRqrlxkRUgmzbvX9Nkbl63'\n",
    "\n",
    "fluff, id = link.split('=')\n",
    "fluff, id_2 = base_dp.split('=')\n",
    "fluff, id_3 = policiais_mortos_link.split('=')\n",
    "fluff, id_4 = populacao.split('=')\n",
    "fluff, id_5 = feminicidio.split('=')\n",
    "fluff, id_6 = delegacias.split('=')\n",
    "\n",
    "print (id) # Verify that you have everything after '='\n",
    "\n",
    "downloaded = drive.CreateFile({'id':id}) \n",
    "downloaded.GetContentFile('fogo-cruzado.csv') \n",
    "downloaded = drive.CreateFile({'id':id_2}) \n",
    "downloaded.GetContentFile('BaseDPEvolucaoMensalCisp.csv')\n",
    "downloaded = drive.CreateFile({'id':id_3}) \n",
    "downloaded.GetContentFile('PoliciaisMortos.csv')\n",
    "downloaded = drive.CreateFile({'id':id_4}) \n",
    "downloaded.GetContentFile('PopulacaoEvolucaoMensalCisp.csv')\n",
    "downloaded = drive.CreateFile({'id':id_5}) \n",
    "downloaded.GetContentFile('BaseFeminicidioEvolucaoMensalCisp.csv')\n",
    "downloaded = drive.CreateFile({'id':id_6}) \n",
    "downloaded.GetContentFile('delegacias.csv')"
   ]
  },
  {
   "cell_type": "markdown",
   "metadata": {
    "colab_type": "text",
    "id": "AYMN96qfOYOS"
   },
   "source": [
    "## Carregando os dados"
   ]
  },
  {
   "cell_type": "markdown",
   "metadata": {
    "colab_type": "text",
    "id": "rR3AISc7PU0i"
   },
   "source": [
    "**População**"
   ]
  },
  {
   "cell_type": "code",
   "execution_count": 10,
   "metadata": {
    "colab": {
     "base_uri": "https://localhost:8080/",
     "height": 34
    },
    "colab_type": "code",
    "id": "o6Md2rcfVl9Z",
    "outputId": "f70eda53-c260-4fe9-feb2-9b241d5523eb"
   },
   "outputs": [
    {
     "data": {
      "text/plain": [
       "(28265, 4)"
      ]
     },
     "execution_count": 10,
     "metadata": {
      "tags": []
     },
     "output_type": "execute_result"
    }
   ],
   "source": [
    "population_df = pd.read_csv('PopulacaoEvolucaoMensalCisp.csv', sep=';', encoding='latin-1')\n",
    "\n",
    "\n",
    "population_df.shape"
   ]
  },
  {
   "cell_type": "markdown",
   "metadata": {
    "colab_type": "text",
    "id": "EaFp2PEHPcJY"
   },
   "source": [
    "**Crimes**"
   ]
  },
  {
   "cell_type": "code",
   "execution_count": 9,
   "metadata": {
    "colab": {
     "base_uri": "https://localhost:8080/",
     "height": 101
    },
    "colab_type": "code",
    "id": "e6sdqgIGW5Ts",
    "outputId": "bed7af18-1661-432f-f188-32c8fb448c70"
   },
   "outputs": [
    {
     "name": "stderr",
     "output_type": "stream",
     "text": [
      "/usr/local/lib/python3.6/dist-packages/IPython/core/interactiveshell.py:2718: DtypeWarning:\n",
      "\n",
      "Columns (44,45,46) have mixed types. Specify dtype option on import or set low_memory=False.\n",
      "\n"
     ]
    },
    {
     "data": {
      "text/plain": [
       "(26765, 63)"
      ]
     },
     "execution_count": 9,
     "metadata": {
      "tags": []
     },
     "output_type": "execute_result"
    }
   ],
   "source": [
    "crimes_df = pd.read_csv('BaseDPEvolucaoMensalCisp.csv', encoding='latin-1')\n",
    "crimes_df.shape"
   ]
  },
  {
   "cell_type": "markdown",
   "metadata": {
    "colab_type": "text",
    "id": "EgElNC9_Pe_Q"
   },
   "source": [
    "**Delegacias**"
   ]
  },
  {
   "cell_type": "code",
   "execution_count": 6,
   "metadata": {
    "colab": {
     "base_uri": "https://localhost:8080/",
     "height": 34
    },
    "colab_type": "code",
    "id": "KWO0dxNtS1kP",
    "outputId": "937b5a82-0e0e-4c89-8823-77dcdd99a32c"
   },
   "outputs": [
    {
     "data": {
      "text/plain": [
       "(138, 4)"
      ]
     },
     "execution_count": 6,
     "metadata": {
      "tags": []
     },
     "output_type": "execute_result"
    }
   ],
   "source": [
    "delegacias_df = pd.read_csv('delegacias.csv', sep=';', encoding='latin-1')\n",
    "\n",
    "# check the shape of the data\n",
    "delegacias_df.shape"
   ]
  },
  {
   "cell_type": "markdown",
   "metadata": {
    "colab_type": "text",
    "id": "ch0gcts3PjAh"
   },
   "source": [
    "**Policiais Mortos em Serviço**"
   ]
  },
  {
   "cell_type": "code",
   "execution_count": 7,
   "metadata": {
    "colab": {
     "base_uri": "https://localhost:8080/",
     "height": 34
    },
    "colab_type": "code",
    "id": "mRcWVjToPLHy",
    "outputId": "4b54aa15-d6e6-4ba9-8e63-ea5af56a7a01"
   },
   "outputs": [
    {
     "data": {
      "text/plain": [
       "(138, 4)"
      ]
     },
     "execution_count": 7,
     "metadata": {
      "tags": []
     },
     "output_type": "execute_result"
    }
   ],
   "source": [
    "policiais_df = pd.read_csv('PoliciaisMortos.csv', sep=';', encoding='latin-1')\n",
    "\n",
    "# check the shape of the data\n",
    "delegacias_df.shape"
   ]
  },
  {
   "cell_type": "markdown",
   "metadata": {
    "colab_type": "text",
    "id": "PY4myiMSPnJR"
   },
   "source": [
    "**Feminicídio**"
   ]
  },
  {
   "cell_type": "code",
   "execution_count": 8,
   "metadata": {
    "colab": {
     "base_uri": "https://localhost:8080/",
     "height": 34
    },
    "colab_type": "code",
    "id": "AV_W0kmYPP7Y",
    "outputId": "f9f918c3-16e2-476e-bdbd-0a9d96e2353b"
   },
   "outputs": [
    {
     "data": {
      "text/plain": [
       "(4822, 6)"
      ]
     },
     "execution_count": 8,
     "metadata": {
      "tags": []
     },
     "output_type": "execute_result"
    }
   ],
   "source": [
    "feminicidio_df = pd.read_csv('BaseFeminicidioEvolucaoMensalCisp.csv', sep=';', encoding='latin-1')\n",
    "\n",
    "# check the shape of the data\n",
    "feminicidio_df.shape"
   ]
  },
  {
   "cell_type": "markdown",
   "metadata": {
    "colab_type": "text",
    "id": "wGa4MJ5cPwHA"
   },
   "source": [
    "**Fogo Cruzado**"
   ]
  },
  {
   "cell_type": "code",
   "execution_count": 11,
   "metadata": {
    "colab": {
     "base_uri": "https://localhost:8080/",
     "height": 34
    },
    "colab_type": "code",
    "id": "Thsev9AQPzRg",
    "outputId": "8d6606f0-feb6-4a3a-ba51-c8a0ef994e09"
   },
   "outputs": [
    {
     "data": {
      "text/plain": [
       "(23689, 23)"
      ]
     },
     "execution_count": 11,
     "metadata": {
      "tags": []
     },
     "output_type": "execute_result"
    }
   ],
   "source": [
    "# reading the dataset\n",
    "\n",
    "tiroteios_df = pd.read_csv('fogo-cruzado.csv', encoding='latin-1')\n",
    "\n",
    "# check the shape of the data\n",
    "tiroteios_df.shape"
   ]
  },
  {
   "cell_type": "markdown",
   "metadata": {
    "colab_type": "text",
    "id": "T5FZrenWR4-L"
   },
   "source": [
    "## Correção de erros ou mudança nos dados"
   ]
  },
  {
   "cell_type": "markdown",
   "metadata": {
    "colab_type": "text",
    "id": "XmhOT-STSZtj"
   },
   "source": [
    "Retirando casas decimais do campo de população"
   ]
  },
  {
   "cell_type": "code",
   "execution_count": 0,
   "metadata": {
    "colab": {},
    "colab_type": "code",
    "id": "1mw0g-JXSF_l"
   },
   "outputs": [],
   "source": [
    "population_df['pop_circ'] = population_df['pop_circ'].astype(int) # tirei casas decimais pra facilitar (e não entendi pq teria meia pessoa??)"
   ]
  },
  {
   "cell_type": "markdown",
   "metadata": {
    "colab_type": "text",
    "id": "vusbzKOsSbYA"
   },
   "source": [
    "Verificando nulos no dataset de crimes"
   ]
  },
  {
   "cell_type": "code",
   "execution_count": 0,
   "metadata": {
    "colab": {},
    "colab_type": "code",
    "id": "Qysd_nQ7SH6o"
   },
   "outputs": [],
   "source": [
    "# verifying null\n",
    "crimes_df.isnull().sum()"
   ]
  },
  {
   "cell_type": "code",
   "execution_count": 0,
   "metadata": {
    "colab": {},
    "colab_type": "code",
    "id": "INh192ntSNGM"
   },
   "outputs": [],
   "source": [
    "crimes_df = crimes_df.replace(r'^\\s*$', np.nan, regex=True)  #campos com apenas espaços em branco são substituidos por NaN"
   ]
  },
  {
   "cell_type": "code",
   "execution_count": 0,
   "metadata": {
    "colab": {},
    "colab_type": "code",
    "id": "TAXuMP8mSSQ4"
   },
   "outputs": [],
   "source": [
    "df = crimes_df.isnull().sum()\n",
    "# df[df[1]>=1].."
   ]
  },
  {
   "cell_type": "code",
   "execution_count": 0,
   "metadata": {
    "colab": {},
    "colab_type": "code",
    "id": "cLn3rqp9Sjj3"
   },
   "outputs": [],
   "source": [
    "crimes_df = crimes_df.fillna(0) # substitui todos os campos vazios com 0\n",
    "crimes_df.head()"
   ]
  },
  {
   "cell_type": "markdown",
   "metadata": {
    "colab_type": "text",
    "id": "Vn0ruWr-SlNo"
   },
   "source": [
    "Retirando espaços em branco a mais nos campos de texto."
   ]
  },
  {
   "cell_type": "code",
   "execution_count": 0,
   "metadata": {
    "colab": {},
    "colab_type": "code",
    "id": "QUPWtk-Pc4Lb"
   },
   "outputs": [],
   "source": [
    "crimes_df['munic'] = crimes_df['munic'].str.strip()"
   ]
  },
  {
   "cell_type": "code",
   "execution_count": 0,
   "metadata": {
    "colab": {},
    "colab_type": "code",
    "id": "-QhE64zacykd"
   },
   "outputs": [],
   "source": [
    "crimes_df['Regiao'] = crimes_df['Regiao'].str.strip()"
   ]
  },
  {
   "cell_type": "code",
   "execution_count": 0,
   "metadata": {
    "colab": {},
    "colab_type": "code",
    "id": "0NEo0vC1YfL8"
   },
   "outputs": [],
   "source": [
    "crimes_df = crimes_df.drop('fase', 1)"
   ]
  },
  {
   "cell_type": "markdown",
   "metadata": {
    "colab_type": "text",
    "id": "0imOZ1AMKuae"
   },
   "source": [
    "Separação da data em campos Ano, Mês e Dia do dataset Fogo Cruzado"
   ]
  },
  {
   "cell_type": "code",
   "execution_count": 12,
   "metadata": {
    "colab": {
     "base_uri": "https://localhost:8080/",
     "height": 350
    },
    "colab_type": "code",
    "id": "orBDBdSqrQch",
    "outputId": "24f9b32f-f001-41ab-be2a-159d0ce5c318"
   },
   "outputs": [
    {
     "data": {
      "text/html": [
       "<div>\n",
       "<style scoped>\n",
       "    .dataframe tbody tr th:only-of-type {\n",
       "        vertical-align: middle;\n",
       "    }\n",
       "\n",
       "    .dataframe tbody tr th {\n",
       "        vertical-align: top;\n",
       "    }\n",
       "\n",
       "    .dataframe thead th {\n",
       "        text-align: right;\n",
       "    }\n",
       "</style>\n",
       "<table border=\"1\" class=\"dataframe\">\n",
       "  <thead>\n",
       "    <tr style=\"text-align: right;\">\n",
       "      <th></th>\n",
       "      <th>id_ocorrencia</th>\n",
       "      <th>local_ocorrencia</th>\n",
       "      <th>latitude_ocorrencia</th>\n",
       "      <th>longitude_ocorrencia</th>\n",
       "      <th>data_ocorrencia</th>\n",
       "      <th>hora_ocorrencia</th>\n",
       "      <th>presen_agen_segur_ocorrencia</th>\n",
       "      <th>qtd_morto_civil_ocorrencia</th>\n",
       "      <th>qtd_morto_agen_segur_ocorrencia</th>\n",
       "      <th>qtd_ferido_civil_ocorrencia</th>\n",
       "      <th>qtd_ferido_agen_segur_ocorrencia</th>\n",
       "      <th>fonte_ocorrencia</th>\n",
       "      <th>estado_id</th>\n",
       "      <th>cidade_id</th>\n",
       "      <th>nome_cidade</th>\n",
       "      <th>cod_ibge_cidade</th>\n",
       "      <th>gentilico_cidade</th>\n",
       "      <th>populacao_cidade</th>\n",
       "      <th>area_cidade</th>\n",
       "      <th>densidade_demo_cidade</th>\n",
       "      <th>nome_estado</th>\n",
       "      <th>uf_estado</th>\n",
       "      <th>cod_ibge_estado</th>\n",
       "      <th>year</th>\n",
       "      <th>month</th>\n",
       "      <th>day</th>\n",
       "    </tr>\n",
       "  </thead>\n",
       "  <tbody>\n",
       "    <tr>\n",
       "      <th>0</th>\n",
       "      <td>8758</td>\n",
       "      <td>Maré; Rio de Janeiro - RJ; Brasil</td>\n",
       "      <td>-22.857496</td>\n",
       "      <td>-43.243015</td>\n",
       "      <td>2018-01-09</td>\n",
       "      <td>15:57:00</td>\n",
       "      <td>0</td>\n",
       "      <td>0</td>\n",
       "      <td>0</td>\n",
       "      <td>0</td>\n",
       "      <td>0</td>\n",
       "      <td>0</td>\n",
       "      <td>19</td>\n",
       "      <td>3661</td>\n",
       "      <td>Rio de Janeiro</td>\n",
       "      <td>3304557</td>\n",
       "      <td>carioca</td>\n",
       "      <td>6320446</td>\n",
       "      <td>119746</td>\n",
       "      <td>5.27</td>\n",
       "      <td>Rio de Janeiro</td>\n",
       "      <td>RJ</td>\n",
       "      <td>33</td>\n",
       "      <td>2018</td>\n",
       "      <td>1</td>\n",
       "      <td>9</td>\n",
       "    </tr>\n",
       "    <tr>\n",
       "      <th>1</th>\n",
       "      <td>10431</td>\n",
       "      <td>R. Alice - Laranjeiras; Rio de Janeiro - RJ; B...</td>\n",
       "      <td>-22.935377</td>\n",
       "      <td>-43.194631</td>\n",
       "      <td>2018-01-19</td>\n",
       "      <td>20:54:00</td>\n",
       "      <td>0</td>\n",
       "      <td>0</td>\n",
       "      <td>0</td>\n",
       "      <td>0</td>\n",
       "      <td>0</td>\n",
       "      <td>0</td>\n",
       "      <td>19</td>\n",
       "      <td>3661</td>\n",
       "      <td>Rio de Janeiro</td>\n",
       "      <td>3304557</td>\n",
       "      <td>carioca</td>\n",
       "      <td>6320446</td>\n",
       "      <td>119746</td>\n",
       "      <td>5.27</td>\n",
       "      <td>Rio de Janeiro</td>\n",
       "      <td>RJ</td>\n",
       "      <td>33</td>\n",
       "      <td>2018</td>\n",
       "      <td>1</td>\n",
       "      <td>19</td>\n",
       "    </tr>\n",
       "    <tr>\n",
       "      <th>2</th>\n",
       "      <td>10430</td>\n",
       "      <td>Areia Branca; Belford Roxo - RJ; Brasil</td>\n",
       "      <td>-22.748600</td>\n",
       "      <td>-43.410628</td>\n",
       "      <td>2018-01-19</td>\n",
       "      <td>18:37:00</td>\n",
       "      <td>0</td>\n",
       "      <td>0</td>\n",
       "      <td>0</td>\n",
       "      <td>0</td>\n",
       "      <td>0</td>\n",
       "      <td>0</td>\n",
       "      <td>19</td>\n",
       "      <td>3602</td>\n",
       "      <td>Belford Roxo</td>\n",
       "      <td>3300456</td>\n",
       "      <td>belford-roxense</td>\n",
       "      <td>469332</td>\n",
       "      <td>7782</td>\n",
       "      <td>6.03</td>\n",
       "      <td>Rio de Janeiro</td>\n",
       "      <td>RJ</td>\n",
       "      <td>33</td>\n",
       "      <td>2018</td>\n",
       "      <td>1</td>\n",
       "      <td>19</td>\n",
       "    </tr>\n",
       "    <tr>\n",
       "      <th>3</th>\n",
       "      <td>16</td>\n",
       "      <td>Santa Cruz; Rio de Janeiro - RJ; Brasil</td>\n",
       "      <td>-22.919651</td>\n",
       "      <td>-43.684387</td>\n",
       "      <td>2016-07-05</td>\n",
       "      <td>6:02:00</td>\n",
       "      <td>1</td>\n",
       "      <td>0</td>\n",
       "      <td>1</td>\n",
       "      <td>0</td>\n",
       "      <td>0</td>\n",
       "      <td>1</td>\n",
       "      <td>19</td>\n",
       "      <td>3661</td>\n",
       "      <td>Rio de Janeiro</td>\n",
       "      <td>3304557</td>\n",
       "      <td>carioca</td>\n",
       "      <td>6320446</td>\n",
       "      <td>119746</td>\n",
       "      <td>5.27</td>\n",
       "      <td>Rio de Janeiro</td>\n",
       "      <td>RJ</td>\n",
       "      <td>33</td>\n",
       "      <td>2016</td>\n",
       "      <td>7</td>\n",
       "      <td>5</td>\n",
       "    </tr>\n",
       "    <tr>\n",
       "      <th>4</th>\n",
       "      <td>17</td>\n",
       "      <td>Rua Barão - Praça Seca; Rio de Janeiro - RJ; B...</td>\n",
       "      <td>-22.898642</td>\n",
       "      <td>-43.352360</td>\n",
       "      <td>2016-07-05</td>\n",
       "      <td>13:44:00</td>\n",
       "      <td>1</td>\n",
       "      <td>0</td>\n",
       "      <td>0</td>\n",
       "      <td>0</td>\n",
       "      <td>0</td>\n",
       "      <td>0</td>\n",
       "      <td>19</td>\n",
       "      <td>3661</td>\n",
       "      <td>Rio de Janeiro</td>\n",
       "      <td>3304557</td>\n",
       "      <td>carioca</td>\n",
       "      <td>6320446</td>\n",
       "      <td>119746</td>\n",
       "      <td>5.27</td>\n",
       "      <td>Rio de Janeiro</td>\n",
       "      <td>RJ</td>\n",
       "      <td>33</td>\n",
       "      <td>2016</td>\n",
       "      <td>7</td>\n",
       "      <td>5</td>\n",
       "    </tr>\n",
       "  </tbody>\n",
       "</table>\n",
       "</div>"
      ],
      "text/plain": [
       "   id_ocorrencia                                   local_ocorrencia  ...  month  day\n",
       "0           8758                  Maré; Rio de Janeiro - RJ; Brasil  ...      1    9\n",
       "1          10431  R. Alice - Laranjeiras; Rio de Janeiro - RJ; B...  ...      1   19\n",
       "2          10430            Areia Branca; Belford Roxo - RJ; Brasil  ...      1   19\n",
       "3             16            Santa Cruz; Rio de Janeiro - RJ; Brasil  ...      7    5\n",
       "4             17  Rua Barão - Praça Seca; Rio de Janeiro - RJ; B...  ...      7    5\n",
       "\n",
       "[5 rows x 26 columns]"
      ]
     },
     "execution_count": 12,
     "metadata": {
      "tags": []
     },
     "output_type": "execute_result"
    }
   ],
   "source": [
    "tiroteios_df['data_ocorrencia'] = pd.to_datetime(tiroteios_df['data_ocorrencia'], errors='coerce', dayfirst=True)\n",
    "tiroteios_df['year'], tiroteios_df['month'], tiroteios_df['day'] = tiroteios_df['data_ocorrencia'].dt.year, tiroteios_df['data_ocorrencia'].dt.month, tiroteios_df['data_ocorrencia'].dt.day\n",
    "tiroteios_df.head()"
   ]
  },
  {
   "cell_type": "markdown",
   "metadata": {
    "colab_type": "text",
    "id": "g3zLNg20Irb4"
   },
   "source": [
    "## Análise da população de acordo com os dois datasets"
   ]
  },
  {
   "cell_type": "code",
   "execution_count": 0,
   "metadata": {
    "colab": {
     "base_uri": "https://localhost:8080/",
     "height": 195
    },
    "colab_type": "code",
    "id": "9uWHt6xS05t8",
    "outputId": "f34b716a-eff4-4833-ebf6-8a6ce78ad08c"
   },
   "outputs": [
    {
     "data": {
      "text/html": [
       "<div>\n",
       "<style scoped>\n",
       "    .dataframe tbody tr th:only-of-type {\n",
       "        vertical-align: middle;\n",
       "    }\n",
       "\n",
       "    .dataframe tbody tr th {\n",
       "        vertical-align: top;\n",
       "    }\n",
       "\n",
       "    .dataframe thead th {\n",
       "        text-align: right;\n",
       "    }\n",
       "</style>\n",
       "<table border=\"1\" class=\"dataframe\">\n",
       "  <thead>\n",
       "    <tr style=\"text-align: right;\">\n",
       "      <th></th>\n",
       "      <th>nome_cidade</th>\n",
       "      <th>populacao_cidade</th>\n",
       "      <th>year</th>\n",
       "    </tr>\n",
       "  </thead>\n",
       "  <tbody>\n",
       "    <tr>\n",
       "      <th>0</th>\n",
       "      <td>Rio de Janeiro</td>\n",
       "      <td>6320446</td>\n",
       "      <td>2018</td>\n",
       "    </tr>\n",
       "    <tr>\n",
       "      <th>2150</th>\n",
       "      <td>Rio de Janeiro</td>\n",
       "      <td>6320446</td>\n",
       "      <td>2017</td>\n",
       "    </tr>\n",
       "    <tr>\n",
       "      <th>3</th>\n",
       "      <td>Rio de Janeiro</td>\n",
       "      <td>6320446</td>\n",
       "      <td>2016</td>\n",
       "    </tr>\n",
       "    <tr>\n",
       "      <th>16060</th>\n",
       "      <td>Rio de Janeiro</td>\n",
       "      <td>6320446</td>\n",
       "      <td>2019</td>\n",
       "    </tr>\n",
       "    <tr>\n",
       "      <th>10483</th>\n",
       "      <td>São Gonçalo</td>\n",
       "      <td>999728</td>\n",
       "      <td>2019</td>\n",
       "    </tr>\n",
       "  </tbody>\n",
       "</table>\n",
       "</div>"
      ],
      "text/plain": [
       "          nome_cidade  populacao_cidade  year\n",
       "0      Rio de Janeiro           6320446  2018\n",
       "2150   Rio de Janeiro           6320446  2017\n",
       "3      Rio de Janeiro           6320446  2016\n",
       "16060  Rio de Janeiro           6320446  2019\n",
       "10483     São Gonçalo            999728  2019"
      ]
     },
     "execution_count": 127,
     "metadata": {
      "tags": []
     },
     "output_type": "execute_result"
    }
   ],
   "source": [
    "tmp_data = data[['nome_cidade', 'populacao_cidade', 'year']].copy()\n",
    "tmp_data.drop_duplicates(subset =['nome_cidade', 'year'], inplace = True)\n",
    "\n",
    "tmp_data.sort_values(['populacao_cidade'], ascending=[False]).head()"
   ]
  },
  {
   "cell_type": "code",
   "execution_count": 0,
   "metadata": {
    "colab": {
     "base_uri": "https://localhost:8080/",
     "height": 195
    },
    "colab_type": "code",
    "id": "A1o6jBdX0G3A",
    "outputId": "67d8ddd8-d68e-47fa-cbdc-c4973c12ab94"
   },
   "outputs": [
    {
     "data": {
      "text/html": [
       "<div>\n",
       "<style scoped>\n",
       "    .dataframe tbody tr th:only-of-type {\n",
       "        vertical-align: middle;\n",
       "    }\n",
       "\n",
       "    .dataframe tbody tr th {\n",
       "        vertical-align: top;\n",
       "    }\n",
       "\n",
       "    .dataframe thead th {\n",
       "        text-align: right;\n",
       "    }\n",
       "</style>\n",
       "<table border=\"1\" class=\"dataframe\">\n",
       "  <thead>\n",
       "    <tr style=\"text-align: right;\">\n",
       "      <th></th>\n",
       "      <th>munic</th>\n",
       "      <th>vano</th>\n",
       "      <th>mes</th>\n",
       "      <th>pop_circ</th>\n",
       "    </tr>\n",
       "  </thead>\n",
       "  <tbody>\n",
       "    <tr>\n",
       "      <th>11899</th>\n",
       "      <td>Rio de Janeiro</td>\n",
       "      <td>2018</td>\n",
       "      <td>1</td>\n",
       "      <td>6573410</td>\n",
       "    </tr>\n",
       "    <tr>\n",
       "      <th>11911</th>\n",
       "      <td>Rio de Janeiro</td>\n",
       "      <td>2019</td>\n",
       "      <td>1</td>\n",
       "      <td>6551100</td>\n",
       "    </tr>\n",
       "    <tr>\n",
       "      <th>11887</th>\n",
       "      <td>Rio de Janeiro</td>\n",
       "      <td>2017</td>\n",
       "      <td>1</td>\n",
       "      <td>6523642</td>\n",
       "    </tr>\n",
       "    <tr>\n",
       "      <th>11875</th>\n",
       "      <td>Rio de Janeiro</td>\n",
       "      <td>2016</td>\n",
       "      <td>1</td>\n",
       "      <td>6487724</td>\n",
       "    </tr>\n",
       "    <tr>\n",
       "      <th>11863</th>\n",
       "      <td>Rio de Janeiro</td>\n",
       "      <td>2015</td>\n",
       "      <td>1</td>\n",
       "      <td>6465146</td>\n",
       "    </tr>\n",
       "  </tbody>\n",
       "</table>\n",
       "</div>"
      ],
      "text/plain": [
       "                munic  vano  mes  pop_circ\n",
       "11899  Rio de Janeiro  2018    1   6573410\n",
       "11911  Rio de Janeiro  2019    1   6551100\n",
       "11887  Rio de Janeiro  2017    1   6523642\n",
       "11875  Rio de Janeiro  2016    1   6487724\n",
       "11863  Rio de Janeiro  2015    1   6465146"
      ]
     },
     "execution_count": 160,
     "metadata": {
      "tags": []
     },
     "output_type": "execute_result"
    }
   ],
   "source": [
    "tmp_data = pop_crimes[['munic', 'pop_circ', 'vano', 'mes']].copy()\n",
    "tmp_data = tmp_data.groupby(['munic', 'vano', 'mes'], as_index=False).agg({'pop_circ': 'sum'})\n",
    "tmp_data.drop_duplicates(subset = ['munic', 'vano'], inplace = True)\n",
    "\n",
    "tmp_data.sort_values(['pop_circ'], ascending=[False]).head()"
   ]
  },
  {
   "cell_type": "markdown",
   "metadata": {
    "colab_type": "text",
    "id": "NEjzFIb6I30x"
   },
   "source": [
    "Pego sempre só o primeiro mês de cada ano, já que não há grandes mudanças de mês em mês.  \n",
    "Parece ok, a diferença é pouca e se deve ao fato das fontes dos dados serem diferentes e se basearem em estimativas.  \n",
    "Fogo cruzado pega dados de população do censo 2010 do IBGE."
   ]
  },
  {
   "cell_type": "markdown",
   "metadata": {
    "colab_type": "text",
    "id": "mY73EmaBORsz"
   },
   "source": [
    "### Histogramas"
   ]
  },
  {
   "cell_type": "markdown",
   "metadata": {
    "colab_type": "text",
    "id": "i1DKsON8US8-"
   },
   "source": [
    "###Join dos datasets Base DP e População"
   ]
  },
  {
   "cell_type": "code",
   "execution_count": 0,
   "metadata": {
    "colab": {
     "base_uri": "https://localhost:8080/",
     "height": 34
    },
    "colab_type": "code",
    "id": "4V5at_zEUdgl",
    "outputId": "49ed4342-6395-4fe7-b770-190a55c30939"
   },
   "outputs": [
    {
     "data": {
      "text/plain": [
       "(26739, 63)"
      ]
     },
     "execution_count": 161,
     "metadata": {
      "tags": []
     },
     "output_type": "execute_result"
    }
   ],
   "source": [
    "crimes_pop = pd.merge(crimes_df, population_df, how=\"inner\", on=['CISP', 'mes', 'vano'])\n",
    "crimes_pop.shape"
   ]
  },
  {
   "cell_type": "code",
   "execution_count": 0,
   "metadata": {
    "colab": {
     "base_uri": "https://localhost:8080/",
     "height": 299
    },
    "colab_type": "code",
    "id": "nNov9HREUvJi",
    "outputId": "f6fbc0df-6675-45b9-c787-7ba96be8d0df"
   },
   "outputs": [
    {
     "data": {
      "text/html": [
       "<div>\n",
       "<style scoped>\n",
       "    .dataframe tbody tr th:only-of-type {\n",
       "        vertical-align: middle;\n",
       "    }\n",
       "\n",
       "    .dataframe tbody tr th {\n",
       "        vertical-align: top;\n",
       "    }\n",
       "\n",
       "    .dataframe thead th {\n",
       "        text-align: right;\n",
       "    }\n",
       "</style>\n",
       "<table border=\"1\" class=\"dataframe\">\n",
       "  <thead>\n",
       "    <tr style=\"text-align: right;\">\n",
       "      <th></th>\n",
       "      <th>CISP</th>\n",
       "      <th>mes</th>\n",
       "      <th>vano</th>\n",
       "      <th>mes_ano</th>\n",
       "      <th>AISP</th>\n",
       "      <th>RISP</th>\n",
       "      <th>munic</th>\n",
       "      <th>mcirc</th>\n",
       "      <th>Regiao</th>\n",
       "      <th>hom_doloso</th>\n",
       "      <th>lesao_corp_morte</th>\n",
       "      <th>latrocinio</th>\n",
       "      <th>hom_por_interv_policial</th>\n",
       "      <th>tentat_hom</th>\n",
       "      <th>lesao_corp_dolosa</th>\n",
       "      <th>estupro</th>\n",
       "      <th>hom_culposo</th>\n",
       "      <th>lesao_corp_culposa</th>\n",
       "      <th>roubo_comercio</th>\n",
       "      <th>roubo_residencia</th>\n",
       "      <th>roubo_veiculo</th>\n",
       "      <th>roubo_carga</th>\n",
       "      <th>roubo_transeunte</th>\n",
       "      <th>roubo_em_coletivo</th>\n",
       "      <th>roubo_banco</th>\n",
       "      <th>roubo_cx_eletronico</th>\n",
       "      <th>roubo_celular</th>\n",
       "      <th>roubo_conducao_saque</th>\n",
       "      <th>roubo_apos_saque</th>\n",
       "      <th>roubo_bicicleta</th>\n",
       "      <th>outros_roubos</th>\n",
       "      <th>total_roubos</th>\n",
       "      <th>furto_veiculos</th>\n",
       "      <th>furto_transeunte</th>\n",
       "      <th>furto_coletivo</th>\n",
       "      <th>furto_celular</th>\n",
       "      <th>furto_bicicleta</th>\n",
       "      <th>outros_furtos</th>\n",
       "      <th>total_furtos</th>\n",
       "      <th>sequestro</th>\n",
       "      <th>extorsao</th>\n",
       "      <th>sequestro_relampago</th>\n",
       "      <th>estelionato</th>\n",
       "      <th>apreensao_drogas</th>\n",
       "      <th>posse_drogas</th>\n",
       "      <th>trafico_drogas</th>\n",
       "      <th>apreensao_drogas_sem_autor</th>\n",
       "      <th>recuperacao_veiculos</th>\n",
       "      <th>apf</th>\n",
       "      <th>aaapai</th>\n",
       "      <th>cmp</th>\n",
       "      <th>cmba</th>\n",
       "      <th>ameaca</th>\n",
       "      <th>pessoas_desaparecidas</th>\n",
       "      <th>encontro_cadaver</th>\n",
       "      <th>encontro_ossada</th>\n",
       "      <th>pol_militares_mortos_serv</th>\n",
       "      <th>pol_civis_mortos_serv</th>\n",
       "      <th>indicador_letalidade</th>\n",
       "      <th>indicador_roubo_rua</th>\n",
       "      <th>indicador_roubo_veic</th>\n",
       "      <th>registro_ocorrencias</th>\n",
       "      <th>pop_circ</th>\n",
       "      <th>per100k_ratio</th>\n",
       "    </tr>\n",
       "  </thead>\n",
       "  <tbody>\n",
       "    <tr>\n",
       "      <th>0</th>\n",
       "      <td>1</td>\n",
       "      <td>1</td>\n",
       "      <td>2003</td>\n",
       "      <td>2003m1</td>\n",
       "      <td>5</td>\n",
       "      <td>1</td>\n",
       "      <td>Rio de Janeiro</td>\n",
       "      <td>3304557</td>\n",
       "      <td>Capital</td>\n",
       "      <td>0</td>\n",
       "      <td>0</td>\n",
       "      <td>0</td>\n",
       "      <td>0</td>\n",
       "      <td>1</td>\n",
       "      <td>40</td>\n",
       "      <td>0</td>\n",
       "      <td>1</td>\n",
       "      <td>15</td>\n",
       "      <td>14</td>\n",
       "      <td>0</td>\n",
       "      <td>5</td>\n",
       "      <td>1</td>\n",
       "      <td>26</td>\n",
       "      <td>8</td>\n",
       "      <td>0</td>\n",
       "      <td>0.0</td>\n",
       "      <td>32</td>\n",
       "      <td>0</td>\n",
       "      <td>10</td>\n",
       "      <td>0.0</td>\n",
       "      <td>4</td>\n",
       "      <td>100</td>\n",
       "      <td>12</td>\n",
       "      <td>30</td>\n",
       "      <td>0</td>\n",
       "      <td>37</td>\n",
       "      <td>0.0</td>\n",
       "      <td>90</td>\n",
       "      <td>169</td>\n",
       "      <td>0</td>\n",
       "      <td>1</td>\n",
       "      <td>0</td>\n",
       "      <td>69</td>\n",
       "      <td>1</td>\n",
       "      <td>0</td>\n",
       "      <td>0</td>\n",
       "      <td>0</td>\n",
       "      <td>5</td>\n",
       "      <td>0.0</td>\n",
       "      <td>0.0</td>\n",
       "      <td>0.0</td>\n",
       "      <td>0.0</td>\n",
       "      <td>21</td>\n",
       "      <td>2</td>\n",
       "      <td>0</td>\n",
       "      <td>0</td>\n",
       "      <td>0</td>\n",
       "      <td>0</td>\n",
       "      <td>0</td>\n",
       "      <td>66</td>\n",
       "      <td>5</td>\n",
       "      <td>578</td>\n",
       "      <td>1545</td>\n",
       "      <td>64.724919</td>\n",
       "    </tr>\n",
       "    <tr>\n",
       "      <th>1</th>\n",
       "      <td>4</td>\n",
       "      <td>1</td>\n",
       "      <td>2003</td>\n",
       "      <td>2003m1</td>\n",
       "      <td>5</td>\n",
       "      <td>1</td>\n",
       "      <td>Rio de Janeiro</td>\n",
       "      <td>3304557</td>\n",
       "      <td>Capital</td>\n",
       "      <td>3</td>\n",
       "      <td>0</td>\n",
       "      <td>0</td>\n",
       "      <td>0</td>\n",
       "      <td>0</td>\n",
       "      <td>47</td>\n",
       "      <td>1</td>\n",
       "      <td>4</td>\n",
       "      <td>35</td>\n",
       "      <td>5</td>\n",
       "      <td>0</td>\n",
       "      <td>9</td>\n",
       "      <td>1</td>\n",
       "      <td>25</td>\n",
       "      <td>12</td>\n",
       "      <td>0</td>\n",
       "      <td>1.0</td>\n",
       "      <td>14</td>\n",
       "      <td>1</td>\n",
       "      <td>3</td>\n",
       "      <td>0.0</td>\n",
       "      <td>11</td>\n",
       "      <td>82</td>\n",
       "      <td>9</td>\n",
       "      <td>42</td>\n",
       "      <td>5</td>\n",
       "      <td>23</td>\n",
       "      <td>0.0</td>\n",
       "      <td>36</td>\n",
       "      <td>115</td>\n",
       "      <td>0</td>\n",
       "      <td>1</td>\n",
       "      <td>0</td>\n",
       "      <td>1</td>\n",
       "      <td>35</td>\n",
       "      <td>0</td>\n",
       "      <td>0</td>\n",
       "      <td>0</td>\n",
       "      <td>7</td>\n",
       "      <td>0.0</td>\n",
       "      <td>0.0</td>\n",
       "      <td>0.0</td>\n",
       "      <td>0.0</td>\n",
       "      <td>15</td>\n",
       "      <td>6</td>\n",
       "      <td>0</td>\n",
       "      <td>1</td>\n",
       "      <td>0</td>\n",
       "      <td>0</td>\n",
       "      <td>3</td>\n",
       "      <td>51</td>\n",
       "      <td>9</td>\n",
       "      <td>441</td>\n",
       "      <td>29790</td>\n",
       "      <td>3.356831</td>\n",
       "    </tr>\n",
       "    <tr>\n",
       "      <th>2</th>\n",
       "      <td>5</td>\n",
       "      <td>1</td>\n",
       "      <td>2003</td>\n",
       "      <td>2003m1</td>\n",
       "      <td>5</td>\n",
       "      <td>1</td>\n",
       "      <td>Rio de Janeiro</td>\n",
       "      <td>3304557</td>\n",
       "      <td>Capital</td>\n",
       "      <td>3</td>\n",
       "      <td>0</td>\n",
       "      <td>0</td>\n",
       "      <td>0</td>\n",
       "      <td>1</td>\n",
       "      <td>73</td>\n",
       "      <td>2</td>\n",
       "      <td>1</td>\n",
       "      <td>19</td>\n",
       "      <td>10</td>\n",
       "      <td>1</td>\n",
       "      <td>11</td>\n",
       "      <td>5</td>\n",
       "      <td>26</td>\n",
       "      <td>4</td>\n",
       "      <td>2</td>\n",
       "      <td>0.0</td>\n",
       "      <td>34</td>\n",
       "      <td>2</td>\n",
       "      <td>4</td>\n",
       "      <td>0.0</td>\n",
       "      <td>24</td>\n",
       "      <td>123</td>\n",
       "      <td>28</td>\n",
       "      <td>42</td>\n",
       "      <td>2</td>\n",
       "      <td>47</td>\n",
       "      <td>0.0</td>\n",
       "      <td>97</td>\n",
       "      <td>216</td>\n",
       "      <td>0</td>\n",
       "      <td>0</td>\n",
       "      <td>0</td>\n",
       "      <td>37</td>\n",
       "      <td>4</td>\n",
       "      <td>0</td>\n",
       "      <td>0</td>\n",
       "      <td>0</td>\n",
       "      <td>10</td>\n",
       "      <td>0.0</td>\n",
       "      <td>0.0</td>\n",
       "      <td>0.0</td>\n",
       "      <td>0.0</td>\n",
       "      <td>47</td>\n",
       "      <td>2</td>\n",
       "      <td>1</td>\n",
       "      <td>0</td>\n",
       "      <td>0</td>\n",
       "      <td>0</td>\n",
       "      <td>3</td>\n",
       "      <td>64</td>\n",
       "      <td>11</td>\n",
       "      <td>637</td>\n",
       "      <td>35656</td>\n",
       "      <td>2.804577</td>\n",
       "    </tr>\n",
       "    <tr>\n",
       "      <th>3</th>\n",
       "      <td>6</td>\n",
       "      <td>1</td>\n",
       "      <td>2003</td>\n",
       "      <td>2003m1</td>\n",
       "      <td>1</td>\n",
       "      <td>1</td>\n",
       "      <td>Rio de Janeiro</td>\n",
       "      <td>3304557</td>\n",
       "      <td>Capital</td>\n",
       "      <td>6</td>\n",
       "      <td>0</td>\n",
       "      <td>0</td>\n",
       "      <td>0</td>\n",
       "      <td>2</td>\n",
       "      <td>43</td>\n",
       "      <td>2</td>\n",
       "      <td>1</td>\n",
       "      <td>20</td>\n",
       "      <td>10</td>\n",
       "      <td>0</td>\n",
       "      <td>27</td>\n",
       "      <td>6</td>\n",
       "      <td>14</td>\n",
       "      <td>22</td>\n",
       "      <td>0</td>\n",
       "      <td>0.0</td>\n",
       "      <td>20</td>\n",
       "      <td>0</td>\n",
       "      <td>6</td>\n",
       "      <td>0.0</td>\n",
       "      <td>38</td>\n",
       "      <td>143</td>\n",
       "      <td>17</td>\n",
       "      <td>4</td>\n",
       "      <td>0</td>\n",
       "      <td>8</td>\n",
       "      <td>0.0</td>\n",
       "      <td>61</td>\n",
       "      <td>90</td>\n",
       "      <td>0</td>\n",
       "      <td>0</td>\n",
       "      <td>0</td>\n",
       "      <td>8</td>\n",
       "      <td>20</td>\n",
       "      <td>0</td>\n",
       "      <td>0</td>\n",
       "      <td>0</td>\n",
       "      <td>77</td>\n",
       "      <td>0.0</td>\n",
       "      <td>0.0</td>\n",
       "      <td>0.0</td>\n",
       "      <td>0.0</td>\n",
       "      <td>26</td>\n",
       "      <td>2</td>\n",
       "      <td>1</td>\n",
       "      <td>0</td>\n",
       "      <td>0</td>\n",
       "      <td>0</td>\n",
       "      <td>6</td>\n",
       "      <td>56</td>\n",
       "      <td>27</td>\n",
       "      <td>473</td>\n",
       "      <td>76271</td>\n",
       "      <td>1.311114</td>\n",
       "    </tr>\n",
       "    <tr>\n",
       "      <th>4</th>\n",
       "      <td>7</td>\n",
       "      <td>1</td>\n",
       "      <td>2003</td>\n",
       "      <td>2003m1</td>\n",
       "      <td>1</td>\n",
       "      <td>1</td>\n",
       "      <td>Rio de Janeiro</td>\n",
       "      <td>3304557</td>\n",
       "      <td>Capital</td>\n",
       "      <td>4</td>\n",
       "      <td>0</td>\n",
       "      <td>0</td>\n",
       "      <td>0</td>\n",
       "      <td>2</td>\n",
       "      <td>18</td>\n",
       "      <td>2</td>\n",
       "      <td>0</td>\n",
       "      <td>2</td>\n",
       "      <td>0</td>\n",
       "      <td>2</td>\n",
       "      <td>23</td>\n",
       "      <td>1</td>\n",
       "      <td>4</td>\n",
       "      <td>0</td>\n",
       "      <td>0</td>\n",
       "      <td>0.0</td>\n",
       "      <td>1</td>\n",
       "      <td>0</td>\n",
       "      <td>1</td>\n",
       "      <td>0.0</td>\n",
       "      <td>23</td>\n",
       "      <td>55</td>\n",
       "      <td>12</td>\n",
       "      <td>1</td>\n",
       "      <td>0</td>\n",
       "      <td>1</td>\n",
       "      <td>0.0</td>\n",
       "      <td>21</td>\n",
       "      <td>35</td>\n",
       "      <td>0</td>\n",
       "      <td>0</td>\n",
       "      <td>0</td>\n",
       "      <td>4</td>\n",
       "      <td>3</td>\n",
       "      <td>0</td>\n",
       "      <td>0</td>\n",
       "      <td>0</td>\n",
       "      <td>9</td>\n",
       "      <td>0.0</td>\n",
       "      <td>0.0</td>\n",
       "      <td>0.0</td>\n",
       "      <td>0.0</td>\n",
       "      <td>10</td>\n",
       "      <td>1</td>\n",
       "      <td>3</td>\n",
       "      <td>0</td>\n",
       "      <td>0</td>\n",
       "      <td>0</td>\n",
       "      <td>4</td>\n",
       "      <td>5</td>\n",
       "      <td>23</td>\n",
       "      <td>147</td>\n",
       "      <td>38659</td>\n",
       "      <td>2.586720</td>\n",
       "    </tr>\n",
       "  </tbody>\n",
       "</table>\n",
       "</div>"
      ],
      "text/plain": [
       "   CISP  mes  vano  ... registro_ocorrencias  pop_circ  per100k_ratio\n",
       "0     1    1  2003  ...                  578      1545      64.724919\n",
       "1     4    1  2003  ...                  441     29790       3.356831\n",
       "2     5    1  2003  ...                  637     35656       2.804577\n",
       "3     6    1  2003  ...                  473     76271       1.311114\n",
       "4     7    1  2003  ...                  147     38659       2.586720\n",
       "\n",
       "[5 rows x 64 columns]"
      ]
     },
     "execution_count": 163,
     "metadata": {
      "tags": []
     },
     "output_type": "execute_result"
    }
   ],
   "source": [
    "crimes_pop['per100k_ratio'] = 100000 / crimes_pop['pop_circ'] \n",
    "crimes_pop.head()"
   ]
  },
  {
   "cell_type": "markdown",
   "metadata": {
    "colab_type": "text",
    "id": "qJ8REYaqhk25"
   },
   "source": [
    "Dados normalizados por 100k habitantes"
   ]
  },
  {
   "cell_type": "code",
   "execution_count": 0,
   "metadata": {
    "colab": {
     "base_uri": "https://localhost:8080/",
     "height": 299
    },
    "colab_type": "code",
    "id": "roWdGWuVXQxF",
    "outputId": "434f97dd-2d6c-4231-fe3d-962b7cb0b1d7"
   },
   "outputs": [
    {
     "data": {
      "text/html": [
       "<div>\n",
       "<style scoped>\n",
       "    .dataframe tbody tr th:only-of-type {\n",
       "        vertical-align: middle;\n",
       "    }\n",
       "\n",
       "    .dataframe tbody tr th {\n",
       "        vertical-align: top;\n",
       "    }\n",
       "\n",
       "    .dataframe thead th {\n",
       "        text-align: right;\n",
       "    }\n",
       "</style>\n",
       "<table border=\"1\" class=\"dataframe\">\n",
       "  <thead>\n",
       "    <tr style=\"text-align: right;\">\n",
       "      <th></th>\n",
       "      <th>CISP</th>\n",
       "      <th>mes</th>\n",
       "      <th>vano</th>\n",
       "      <th>mes_ano</th>\n",
       "      <th>AISP</th>\n",
       "      <th>RISP</th>\n",
       "      <th>munic</th>\n",
       "      <th>mcirc</th>\n",
       "      <th>Regiao</th>\n",
       "      <th>hom_doloso</th>\n",
       "      <th>lesao_corp_morte</th>\n",
       "      <th>latrocinio</th>\n",
       "      <th>hom_por_interv_policial</th>\n",
       "      <th>tentat_hom</th>\n",
       "      <th>lesao_corp_dolosa</th>\n",
       "      <th>estupro</th>\n",
       "      <th>hom_culposo</th>\n",
       "      <th>lesao_corp_culposa</th>\n",
       "      <th>roubo_comercio</th>\n",
       "      <th>roubo_residencia</th>\n",
       "      <th>roubo_veiculo</th>\n",
       "      <th>roubo_carga</th>\n",
       "      <th>roubo_transeunte</th>\n",
       "      <th>roubo_em_coletivo</th>\n",
       "      <th>roubo_banco</th>\n",
       "      <th>roubo_cx_eletronico</th>\n",
       "      <th>roubo_celular</th>\n",
       "      <th>roubo_conducao_saque</th>\n",
       "      <th>roubo_apos_saque</th>\n",
       "      <th>roubo_bicicleta</th>\n",
       "      <th>outros_roubos</th>\n",
       "      <th>total_roubos</th>\n",
       "      <th>furto_veiculos</th>\n",
       "      <th>furto_transeunte</th>\n",
       "      <th>furto_coletivo</th>\n",
       "      <th>furto_celular</th>\n",
       "      <th>furto_bicicleta</th>\n",
       "      <th>outros_furtos</th>\n",
       "      <th>total_furtos</th>\n",
       "      <th>sequestro</th>\n",
       "      <th>extorsao</th>\n",
       "      <th>sequestro_relampago</th>\n",
       "      <th>estelionato</th>\n",
       "      <th>apreensao_drogas</th>\n",
       "      <th>posse_drogas</th>\n",
       "      <th>trafico_drogas</th>\n",
       "      <th>apreensao_drogas_sem_autor</th>\n",
       "      <th>recuperacao_veiculos</th>\n",
       "      <th>apf</th>\n",
       "      <th>aaapai</th>\n",
       "      <th>cmp</th>\n",
       "      <th>cmba</th>\n",
       "      <th>ameaca</th>\n",
       "      <th>pessoas_desaparecidas</th>\n",
       "      <th>encontro_cadaver</th>\n",
       "      <th>encontro_ossada</th>\n",
       "      <th>pol_militares_mortos_serv</th>\n",
       "      <th>pol_civis_mortos_serv</th>\n",
       "      <th>indicador_letalidade</th>\n",
       "      <th>indicador_roubo_rua</th>\n",
       "      <th>indicador_roubo_veic</th>\n",
       "      <th>registro_ocorrencias</th>\n",
       "      <th>pop_circ</th>\n",
       "      <th>per100k_ratio</th>\n",
       "    </tr>\n",
       "  </thead>\n",
       "  <tbody>\n",
       "    <tr>\n",
       "      <th>0</th>\n",
       "      <td>1</td>\n",
       "      <td>1</td>\n",
       "      <td>2003</td>\n",
       "      <td>2003m1</td>\n",
       "      <td>5</td>\n",
       "      <td>1</td>\n",
       "      <td>Rio de Janeiro</td>\n",
       "      <td>3304557</td>\n",
       "      <td>Capital</td>\n",
       "      <td>0.000000</td>\n",
       "      <td>0.0</td>\n",
       "      <td>0.0</td>\n",
       "      <td>0.0</td>\n",
       "      <td>64.724919</td>\n",
       "      <td>2588.996764</td>\n",
       "      <td>0.000000</td>\n",
       "      <td>64.724919</td>\n",
       "      <td>970.873786</td>\n",
       "      <td>906.148867</td>\n",
       "      <td>0.000000</td>\n",
       "      <td>323.624595</td>\n",
       "      <td>64.724919</td>\n",
       "      <td>1682.847896</td>\n",
       "      <td>517.799353</td>\n",
       "      <td>0.000000</td>\n",
       "      <td>0.000000</td>\n",
       "      <td>2071.197411</td>\n",
       "      <td>0.000000</td>\n",
       "      <td>647.249191</td>\n",
       "      <td>0.0</td>\n",
       "      <td>258.899676</td>\n",
       "      <td>6472.491909</td>\n",
       "      <td>776.699029</td>\n",
       "      <td>1941.747573</td>\n",
       "      <td>0.000000</td>\n",
       "      <td>2394.822006</td>\n",
       "      <td>0.0</td>\n",
       "      <td>5825.242718</td>\n",
       "      <td>10938.511327</td>\n",
       "      <td>0.0</td>\n",
       "      <td>64.724919</td>\n",
       "      <td>0.0</td>\n",
       "      <td>4466.019417</td>\n",
       "      <td>64.724919</td>\n",
       "      <td>0.0</td>\n",
       "      <td>0.0</td>\n",
       "      <td>0.0</td>\n",
       "      <td>323.624595</td>\n",
       "      <td>0.0</td>\n",
       "      <td>0.0</td>\n",
       "      <td>0.0</td>\n",
       "      <td>0.0</td>\n",
       "      <td>1359.223301</td>\n",
       "      <td>129.449838</td>\n",
       "      <td>0.000000</td>\n",
       "      <td>0.000000</td>\n",
       "      <td>0.0</td>\n",
       "      <td>0.0</td>\n",
       "      <td>0.000000</td>\n",
       "      <td>4271.844660</td>\n",
       "      <td>323.624595</td>\n",
       "      <td>37411.003236</td>\n",
       "      <td>1545</td>\n",
       "      <td>64.724919</td>\n",
       "    </tr>\n",
       "    <tr>\n",
       "      <th>1</th>\n",
       "      <td>4</td>\n",
       "      <td>1</td>\n",
       "      <td>2003</td>\n",
       "      <td>2003m1</td>\n",
       "      <td>5</td>\n",
       "      <td>1</td>\n",
       "      <td>Rio de Janeiro</td>\n",
       "      <td>3304557</td>\n",
       "      <td>Capital</td>\n",
       "      <td>10.070493</td>\n",
       "      <td>0.0</td>\n",
       "      <td>0.0</td>\n",
       "      <td>0.0</td>\n",
       "      <td>0.000000</td>\n",
       "      <td>157.771064</td>\n",
       "      <td>3.356831</td>\n",
       "      <td>13.427325</td>\n",
       "      <td>117.489090</td>\n",
       "      <td>16.784156</td>\n",
       "      <td>0.000000</td>\n",
       "      <td>30.211480</td>\n",
       "      <td>3.356831</td>\n",
       "      <td>83.920779</td>\n",
       "      <td>40.281974</td>\n",
       "      <td>0.000000</td>\n",
       "      <td>3.356831</td>\n",
       "      <td>46.995636</td>\n",
       "      <td>3.356831</td>\n",
       "      <td>10.070493</td>\n",
       "      <td>0.0</td>\n",
       "      <td>36.925143</td>\n",
       "      <td>275.260154</td>\n",
       "      <td>30.211480</td>\n",
       "      <td>140.986908</td>\n",
       "      <td>16.784156</td>\n",
       "      <td>77.207116</td>\n",
       "      <td>0.0</td>\n",
       "      <td>120.845921</td>\n",
       "      <td>386.035582</td>\n",
       "      <td>0.0</td>\n",
       "      <td>3.356831</td>\n",
       "      <td>0.0</td>\n",
       "      <td>3.356831</td>\n",
       "      <td>117.489090</td>\n",
       "      <td>0.0</td>\n",
       "      <td>0.0</td>\n",
       "      <td>0.0</td>\n",
       "      <td>23.497818</td>\n",
       "      <td>0.0</td>\n",
       "      <td>0.0</td>\n",
       "      <td>0.0</td>\n",
       "      <td>0.0</td>\n",
       "      <td>50.352467</td>\n",
       "      <td>20.140987</td>\n",
       "      <td>0.000000</td>\n",
       "      <td>3.356831</td>\n",
       "      <td>0.0</td>\n",
       "      <td>0.0</td>\n",
       "      <td>10.070493</td>\n",
       "      <td>171.198389</td>\n",
       "      <td>30.211480</td>\n",
       "      <td>1480.362538</td>\n",
       "      <td>29790</td>\n",
       "      <td>3.356831</td>\n",
       "    </tr>\n",
       "    <tr>\n",
       "      <th>2</th>\n",
       "      <td>5</td>\n",
       "      <td>1</td>\n",
       "      <td>2003</td>\n",
       "      <td>2003m1</td>\n",
       "      <td>5</td>\n",
       "      <td>1</td>\n",
       "      <td>Rio de Janeiro</td>\n",
       "      <td>3304557</td>\n",
       "      <td>Capital</td>\n",
       "      <td>8.413731</td>\n",
       "      <td>0.0</td>\n",
       "      <td>0.0</td>\n",
       "      <td>0.0</td>\n",
       "      <td>2.804577</td>\n",
       "      <td>204.734126</td>\n",
       "      <td>5.609154</td>\n",
       "      <td>2.804577</td>\n",
       "      <td>53.286964</td>\n",
       "      <td>28.045771</td>\n",
       "      <td>2.804577</td>\n",
       "      <td>30.850348</td>\n",
       "      <td>14.022885</td>\n",
       "      <td>72.919004</td>\n",
       "      <td>11.218308</td>\n",
       "      <td>5.609154</td>\n",
       "      <td>0.000000</td>\n",
       "      <td>95.355620</td>\n",
       "      <td>5.609154</td>\n",
       "      <td>11.218308</td>\n",
       "      <td>0.0</td>\n",
       "      <td>67.309850</td>\n",
       "      <td>344.962980</td>\n",
       "      <td>78.528158</td>\n",
       "      <td>117.792237</td>\n",
       "      <td>5.609154</td>\n",
       "      <td>131.815122</td>\n",
       "      <td>0.0</td>\n",
       "      <td>272.043976</td>\n",
       "      <td>605.788647</td>\n",
       "      <td>0.0</td>\n",
       "      <td>0.000000</td>\n",
       "      <td>0.0</td>\n",
       "      <td>103.769352</td>\n",
       "      <td>11.218308</td>\n",
       "      <td>0.0</td>\n",
       "      <td>0.0</td>\n",
       "      <td>0.0</td>\n",
       "      <td>28.045771</td>\n",
       "      <td>0.0</td>\n",
       "      <td>0.0</td>\n",
       "      <td>0.0</td>\n",
       "      <td>0.0</td>\n",
       "      <td>131.815122</td>\n",
       "      <td>5.609154</td>\n",
       "      <td>2.804577</td>\n",
       "      <td>0.000000</td>\n",
       "      <td>0.0</td>\n",
       "      <td>0.0</td>\n",
       "      <td>8.413731</td>\n",
       "      <td>179.492932</td>\n",
       "      <td>30.850348</td>\n",
       "      <td>1786.515593</td>\n",
       "      <td>35656</td>\n",
       "      <td>2.804577</td>\n",
       "    </tr>\n",
       "    <tr>\n",
       "      <th>3</th>\n",
       "      <td>6</td>\n",
       "      <td>1</td>\n",
       "      <td>2003</td>\n",
       "      <td>2003m1</td>\n",
       "      <td>1</td>\n",
       "      <td>1</td>\n",
       "      <td>Rio de Janeiro</td>\n",
       "      <td>3304557</td>\n",
       "      <td>Capital</td>\n",
       "      <td>7.866686</td>\n",
       "      <td>0.0</td>\n",
       "      <td>0.0</td>\n",
       "      <td>0.0</td>\n",
       "      <td>2.622229</td>\n",
       "      <td>56.377916</td>\n",
       "      <td>2.622229</td>\n",
       "      <td>1.311114</td>\n",
       "      <td>26.222286</td>\n",
       "      <td>13.111143</td>\n",
       "      <td>0.000000</td>\n",
       "      <td>35.400087</td>\n",
       "      <td>7.866686</td>\n",
       "      <td>18.355600</td>\n",
       "      <td>28.844515</td>\n",
       "      <td>0.000000</td>\n",
       "      <td>0.000000</td>\n",
       "      <td>26.222286</td>\n",
       "      <td>0.000000</td>\n",
       "      <td>7.866686</td>\n",
       "      <td>0.0</td>\n",
       "      <td>49.822344</td>\n",
       "      <td>187.489347</td>\n",
       "      <td>22.288943</td>\n",
       "      <td>5.244457</td>\n",
       "      <td>0.000000</td>\n",
       "      <td>10.488915</td>\n",
       "      <td>0.0</td>\n",
       "      <td>79.977973</td>\n",
       "      <td>118.000288</td>\n",
       "      <td>0.0</td>\n",
       "      <td>0.000000</td>\n",
       "      <td>0.0</td>\n",
       "      <td>10.488915</td>\n",
       "      <td>26.222286</td>\n",
       "      <td>0.0</td>\n",
       "      <td>0.0</td>\n",
       "      <td>0.0</td>\n",
       "      <td>100.955802</td>\n",
       "      <td>0.0</td>\n",
       "      <td>0.0</td>\n",
       "      <td>0.0</td>\n",
       "      <td>0.0</td>\n",
       "      <td>34.088972</td>\n",
       "      <td>2.622229</td>\n",
       "      <td>1.311114</td>\n",
       "      <td>0.000000</td>\n",
       "      <td>0.0</td>\n",
       "      <td>0.0</td>\n",
       "      <td>7.866686</td>\n",
       "      <td>73.422402</td>\n",
       "      <td>35.400087</td>\n",
       "      <td>620.157071</td>\n",
       "      <td>76271</td>\n",
       "      <td>1.311114</td>\n",
       "    </tr>\n",
       "    <tr>\n",
       "      <th>4</th>\n",
       "      <td>7</td>\n",
       "      <td>1</td>\n",
       "      <td>2003</td>\n",
       "      <td>2003m1</td>\n",
       "      <td>1</td>\n",
       "      <td>1</td>\n",
       "      <td>Rio de Janeiro</td>\n",
       "      <td>3304557</td>\n",
       "      <td>Capital</td>\n",
       "      <td>10.346879</td>\n",
       "      <td>0.0</td>\n",
       "      <td>0.0</td>\n",
       "      <td>0.0</td>\n",
       "      <td>5.173440</td>\n",
       "      <td>46.560956</td>\n",
       "      <td>5.173440</td>\n",
       "      <td>0.000000</td>\n",
       "      <td>5.173440</td>\n",
       "      <td>0.000000</td>\n",
       "      <td>5.173440</td>\n",
       "      <td>59.494555</td>\n",
       "      <td>2.586720</td>\n",
       "      <td>10.346879</td>\n",
       "      <td>0.000000</td>\n",
       "      <td>0.000000</td>\n",
       "      <td>0.000000</td>\n",
       "      <td>2.586720</td>\n",
       "      <td>0.000000</td>\n",
       "      <td>2.586720</td>\n",
       "      <td>0.0</td>\n",
       "      <td>59.494555</td>\n",
       "      <td>142.269588</td>\n",
       "      <td>31.040637</td>\n",
       "      <td>2.586720</td>\n",
       "      <td>0.000000</td>\n",
       "      <td>2.586720</td>\n",
       "      <td>0.0</td>\n",
       "      <td>54.321115</td>\n",
       "      <td>90.535192</td>\n",
       "      <td>0.0</td>\n",
       "      <td>0.000000</td>\n",
       "      <td>0.0</td>\n",
       "      <td>10.346879</td>\n",
       "      <td>7.760159</td>\n",
       "      <td>0.0</td>\n",
       "      <td>0.0</td>\n",
       "      <td>0.0</td>\n",
       "      <td>23.280478</td>\n",
       "      <td>0.0</td>\n",
       "      <td>0.0</td>\n",
       "      <td>0.0</td>\n",
       "      <td>0.0</td>\n",
       "      <td>25.867198</td>\n",
       "      <td>2.586720</td>\n",
       "      <td>7.760159</td>\n",
       "      <td>0.000000</td>\n",
       "      <td>0.0</td>\n",
       "      <td>0.0</td>\n",
       "      <td>10.346879</td>\n",
       "      <td>12.933599</td>\n",
       "      <td>59.494555</td>\n",
       "      <td>380.247808</td>\n",
       "      <td>38659</td>\n",
       "      <td>2.586720</td>\n",
       "    </tr>\n",
       "  </tbody>\n",
       "</table>\n",
       "</div>"
      ],
      "text/plain": [
       "   CISP  mes  vano  ... registro_ocorrencias  pop_circ  per100k_ratio\n",
       "0     1    1  2003  ...         37411.003236      1545      64.724919\n",
       "1     4    1  2003  ...          1480.362538     29790       3.356831\n",
       "2     5    1  2003  ...          1786.515593     35656       2.804577\n",
       "3     6    1  2003  ...           620.157071     76271       1.311114\n",
       "4     7    1  2003  ...           380.247808     38659       2.586720\n",
       "\n",
       "[5 rows x 64 columns]"
      ]
     },
     "execution_count": 164,
     "metadata": {
      "tags": []
     },
     "output_type": "execute_result"
    }
   ],
   "source": [
    "cols = crimes_pop.columns[9:-2]\n",
    "# cols\n",
    "data_per100k = crimes_pop.copy()\n",
    "data_per100k[cols].astype(float)\n",
    "data_per100k['posse_drogas'] = pd.to_numeric(data_per100k['posse_drogas'], errors='coerce')\n",
    "data_per100k['trafico_drogas']  = pd.to_numeric(data_per100k['trafico_drogas'], errors='coerce')\n",
    "data_per100k['apreensao_drogas_sem_autor']  = pd.to_numeric(data_per100k['apreensao_drogas_sem_autor'], errors='coerce')\n",
    "\n",
    "for c in cols:\n",
    "    data_per100k[c] = data_per100k[c] * data_per100k['per100k_ratio']\n",
    "    \n",
    "data_per100k.head(5)"
   ]
  },
  {
   "cell_type": "code",
   "execution_count": 0,
   "metadata": {
    "colab": {},
    "colab_type": "code",
    "id": "1iAZtfuQn5ck"
   },
   "outputs": [],
   "source": [
    "tmp_data = crimes_df.groupby(['munic'], as_index=False)[crimes_df.columns[9:]].sum()\n",
    "tmp_data['total_crime']= tmp_data.iloc[:, 9:].sum(axis=1)\n",
    "total_crimes_munic = tmp_data\n",
    "total_crimes_munic = total_crimes_munic.sort_values(['total_crime'], ascending=[False])\n"
   ]
  },
  {
   "cell_type": "code",
   "execution_count": 0,
   "metadata": {
    "colab": {},
    "colab_type": "code",
    "id": "tmpTidOGsgat"
   },
   "outputs": [],
   "source": [
    "tmp_data = data_per100k.groupby(['munic'], as_index=False)[ data_per100k.columns[9:]].sum()\n",
    "tmp_data['total_crime']= tmp_data.iloc[:, 9:].sum(axis=1)\n",
    "total_crimes_munic_100k = tmp_data\n",
    "total_crimes_munic_100k = total_crimes_munic_100k.sort_values(['total_crime'], ascending=[False])\n"
   ]
  },
  {
   "cell_type": "code",
   "execution_count": 0,
   "metadata": {
    "colab": {
     "base_uri": "https://localhost:8080/",
     "height": 639
    },
    "colab_type": "code",
    "id": "uEtdcrLPy7Il",
    "outputId": "df77c02e-c6cb-46da-e06f-274f7b5f6088"
   },
   "outputs": [
    {
     "data": {
      "image/png": "[encoded data removed]",
      "text/plain": [
       "<Figure size 1440x504 with 2 Axes>"
      ]
     },
     "metadata": {
      "tags": []
     },
     "output_type": "display_data"
    }
   ],
   "source": [
    "f = plt.figure(figsize=(20,7))\n",
    "\n",
    "#The below code will create two plots. The parameters that .subplot take are (row, column, no. of plots).\n",
    "plt.subplot(1,2,1)\n",
    "\n",
    "y_pos = np.arange(20)\n",
    "\n",
    "plt.bar(y_pos, total_crimes_munic['total_crime'].head(20), align='center', color = 'mediumvioletred')\n",
    "plt.xticks(y_pos, total_crimes_munic['munic'].head(20), rotation = 90)\n",
    "plt.title('Cidades com mais crimes')\n",
    "\n",
    "plt.subplot(1,2,2)\n",
    "plt.bar(y_pos, total_crimes_munic_100k['total_crime'].head(20), align='center', color = 'mediumvioletred')\n",
    "plt.xticks(y_pos, total_crimes_munic_100k['munic'].head(20), rotation = 90)\n",
    "plt.title('Cidades com mais crimes por 100k habitantes')\n",
    "\n",
    "plt.show()\n",
    "\n",
    "\n",
    "\n"
   ]
  },
  {
   "cell_type": "code",
   "execution_count": 0,
   "metadata": {
    "colab": {
     "base_uri": "https://localhost:8080/",
     "height": 556
    },
    "colab_type": "code",
    "id": "sbbIv4nmMo6C",
    "outputId": "bfebfba0-5b32-4d24-8114-15bc9b3aa08e"
   },
   "outputs": [
    {
     "data": {
      "image/png": "[encoded data removed]",
      "text/plain": [
       "<Figure size 1440x504 with 2 Axes>"
      ]
     },
     "metadata": {
      "tags": []
     },
     "output_type": "display_data"
    }
   ],
   "source": [
    "\n",
    "tmp_data = crimes_df.groupby(['Regiao'], as_index=False)[crimes_df.columns[9:]].sum()\n",
    "tmp_data['total_crime']= tmp_data.iloc[:, 9:].sum(axis=1)\n",
    "total_crimes_regiao = tmp_data\n",
    "total_crimes_regiao = total_crimes_regiao.sort_values(['total_crime'], ascending=[False])\n",
    "\n",
    "tmp_data = data_per100k.groupby(['Regiao'], as_index=False)[data_per100k.columns[9:]].sum()\n",
    "tmp_data['total_crime']= tmp_data.iloc[:, 9:].sum(axis=1)\n",
    "total_crimes_regiao_100k = tmp_data\n",
    "total_crimes_regiao_100k = total_crimes_regiao_100k.sort_values(['total_crime'], ascending=[False])\n",
    "\n",
    "f = plt.figure(figsize=(20,7))\n",
    "\n",
    "#The below code will create two plots. The parameters that .subplot take are (row, column, no. of plots).\n",
    "plt.subplot(1,2,1)\n",
    "\n",
    "y_pos = np.arange(4)\n",
    "\n",
    "plt.bar(y_pos, total_crimes_regiao['total_crime'], align='center', color = 'mediumvioletred')\n",
    "plt.xticks(y_pos,total_crimes_regiao['Regiao'], rotation = 90)\n",
    "plt.title('Região com mais crimes')\n",
    "\n",
    "plt.subplot(1,2,2)\n",
    "plt.bar(y_pos, total_crimes_regiao_100k['total_crime'], align='center', color = 'mediumvioletred')\n",
    "plt.xticks(y_pos, total_crimes_regiao_100k['Regiao'], rotation = 90)\n",
    "plt.title('Região com mais crimes por 100k habitantes')\n",
    "\n",
    "plt.show()"
   ]
  },
  {
   "cell_type": "markdown",
   "metadata": {
    "colab_type": "text",
    "id": "b-NX3eVVRkOI"
   },
   "source": [
    "Retirei colunas de texto, total_furtos e total_roubos já que é informação repetida\n",
    "\n",
    "**apf significa Auto de Prisão em Flagrante**  \n",
    "**cmp significa Cumprimento de Mandado de Prisão**\n",
    "\n",
    "Não são necessáriamente crimes, talvez seja melhor tirar para essa análise\n",
    "\n"
   ]
  },
  {
   "cell_type": "code",
   "execution_count": 0,
   "metadata": {
    "colab": {},
    "colab_type": "code",
    "id": "doD4KZnFNs8a"
   },
   "outputs": [],
   "source": [
    "delete_columns = ['apf', 'aaapai', 'cmp', 'cmba', 'recuperacao_veiculos', 'pessoas_desaparecidas', 'encontro_cadaver', 'encontro_ossada', 'pol_militares_mortos_serv', 'pol_civis_mortos_serv']\n",
    "common_crimes = crimes_df.drop(delete_columns, 1).sum(axis = 0, skipna = True)[9:-2].sort_values(ascending=False)[2:]"
   ]
  },
  {
   "cell_type": "code",
   "execution_count": 0,
   "metadata": {
    "colab": {
     "base_uri": "https://localhost:8080/",
     "height": 538
    },
    "colab_type": "code",
    "id": "4fLAP6TYPD6D",
    "outputId": "81c779fc-8c89-486b-e02c-cbe1bc583756"
   },
   "outputs": [
    {
     "data": {
      "image/png": "[encoded data removed]",
      "text/plain": [
       "<Figure size 1080x504 with 1 Axes>"
      ]
     },
     "metadata": {
      "tags": []
     },
     "output_type": "display_data"
    }
   ],
   "source": [
    "common_crimes[:20].plot.bar(color = 'mediumvioletred', figsize = (15, 7))\n",
    "\n",
    "plt.title('Tipos de crime mais comuns',fontsize = 15)\n",
    "\n",
    "plt.xticks(rotation = 90)\n",
    "plt.show()"
   ]
  },
  {
   "cell_type": "markdown",
   "metadata": {
    "colab_type": "text",
    "id": "-zHQJY2ZsuHs"
   },
   "source": [
    "Agrupando crimes por Ano e Mês"
   ]
  },
  {
   "cell_type": "code",
   "execution_count": 0,
   "metadata": {
    "colab": {
     "base_uri": "https://localhost:8080/",
     "height": 215
    },
    "colab_type": "code",
    "id": "XlCyWDvQhh6C",
    "outputId": "cfe4da3c-8a14-4236-dcf5-6741057e6e00"
   },
   "outputs": [
    {
     "data": {
      "text/html": [
       "<div>\n",
       "<style scoped>\n",
       "    .dataframe tbody tr th:only-of-type {\n",
       "        vertical-align: middle;\n",
       "    }\n",
       "\n",
       "    .dataframe tbody tr th {\n",
       "        vertical-align: top;\n",
       "    }\n",
       "\n",
       "    .dataframe thead th {\n",
       "        text-align: right;\n",
       "    }\n",
       "</style>\n",
       "<table border=\"1\" class=\"dataframe\">\n",
       "  <thead>\n",
       "    <tr style=\"text-align: right;\">\n",
       "      <th></th>\n",
       "      <th>vano</th>\n",
       "      <th>mes</th>\n",
       "      <th>hom_doloso</th>\n",
       "      <th>lesao_corp_morte</th>\n",
       "      <th>latrocinio</th>\n",
       "      <th>hom_por_interv_policial</th>\n",
       "      <th>tentat_hom</th>\n",
       "      <th>lesao_corp_dolosa</th>\n",
       "      <th>estupro</th>\n",
       "      <th>hom_culposo</th>\n",
       "      <th>lesao_corp_culposa</th>\n",
       "      <th>roubo_comercio</th>\n",
       "      <th>roubo_residencia</th>\n",
       "      <th>roubo_veiculo</th>\n",
       "      <th>roubo_carga</th>\n",
       "      <th>roubo_transeunte</th>\n",
       "      <th>roubo_em_coletivo</th>\n",
       "      <th>roubo_banco</th>\n",
       "      <th>roubo_cx_eletronico</th>\n",
       "      <th>roubo_celular</th>\n",
       "      <th>roubo_conducao_saque</th>\n",
       "      <th>roubo_apos_saque</th>\n",
       "      <th>roubo_bicicleta</th>\n",
       "      <th>outros_roubos</th>\n",
       "      <th>total_roubos</th>\n",
       "      <th>furto_veiculos</th>\n",
       "      <th>furto_transeunte</th>\n",
       "      <th>furto_coletivo</th>\n",
       "      <th>furto_celular</th>\n",
       "      <th>furto_bicicleta</th>\n",
       "      <th>outros_furtos</th>\n",
       "      <th>total_furtos</th>\n",
       "      <th>sequestro</th>\n",
       "      <th>extorsao</th>\n",
       "      <th>sequestro_relampago</th>\n",
       "      <th>estelionato</th>\n",
       "      <th>apreensao_drogas</th>\n",
       "      <th>ameaca</th>\n",
       "      <th>indicador_letalidade</th>\n",
       "      <th>indicador_roubo_rua</th>\n",
       "      <th>total_crime</th>\n",
       "    </tr>\n",
       "  </thead>\n",
       "  <tbody>\n",
       "    <tr>\n",
       "      <th>0</th>\n",
       "      <td>2003</td>\n",
       "      <td>1</td>\n",
       "      <td>589</td>\n",
       "      <td>6</td>\n",
       "      <td>20</td>\n",
       "      <td>90</td>\n",
       "      <td>365</td>\n",
       "      <td>6896</td>\n",
       "      <td>245</td>\n",
       "      <td>163</td>\n",
       "      <td>3097</td>\n",
       "      <td>589</td>\n",
       "      <td>172</td>\n",
       "      <td>3236</td>\n",
       "      <td>357</td>\n",
       "      <td>1427</td>\n",
       "      <td>658</td>\n",
       "      <td>5</td>\n",
       "      <td>1.0</td>\n",
       "      <td>966</td>\n",
       "      <td>18</td>\n",
       "      <td>210</td>\n",
       "      <td>0.0</td>\n",
       "      <td>2657</td>\n",
       "      <td>10296</td>\n",
       "      <td>1940</td>\n",
       "      <td>983</td>\n",
       "      <td>49</td>\n",
       "      <td>760</td>\n",
       "      <td>0.0</td>\n",
       "      <td>6751</td>\n",
       "      <td>10483</td>\n",
       "      <td>2</td>\n",
       "      <td>23</td>\n",
       "      <td>0</td>\n",
       "      <td>885</td>\n",
       "      <td>1003</td>\n",
       "      <td>6127</td>\n",
       "      <td>705</td>\n",
       "      <td>3051</td>\n",
       "      <td>64825.0</td>\n",
       "    </tr>\n",
       "    <tr>\n",
       "      <th>1</th>\n",
       "      <td>2003</td>\n",
       "      <td>2</td>\n",
       "      <td>583</td>\n",
       "      <td>4</td>\n",
       "      <td>12</td>\n",
       "      <td>111</td>\n",
       "      <td>361</td>\n",
       "      <td>7099</td>\n",
       "      <td>221</td>\n",
       "      <td>188</td>\n",
       "      <td>3207</td>\n",
       "      <td>720</td>\n",
       "      <td>170</td>\n",
       "      <td>3169</td>\n",
       "      <td>443</td>\n",
       "      <td>1532</td>\n",
       "      <td>691</td>\n",
       "      <td>12</td>\n",
       "      <td>0.0</td>\n",
       "      <td>963</td>\n",
       "      <td>20</td>\n",
       "      <td>234</td>\n",
       "      <td>0.0</td>\n",
       "      <td>2680</td>\n",
       "      <td>10634</td>\n",
       "      <td>1732</td>\n",
       "      <td>858</td>\n",
       "      <td>53</td>\n",
       "      <td>648</td>\n",
       "      <td>0.0</td>\n",
       "      <td>7044</td>\n",
       "      <td>10335</td>\n",
       "      <td>3</td>\n",
       "      <td>29</td>\n",
       "      <td>0</td>\n",
       "      <td>802</td>\n",
       "      <td>1159</td>\n",
       "      <td>6047</td>\n",
       "      <td>710</td>\n",
       "      <td>3186</td>\n",
       "      <td>65660.0</td>\n",
       "    </tr>\n",
       "    <tr>\n",
       "      <th>2</th>\n",
       "      <td>2003</td>\n",
       "      <td>3</td>\n",
       "      <td>613</td>\n",
       "      <td>5</td>\n",
       "      <td>16</td>\n",
       "      <td>113</td>\n",
       "      <td>332</td>\n",
       "      <td>6968</td>\n",
       "      <td>236</td>\n",
       "      <td>188</td>\n",
       "      <td>2993</td>\n",
       "      <td>640</td>\n",
       "      <td>178</td>\n",
       "      <td>2923</td>\n",
       "      <td>310</td>\n",
       "      <td>1537</td>\n",
       "      <td>683</td>\n",
       "      <td>8</td>\n",
       "      <td>1.0</td>\n",
       "      <td>982</td>\n",
       "      <td>33</td>\n",
       "      <td>189</td>\n",
       "      <td>0.0</td>\n",
       "      <td>2492</td>\n",
       "      <td>9976</td>\n",
       "      <td>1833</td>\n",
       "      <td>943</td>\n",
       "      <td>55</td>\n",
       "      <td>647</td>\n",
       "      <td>0.0</td>\n",
       "      <td>7498</td>\n",
       "      <td>10976</td>\n",
       "      <td>0</td>\n",
       "      <td>30</td>\n",
       "      <td>0</td>\n",
       "      <td>821</td>\n",
       "      <td>1133</td>\n",
       "      <td>5793</td>\n",
       "      <td>747</td>\n",
       "      <td>3202</td>\n",
       "      <td>65094.0</td>\n",
       "    </tr>\n",
       "    <tr>\n",
       "      <th>3</th>\n",
       "      <td>2003</td>\n",
       "      <td>4</td>\n",
       "      <td>585</td>\n",
       "      <td>11</td>\n",
       "      <td>14</td>\n",
       "      <td>125</td>\n",
       "      <td>297</td>\n",
       "      <td>6441</td>\n",
       "      <td>215</td>\n",
       "      <td>207</td>\n",
       "      <td>3083</td>\n",
       "      <td>702</td>\n",
       "      <td>169</td>\n",
       "      <td>2966</td>\n",
       "      <td>303</td>\n",
       "      <td>1529</td>\n",
       "      <td>624</td>\n",
       "      <td>10</td>\n",
       "      <td>0.0</td>\n",
       "      <td>1007</td>\n",
       "      <td>37</td>\n",
       "      <td>232</td>\n",
       "      <td>0.0</td>\n",
       "      <td>2643</td>\n",
       "      <td>10222</td>\n",
       "      <td>1694</td>\n",
       "      <td>780</td>\n",
       "      <td>57</td>\n",
       "      <td>540</td>\n",
       "      <td>0.0</td>\n",
       "      <td>7338</td>\n",
       "      <td>10409</td>\n",
       "      <td>3</td>\n",
       "      <td>41</td>\n",
       "      <td>0</td>\n",
       "      <td>819</td>\n",
       "      <td>1061</td>\n",
       "      <td>5626</td>\n",
       "      <td>735</td>\n",
       "      <td>3160</td>\n",
       "      <td>63685.0</td>\n",
       "    </tr>\n",
       "    <tr>\n",
       "      <th>4</th>\n",
       "      <td>2003</td>\n",
       "      <td>5</td>\n",
       "      <td>599</td>\n",
       "      <td>6</td>\n",
       "      <td>20</td>\n",
       "      <td>96</td>\n",
       "      <td>381</td>\n",
       "      <td>5843</td>\n",
       "      <td>189</td>\n",
       "      <td>228</td>\n",
       "      <td>3282</td>\n",
       "      <td>712</td>\n",
       "      <td>188</td>\n",
       "      <td>3167</td>\n",
       "      <td>345</td>\n",
       "      <td>1558</td>\n",
       "      <td>663</td>\n",
       "      <td>3</td>\n",
       "      <td>1.0</td>\n",
       "      <td>1072</td>\n",
       "      <td>26</td>\n",
       "      <td>273</td>\n",
       "      <td>0.0</td>\n",
       "      <td>2867</td>\n",
       "      <td>10875</td>\n",
       "      <td>1805</td>\n",
       "      <td>812</td>\n",
       "      <td>57</td>\n",
       "      <td>554</td>\n",
       "      <td>0.0</td>\n",
       "      <td>7186</td>\n",
       "      <td>10414</td>\n",
       "      <td>2</td>\n",
       "      <td>57</td>\n",
       "      <td>0</td>\n",
       "      <td>874</td>\n",
       "      <td>1019</td>\n",
       "      <td>5436</td>\n",
       "      <td>721</td>\n",
       "      <td>3293</td>\n",
       "      <td>64624.0</td>\n",
       "    </tr>\n",
       "  </tbody>\n",
       "</table>\n",
       "</div>"
      ],
      "text/plain": [
       "   vano  mes  ...  indicador_roubo_rua  total_crime\n",
       "0  2003    1  ...                 3051      64825.0\n",
       "1  2003    2  ...                 3186      65660.0\n",
       "2  2003    3  ...                 3202      65094.0\n",
       "3  2003    4  ...                 3160      63685.0\n",
       "4  2003    5  ...                 3293      64624.0\n",
       "\n",
       "[5 rows x 41 columns]"
      ]
     },
     "execution_count": 28,
     "metadata": {
      "tags": []
     },
     "output_type": "execute_result"
    }
   ],
   "source": [
    "delete_columns = ['CISP', 'mes_ano', 'AISP', 'RISP', 'munic', 'mcirc', 'apf', 'Regiao','aaapai', 'cmp', 'cmba', 'recuperacao_veiculos', 'pessoas_desaparecidas', 'encontro_cadaver', 'encontro_ossada', 'pol_militares_mortos_serv', 'pol_civis_mortos_serv']\n",
    "\n",
    "tmp_data = crimes_df.drop(delete_columns, 1)\n",
    "tmp_data = tmp_data[tmp_data.columns[:-2]]\n",
    "\n",
    "tmp_data = tmp_data.groupby(['vano', 'mes'], as_index=False)[tmp_data.columns[2:]].sum()\n",
    "tmp_data['total_crime']= tmp_data.iloc[:, 2:].sum(axis=1)\n",
    "total_crimes = tmp_data\n",
    "total_crimes.head()"
   ]
  },
  {
   "cell_type": "code",
   "execution_count": 0,
   "metadata": {
    "colab": {
     "base_uri": "https://localhost:8080/",
     "height": 585
    },
    "colab_type": "code",
    "id": "eaHFI4TauhyL",
    "outputId": "ab685684-420e-4ed9-e11d-5b929e4e8c98"
   },
   "outputs": [
    {
     "data": {
      "image/png": "[encoded data removed]",
      "text/plain": [
       "<Figure size 432x576 with 2 Axes>"
      ]
     },
     "metadata": {
      "tags": []
     },
     "output_type": "display_data"
    }
   ],
   "source": [
    "years = total_crimes['vano'].drop_duplicates()\n",
    "months = total_crimes['mes'].drop_duplicates()\n",
    "\n",
    "tmp_array = np.array(total_crimes['total_crime'])\n",
    "tmp_array = np.append(tmp_array, [0,0,0,0])  # faltam 4 meses para 2019, preenchi com 0s\n",
    "tmp_array = np.array(tmp_array).reshape(17,12)\n",
    "\n",
    "extent = (0, tmp_array.shape[1], tmp_array.shape[0], 0)\n",
    "\n",
    "fig, ax = plt.subplots(figsize=(6,8))\n",
    "im = ax.imshow(tmp_array, aspect='auto', extent=extent, cmap = 'GnBu')\n",
    "\n",
    "ax = plt.gca()\n",
    "\n",
    "ax.grid(color='w', linewidth=1)\n",
    "ax.set_frame_on(False)\n",
    "\n",
    "ax.set_xticks(np.arange(len(months)))\n",
    "ax.set_yticks(np.arange(len(years)))\n",
    "\n",
    "ax.set_xticklabels(months)\n",
    "ax.set_yticklabels(years)\n",
    "\n",
    "plt.title(\"Crimes ao longo dos anos\")\n",
    "plt.colorbar(im)\n",
    "\n",
    "fig.tight_layout()\n",
    "plt.show()"
   ]
  },
  {
   "cell_type": "markdown",
   "metadata": {
    "colab_type": "text",
    "id": "igfX_WkvIIv2"
   },
   "source": [
    "**Outlier em Fevereiro de 2017**  \n",
    "Motivo?"
   ]
  },
  {
   "cell_type": "code",
   "execution_count": 0,
   "metadata": {
    "colab": {
     "base_uri": "https://localhost:8080/",
     "height": 585
    },
    "colab_type": "code",
    "id": "LYo9imRKI8RN",
    "outputId": "5db082d1-1257-4aea-c2e3-bda3eacb8356"
   },
   "outputs": [
    {
     "data": {
      "image/png": "[encoded data removed]",
      "text/plain": [
       "<Figure size 432x576 with 2 Axes>"
      ]
     },
     "metadata": {
      "tags": []
     },
     "output_type": "display_data"
    }
   ],
   "source": [
    "tmp_array = np.array(total_crimes['hom_doloso'])\n",
    "tmp_array = np.append(tmp_array, [0,0,0,0])  # faltam 4 meses para 2019, preenchi com 0s\n",
    "tmp_array = np.array(tmp_array).reshape(17,12)\n",
    "\n",
    "extent = (0, tmp_array.shape[1], tmp_array.shape[0], 0)\n",
    "\n",
    "fig, ax = plt.subplots(figsize=(6,8))\n",
    "im = ax.imshow(tmp_array, aspect='auto', extent=extent, cmap = 'GnBu')\n",
    "\n",
    "ax = plt.gca()\n",
    "\n",
    "ax.grid(color='w', linewidth=1)\n",
    "ax.set_frame_on(False)\n",
    "\n",
    "ax.set_xticks(np.arange(len(months)))\n",
    "ax.set_yticks(np.arange(len(years)))\n",
    "\n",
    "ax.set_xticklabels(months)\n",
    "ax.set_yticklabels(years)\n",
    "\n",
    "plt.title(\"Homicídio ao longo dos anos\")\n",
    "plt.colorbar(im)\n",
    "\n",
    "fig.tight_layout()\n",
    "plt.show()"
   ]
  },
  {
   "cell_type": "markdown",
   "metadata": {
    "colab_type": "text",
    "id": "VjQ1C5Y3LN6I"
   },
   "source": [
    "**Homicídios dimunindo com o tempo.**\n",
    "Motivo?"
   ]
  },
  {
   "cell_type": "code",
   "execution_count": 0,
   "metadata": {
    "colab": {
     "base_uri": "https://localhost:8080/",
     "height": 585
    },
    "colab_type": "code",
    "id": "cLW9ur1vLR7X",
    "outputId": "25b7a935-a90b-4d8d-c3c9-357a1522aa08"
   },
   "outputs": [
    {
     "data": {
      "image/png": "[encoded data removed]",
      "text/plain": [
       "<Figure size 432x576 with 2 Axes>"
      ]
     },
     "metadata": {
      "tags": []
     },
     "output_type": "display_data"
    }
   ],
   "source": [
    "tmp_array = np.array(total_crimes['total_roubos'])\n",
    "tmp_array = np.append(tmp_array, [0,0,0,0])  # faltam 4 meses para 2019, preenchi com 0s\n",
    "tmp_array = np.array(tmp_array).reshape(17,12)\n",
    "\n",
    "extent = (0, tmp_array.shape[1], tmp_array.shape[0], 0)\n",
    "\n",
    "fig, ax = plt.subplots(figsize=(6,8))\n",
    "im = ax.imshow(tmp_array, aspect='auto', extent=extent, cmap = 'GnBu')\n",
    "\n",
    "ax = plt.gca()\n",
    "\n",
    "ax.grid(color='w', linewidth=1)\n",
    "ax.set_frame_on(False)\n",
    "\n",
    "ax.set_xticks(np.arange(len(months)))\n",
    "ax.set_yticks(np.arange(len(years)))\n",
    "\n",
    "ax.set_xticklabels(months)\n",
    "ax.set_yticklabels(years)\n",
    "\n",
    "plt.title(\"Roubos ao longo dos anos\")\n",
    "plt.colorbar(im)\n",
    "\n",
    "fig.tight_layout()\n",
    "plt.show()"
   ]
  },
  {
   "cell_type": "code",
   "execution_count": 14,
   "metadata": {
    "colab": {
     "base_uri": "https://localhost:8080/",
     "height": 212
    },
    "colab_type": "code",
    "id": "eA02aoZpott_",
    "outputId": "f8eaa4d4-34ad-45e1-9ea9-3fec1d9f7cb1"
   },
   "outputs": [
    {
     "ename": "NameError",
     "evalue": "ignored",
     "output_type": "error",
     "traceback": [
      "\u001b[0;31m---------------------------------------------------------------------------\u001b[0m",
      "\u001b[0;31mNameError\u001b[0m                                 Traceback (most recent call last)",
      "\u001b[0;32m<ipython-input-14-8699a0e83730>\u001b[0m in \u001b[0;36m<module>\u001b[0;34m()\u001b[0m\n\u001b[0;32m----> 1\u001b[0;31m \u001b[0mcrimes_2019\u001b[0m \u001b[0;34m=\u001b[0m \u001b[0mcrimes_pop\u001b[0m\u001b[0;34m.\u001b[0m\u001b[0mloc\u001b[0m\u001b[0;34m[\u001b[0m\u001b[0mcrimes_pop\u001b[0m\u001b[0;34m[\u001b[0m\u001b[0;34m'vano'\u001b[0m\u001b[0;34m]\u001b[0m \u001b[0;34m==\u001b[0m \u001b[0;36m2019\u001b[0m\u001b[0;34m]\u001b[0m\u001b[0;34m\u001b[0m\u001b[0;34m\u001b[0m\u001b[0m\n\u001b[0m\u001b[1;32m      2\u001b[0m \u001b[0mcrimes_2018\u001b[0m \u001b[0;34m=\u001b[0m \u001b[0mcrimes_pop\u001b[0m\u001b[0;34m.\u001b[0m\u001b[0mloc\u001b[0m\u001b[0;34m[\u001b[0m\u001b[0mcrimes_pop\u001b[0m\u001b[0;34m[\u001b[0m\u001b[0;34m'vano'\u001b[0m\u001b[0;34m]\u001b[0m \u001b[0;34m==\u001b[0m \u001b[0;36m2018\u001b[0m\u001b[0;34m]\u001b[0m\u001b[0;34m\u001b[0m\u001b[0;34m\u001b[0m\u001b[0m\n\u001b[1;32m      3\u001b[0m \u001b[0mcrimes_2017\u001b[0m \u001b[0;34m=\u001b[0m \u001b[0mcrimes_pop\u001b[0m\u001b[0;34m.\u001b[0m\u001b[0mloc\u001b[0m\u001b[0;34m[\u001b[0m\u001b[0mcrimes_pop\u001b[0m\u001b[0;34m[\u001b[0m\u001b[0;34m'vano'\u001b[0m\u001b[0;34m]\u001b[0m \u001b[0;34m==\u001b[0m \u001b[0;36m2017\u001b[0m\u001b[0;34m]\u001b[0m\u001b[0;34m\u001b[0m\u001b[0;34m\u001b[0m\u001b[0m\n\u001b[1;32m      4\u001b[0m \u001b[0mcrimes_2016\u001b[0m \u001b[0;34m=\u001b[0m \u001b[0mcrimes_pop\u001b[0m\u001b[0;34m.\u001b[0m\u001b[0mloc\u001b[0m\u001b[0;34m[\u001b[0m\u001b[0mcrimes_pop\u001b[0m\u001b[0;34m[\u001b[0m\u001b[0;34m'vano'\u001b[0m\u001b[0;34m]\u001b[0m \u001b[0;34m==\u001b[0m \u001b[0;36m2016\u001b[0m\u001b[0;34m]\u001b[0m\u001b[0;34m\u001b[0m\u001b[0;34m\u001b[0m\u001b[0m\n",
      "\u001b[0;31mNameError\u001b[0m: name 'crimes_pop' is not defined"
     ]
    }
   ],
   "source": [
    "crimes_2019 = crimes_pop.loc[crimes_pop['vano'] == 2019]\n",
    "crimes_2018 = crimes_pop.loc[crimes_pop['vano'] == 2018]\n",
    "crimes_2017 = crimes_pop.loc[crimes_pop['vano'] == 2017]\n",
    "crimes_2016 = crimes_pop.loc[crimes_pop['vano'] == 2016]"
   ]
  },
  {
   "cell_type": "code",
   "execution_count": 0,
   "metadata": {
    "colab": {
     "base_uri": "https://localhost:8080/",
     "height": 614
    },
    "colab_type": "code",
    "id": "0Pc42OMmfFTF",
    "outputId": "b83d8ebc-3f1c-4071-b269-3dd5de2efc07"
   },
   "outputs": [
    {
     "data": {
      "text/plain": [
       "<Figure size 432x288 with 0 Axes>"
      ]
     },
     "metadata": {
      "tags": []
     },
     "output_type": "display_data"
    },
    {
     "data": {
      "image/png": "[encoded data removed]",
      "text/plain": [
       "<Figure size 720x720 with 4 Axes>"
      ]
     },
     "metadata": {
      "tags": []
     },
     "output_type": "display_data"
    }
   ],
   "source": [
    "furtos = crimes_2019['total_furtos']\n",
    "roubos = crimes_2019['total_roubos']\n",
    "homicidio_dol = crimes_2019['hom_doloso']\n",
    "ocorrencias = crimes_2019['registro_ocorrencias']\n",
    "pop = crimes_2019['pop_circ']\n",
    "\n",
    "f = plt.figure()    \n",
    "f, axes = plt.subplots(nrows = 2, ncols = 2, sharex=True, sharey = True, figsize=(10,10))\n",
    "\n",
    "axes[0][0].scatter(pop, furtos, s= 0.8)\n",
    "axes[0][0].set_ylabel('Furtos', labelpad = 5)\n",
    "\n",
    "axes[0][1].scatter(pop, roubos, s= 0.8)\n",
    "axes[0][1].set_ylabel('Roubos', labelpad = 5)\n",
    "\n",
    "axes[1][0].scatter(pop, homicidio_dol, s= 0.8)\n",
    "axes[1][0].set_ylabel('Homicidio Doloso')\n",
    "\n",
    "axes[1][1].scatter(pop, ocorrencias, s= 0.8)\n",
    "axes[1][1].set_ylabel('Ocorrências')\n",
    "\n",
    "plt.show()"
   ]
  },
  {
   "cell_type": "markdown",
   "metadata": {
    "colab_type": "text",
    "id": "P8p4J4fChxon"
   },
   "source": [
    "Depois seria legal fazer um scatter da soma de todos os crimes por população"
   ]
  },
  {
   "cell_type": "markdown",
   "metadata": {
    "colab_type": "text",
    "id": "lIpaMeNnL5eq"
   },
   "source": [
    "## Começando a trabalhar com o dataset de Feminícidio"
   ]
  },
  {
   "cell_type": "code",
   "execution_count": 0,
   "metadata": {
    "colab": {},
    "colab_type": "code",
    "id": "aCrDZq0_AMEd"
   },
   "outputs": [],
   "source": [
    "feminicidio_df.rename(columns={\"cisp\": \"CISP\"}, inplace=True)"
   ]
  },
  {
   "cell_type": "markdown",
   "metadata": {
    "colab_type": "text",
    "id": "L8rMtz6t9HcR"
   },
   "source": [
    "* base de dados começa em 10/2016 \n",
    "termina em 08/2019\n",
    "* não há valores null\n"
   ]
  },
  {
   "cell_type": "code",
   "execution_count": 0,
   "metadata": {
    "colab": {
     "base_uri": "https://localhost:8080/",
     "height": 195
    },
    "colab_type": "code",
    "id": "zO1jsbKSpeM7",
    "outputId": "91ce5993-7bc1-42df-d29a-0f55d6c276cf"
   },
   "outputs": [
    {
     "data": {
      "text/html": [
       "<div>\n",
       "<style scoped>\n",
       "    .dataframe tbody tr th:only-of-type {\n",
       "        vertical-align: middle;\n",
       "    }\n",
       "\n",
       "    .dataframe tbody tr th {\n",
       "        vertical-align: top;\n",
       "    }\n",
       "\n",
       "    .dataframe thead th {\n",
       "        text-align: right;\n",
       "    }\n",
       "</style>\n",
       "<table border=\"1\" class=\"dataframe\">\n",
       "  <thead>\n",
       "    <tr style=\"text-align: right;\">\n",
       "      <th></th>\n",
       "      <th>CISP</th>\n",
       "      <th>vano</th>\n",
       "      <th>mes</th>\n",
       "      <th>feminicidio</th>\n",
       "      <th>feminicidio_tentativa</th>\n",
       "      <th>FASE</th>\n",
       "    </tr>\n",
       "  </thead>\n",
       "  <tbody>\n",
       "    <tr>\n",
       "      <th>0</th>\n",
       "      <td>1</td>\n",
       "      <td>2016</td>\n",
       "      <td>10</td>\n",
       "      <td>0</td>\n",
       "      <td>0</td>\n",
       "      <td>3</td>\n",
       "    </tr>\n",
       "    <tr>\n",
       "      <th>1</th>\n",
       "      <td>4</td>\n",
       "      <td>2016</td>\n",
       "      <td>10</td>\n",
       "      <td>0</td>\n",
       "      <td>0</td>\n",
       "      <td>3</td>\n",
       "    </tr>\n",
       "    <tr>\n",
       "      <th>2</th>\n",
       "      <td>5</td>\n",
       "      <td>2016</td>\n",
       "      <td>10</td>\n",
       "      <td>0</td>\n",
       "      <td>0</td>\n",
       "      <td>3</td>\n",
       "    </tr>\n",
       "    <tr>\n",
       "      <th>3</th>\n",
       "      <td>6</td>\n",
       "      <td>2016</td>\n",
       "      <td>10</td>\n",
       "      <td>0</td>\n",
       "      <td>1</td>\n",
       "      <td>3</td>\n",
       "    </tr>\n",
       "    <tr>\n",
       "      <th>4</th>\n",
       "      <td>7</td>\n",
       "      <td>2016</td>\n",
       "      <td>10</td>\n",
       "      <td>0</td>\n",
       "      <td>0</td>\n",
       "      <td>3</td>\n",
       "    </tr>\n",
       "  </tbody>\n",
       "</table>\n",
       "</div>"
      ],
      "text/plain": [
       "   CISP  vano  mes  feminicidio  feminicidio_tentativa  FASE\n",
       "0     1  2016   10            0                      0     3\n",
       "1     4  2016   10            0                      0     3\n",
       "2     5  2016   10            0                      0     3\n",
       "3     6  2016   10            0                      1     3\n",
       "4     7  2016   10            0                      0     3"
      ]
     },
     "execution_count": 51,
     "metadata": {
      "tags": []
     },
     "output_type": "execute_result"
    }
   ],
   "source": [
    "feminicidio_df.head()"
   ]
  },
  {
   "cell_type": "code",
   "execution_count": 0,
   "metadata": {
    "colab": {
     "base_uri": "https://localhost:8080/",
     "height": 134
    },
    "colab_type": "code",
    "id": "y4ynN6Pxm5Qq",
    "outputId": "a2abb4b6-9301-4ec5-8aa5-e4f2deda715a"
   },
   "outputs": [
    {
     "data": {
      "text/plain": [
       "CISP                     0\n",
       "vano                     0\n",
       "mes                      0\n",
       "feminicidio              0\n",
       "feminicidio_tentativa    0\n",
       "FASE                     0\n",
       "dtype: int64"
      ]
     },
     "execution_count": 52,
     "metadata": {
      "tags": []
     },
     "output_type": "execute_result"
    }
   ],
   "source": [
    "feminicidio_df.isnull().sum()"
   ]
  },
  {
   "cell_type": "code",
   "execution_count": 0,
   "metadata": {
    "colab": {},
    "colab_type": "code",
    "id": "7HEHTJRkrRX4"
   },
   "outputs": [],
   "source": [
    "sum_perano_fem = feminicidio_df.groupby(['vano']).sum()"
   ]
  },
  {
   "cell_type": "markdown",
   "metadata": {
    "colab_type": "text",
    "id": "9QvXXDanRa6R"
   },
   "source": [
    "#### queria plotar esses 2 graficos abaixo juntos"
   ]
  },
  {
   "cell_type": "code",
   "execution_count": 0,
   "metadata": {
    "colab": {
     "base_uri": "https://localhost:8080/",
     "height": 491
    },
    "colab_type": "code",
    "id": "GRlkmFGMPMSE",
    "outputId": "050c527f-3f2e-43aa-fa27-b753e9f00989"
   },
   "outputs": [
    {
     "data": {
      "text/plain": [
       "<matplotlib.axes._subplots.AxesSubplot at 0x7fbc86fd3588>"
      ]
     },
     "execution_count": 54,
     "metadata": {
      "tags": []
     },
     "output_type": "execute_result"
    },
    {
     "data": {
      "image/png": "[encoded data removed]",
      "text/plain": [
       "<Figure size 1080x504 with 1 Axes>"
      ]
     },
     "metadata": {
      "tags": []
     },
     "output_type": "display_data"
    }
   ],
   "source": [
    "# queria plotar esses 2 graficos abaixo juntos\n",
    "sum_perano_fem['feminicidio_tentativa'].plot.bar(color = 'mediumvioletred', figsize = (15, 7))"
   ]
  },
  {
   "cell_type": "code",
   "execution_count": 0,
   "metadata": {
    "colab": {
     "base_uri": "https://localhost:8080/",
     "height": 488
    },
    "colab_type": "code",
    "id": "QX8BPpCkQL1g",
    "outputId": "70226477-51df-4a07-86f9-3f61a19e43b0"
   },
   "outputs": [
    {
     "data": {
      "text/plain": [
       "<matplotlib.axes._subplots.AxesSubplot at 0x7fbc87077390>"
      ]
     },
     "execution_count": 55,
     "metadata": {
      "tags": []
     },
     "output_type": "execute_result"
    },
    {
     "data": {
      "image/png": "[encoded data removed]",
      "text/plain": [
       "<Figure size 1080x504 with 1 Axes>"
      ]
     },
     "metadata": {
      "tags": []
     },
     "output_type": "display_data"
    }
   ],
   "source": [
    "sum_perano_fem['feminicidio'].plot.bar(color = 'mediumvioletred', figsize = (15, 7))"
   ]
  },
  {
   "cell_type": "code",
   "execution_count": 0,
   "metadata": {
    "colab": {},
    "colab_type": "code",
    "id": "HhAozLS63_q1"
   },
   "outputs": [],
   "source": [
    "def mode(a):\n",
    "    u, c = np.unique(a, return_counts=True)\n",
    "    return u[c.argmax()]"
   ]
  },
  {
   "cell_type": "code",
   "execution_count": 0,
   "metadata": {
    "colab": {
     "base_uri": "https://localhost:8080/",
     "height": 118
    },
    "colab_type": "code",
    "id": "JQJ05VmY0hvH",
    "outputId": "3fd360be-7921-4148-ff2a-f43cbe1ddb15"
   },
   "outputs": [
    {
     "data": {
      "text/plain": [
       "vano\n",
       "2016    0\n",
       "2017    0\n",
       "2018    0\n",
       "2019    0\n",
       "dtype: int64"
      ]
     },
     "execution_count": 57,
     "metadata": {
      "tags": []
     },
     "output_type": "execute_result"
    }
   ],
   "source": [
    "feminicidio_df.groupby(['vano']).apply(mode)"
   ]
  },
  {
   "cell_type": "code",
   "execution_count": 0,
   "metadata": {
    "colab": {},
    "colab_type": "code",
    "id": "M-mRrvKM1Mf9"
   },
   "outputs": [],
   "source": [
    "fem_2019 = feminicidio_df.loc[feminicidio_df['vano'] == 2019]\n",
    "fem_2018 = feminicidio_df.loc[feminicidio_df['vano'] == 2018]\n",
    "fem_2017 = feminicidio_df.loc[feminicidio_df['vano'] == 2017]\n",
    "fem_2016 = feminicidio_df.loc[feminicidio_df['vano'] == 2016]"
   ]
  },
  {
   "cell_type": "code",
   "execution_count": 0,
   "metadata": {
    "colab": {
     "base_uri": "https://localhost:8080/",
     "height": 195
    },
    "colab_type": "code",
    "id": "ExnAnTMh7NdN",
    "outputId": "47270cd5-7cfd-4cae-dbe0-b7bc972e7b1e"
   },
   "outputs": [
    {
     "data": {
      "text/html": [
       "<div>\n",
       "<style scoped>\n",
       "    .dataframe tbody tr th:only-of-type {\n",
       "        vertical-align: middle;\n",
       "    }\n",
       "\n",
       "    .dataframe tbody tr th {\n",
       "        vertical-align: top;\n",
       "    }\n",
       "\n",
       "    .dataframe thead th {\n",
       "        text-align: right;\n",
       "    }\n",
       "</style>\n",
       "<table border=\"1\" class=\"dataframe\">\n",
       "  <thead>\n",
       "    <tr style=\"text-align: right;\">\n",
       "      <th></th>\n",
       "      <th>CISP</th>\n",
       "      <th>vano</th>\n",
       "      <th>mes</th>\n",
       "      <th>feminicidio</th>\n",
       "      <th>feminicidio_tentativa</th>\n",
       "      <th>FASE</th>\n",
       "    </tr>\n",
       "  </thead>\n",
       "  <tbody>\n",
       "    <tr>\n",
       "      <th>0</th>\n",
       "      <td>1</td>\n",
       "      <td>2016</td>\n",
       "      <td>10</td>\n",
       "      <td>0</td>\n",
       "      <td>0</td>\n",
       "      <td>3</td>\n",
       "    </tr>\n",
       "    <tr>\n",
       "      <th>1</th>\n",
       "      <td>4</td>\n",
       "      <td>2016</td>\n",
       "      <td>10</td>\n",
       "      <td>0</td>\n",
       "      <td>0</td>\n",
       "      <td>3</td>\n",
       "    </tr>\n",
       "    <tr>\n",
       "      <th>2</th>\n",
       "      <td>5</td>\n",
       "      <td>2016</td>\n",
       "      <td>10</td>\n",
       "      <td>0</td>\n",
       "      <td>0</td>\n",
       "      <td>3</td>\n",
       "    </tr>\n",
       "    <tr>\n",
       "      <th>3</th>\n",
       "      <td>6</td>\n",
       "      <td>2016</td>\n",
       "      <td>10</td>\n",
       "      <td>0</td>\n",
       "      <td>1</td>\n",
       "      <td>3</td>\n",
       "    </tr>\n",
       "    <tr>\n",
       "      <th>4</th>\n",
       "      <td>7</td>\n",
       "      <td>2016</td>\n",
       "      <td>10</td>\n",
       "      <td>0</td>\n",
       "      <td>0</td>\n",
       "      <td>3</td>\n",
       "    </tr>\n",
       "  </tbody>\n",
       "</table>\n",
       "</div>"
      ],
      "text/plain": [
       "   CISP  vano  mes  feminicidio  feminicidio_tentativa  FASE\n",
       "0     1  2016   10            0                      0     3\n",
       "1     4  2016   10            0                      0     3\n",
       "2     5  2016   10            0                      0     3\n",
       "3     6  2016   10            0                      1     3\n",
       "4     7  2016   10            0                      0     3"
      ]
     },
     "execution_count": 59,
     "metadata": {
      "tags": []
     },
     "output_type": "execute_result"
    }
   ],
   "source": [
    "fem_2016.head()"
   ]
  },
  {
   "cell_type": "markdown",
   "metadata": {
    "colab_type": "text",
    "id": "oIikeDfbRoem"
   },
   "source": [
    "#### seria legal plotar um gráfico com 4 barrinhas (ou 2 pq só 2017 e 2018 tao completos) pra ver a evolução de feminicidio por mes por ano pra ver se tem uma tendencia mensal ao longo dos anos"
   ]
  },
  {
   "cell_type": "code",
   "execution_count": 0,
   "metadata": {
    "colab": {
     "base_uri": "https://localhost:8080/",
     "height": 166
    },
    "colab_type": "code",
    "id": "vBUaMIjB6nCe",
    "outputId": "ae7d3412-6556-43cd-cabd-45a0b031e43e"
   },
   "outputs": [
    {
     "data": {
      "text/html": [
       "<div>\n",
       "<style scoped>\n",
       "    .dataframe tbody tr th:only-of-type {\n",
       "        vertical-align: middle;\n",
       "    }\n",
       "\n",
       "    .dataframe tbody tr th {\n",
       "        vertical-align: top;\n",
       "    }\n",
       "\n",
       "    .dataframe thead th {\n",
       "        text-align: right;\n",
       "    }\n",
       "</style>\n",
       "<table border=\"1\" class=\"dataframe\">\n",
       "  <thead>\n",
       "    <tr style=\"text-align: right;\">\n",
       "      <th></th>\n",
       "      <th>CISP</th>\n",
       "      <th>vano</th>\n",
       "      <th>feminicidio</th>\n",
       "      <th>feminicidio_tentativa</th>\n",
       "      <th>FASE</th>\n",
       "    </tr>\n",
       "    <tr>\n",
       "      <th>mes</th>\n",
       "      <th></th>\n",
       "      <th></th>\n",
       "      <th></th>\n",
       "      <th></th>\n",
       "      <th></th>\n",
       "    </tr>\n",
       "  </thead>\n",
       "  <tbody>\n",
       "    <tr>\n",
       "      <th>10</th>\n",
       "      <td>11246</td>\n",
       "      <td>278208</td>\n",
       "      <td>2</td>\n",
       "      <td>10</td>\n",
       "      <td>414</td>\n",
       "    </tr>\n",
       "    <tr>\n",
       "      <th>11</th>\n",
       "      <td>11246</td>\n",
       "      <td>278208</td>\n",
       "      <td>10</td>\n",
       "      <td>22</td>\n",
       "      <td>414</td>\n",
       "    </tr>\n",
       "    <tr>\n",
       "      <th>12</th>\n",
       "      <td>11246</td>\n",
       "      <td>278208</td>\n",
       "      <td>4</td>\n",
       "      <td>21</td>\n",
       "      <td>414</td>\n",
       "    </tr>\n",
       "  </tbody>\n",
       "</table>\n",
       "</div>"
      ],
      "text/plain": [
       "      CISP    vano  feminicidio  feminicidio_tentativa  FASE\n",
       "mes                                                         \n",
       "10   11246  278208            2                     10   414\n",
       "11   11246  278208           10                     22   414\n",
       "12   11246  278208            4                     21   414"
      ]
     },
     "execution_count": 60,
     "metadata": {
      "tags": []
     },
     "output_type": "execute_result"
    }
   ],
   "source": [
    "fem_2016.groupby(['mes']).sum()"
   ]
  },
  {
   "cell_type": "code",
   "execution_count": 0,
   "metadata": {
    "colab": {
     "base_uri": "https://localhost:8080/",
     "height": 432
    },
    "colab_type": "code",
    "id": "ADXQ2CqE7Abm",
    "outputId": "6e9fe6ae-922d-4dde-9b66-8bfcd67bfe58"
   },
   "outputs": [
    {
     "data": {
      "text/html": [
       "<div>\n",
       "<style scoped>\n",
       "    .dataframe tbody tr th:only-of-type {\n",
       "        vertical-align: middle;\n",
       "    }\n",
       "\n",
       "    .dataframe tbody tr th {\n",
       "        vertical-align: top;\n",
       "    }\n",
       "\n",
       "    .dataframe thead th {\n",
       "        text-align: right;\n",
       "    }\n",
       "</style>\n",
       "<table border=\"1\" class=\"dataframe\">\n",
       "  <thead>\n",
       "    <tr style=\"text-align: right;\">\n",
       "      <th></th>\n",
       "      <th>CISP</th>\n",
       "      <th>vano</th>\n",
       "      <th>feminicidio</th>\n",
       "      <th>feminicidio_tentativa</th>\n",
       "      <th>FASE</th>\n",
       "    </tr>\n",
       "    <tr>\n",
       "      <th>mes</th>\n",
       "      <th></th>\n",
       "      <th></th>\n",
       "      <th></th>\n",
       "      <th></th>\n",
       "      <th></th>\n",
       "    </tr>\n",
       "  </thead>\n",
       "  <tbody>\n",
       "    <tr>\n",
       "      <th>1</th>\n",
       "      <td>11246</td>\n",
       "      <td>278346</td>\n",
       "      <td>7</td>\n",
       "      <td>25</td>\n",
       "      <td>414</td>\n",
       "    </tr>\n",
       "    <tr>\n",
       "      <th>2</th>\n",
       "      <td>11246</td>\n",
       "      <td>278346</td>\n",
       "      <td>7</td>\n",
       "      <td>14</td>\n",
       "      <td>414</td>\n",
       "    </tr>\n",
       "    <tr>\n",
       "      <th>3</th>\n",
       "      <td>11246</td>\n",
       "      <td>278346</td>\n",
       "      <td>6</td>\n",
       "      <td>26</td>\n",
       "      <td>414</td>\n",
       "    </tr>\n",
       "    <tr>\n",
       "      <th>4</th>\n",
       "      <td>11246</td>\n",
       "      <td>278346</td>\n",
       "      <td>7</td>\n",
       "      <td>28</td>\n",
       "      <td>414</td>\n",
       "    </tr>\n",
       "    <tr>\n",
       "      <th>5</th>\n",
       "      <td>11246</td>\n",
       "      <td>278346</td>\n",
       "      <td>3</td>\n",
       "      <td>12</td>\n",
       "      <td>414</td>\n",
       "    </tr>\n",
       "    <tr>\n",
       "      <th>6</th>\n",
       "      <td>11246</td>\n",
       "      <td>278346</td>\n",
       "      <td>7</td>\n",
       "      <td>14</td>\n",
       "      <td>414</td>\n",
       "    </tr>\n",
       "    <tr>\n",
       "      <th>7</th>\n",
       "      <td>11246</td>\n",
       "      <td>278346</td>\n",
       "      <td>4</td>\n",
       "      <td>18</td>\n",
       "      <td>414</td>\n",
       "    </tr>\n",
       "    <tr>\n",
       "      <th>8</th>\n",
       "      <td>11246</td>\n",
       "      <td>278346</td>\n",
       "      <td>5</td>\n",
       "      <td>24</td>\n",
       "      <td>414</td>\n",
       "    </tr>\n",
       "    <tr>\n",
       "      <th>9</th>\n",
       "      <td>11246</td>\n",
       "      <td>278346</td>\n",
       "      <td>6</td>\n",
       "      <td>15</td>\n",
       "      <td>414</td>\n",
       "    </tr>\n",
       "    <tr>\n",
       "      <th>10</th>\n",
       "      <td>11246</td>\n",
       "      <td>278346</td>\n",
       "      <td>4</td>\n",
       "      <td>32</td>\n",
       "      <td>414</td>\n",
       "    </tr>\n",
       "    <tr>\n",
       "      <th>11</th>\n",
       "      <td>11246</td>\n",
       "      <td>278346</td>\n",
       "      <td>6</td>\n",
       "      <td>17</td>\n",
       "      <td>414</td>\n",
       "    </tr>\n",
       "    <tr>\n",
       "      <th>12</th>\n",
       "      <td>11246</td>\n",
       "      <td>278346</td>\n",
       "      <td>6</td>\n",
       "      <td>23</td>\n",
       "      <td>414</td>\n",
       "    </tr>\n",
       "  </tbody>\n",
       "</table>\n",
       "</div>"
      ],
      "text/plain": [
       "      CISP    vano  feminicidio  feminicidio_tentativa  FASE\n",
       "mes                                                         \n",
       "1    11246  278346            7                     25   414\n",
       "2    11246  278346            7                     14   414\n",
       "3    11246  278346            6                     26   414\n",
       "4    11246  278346            7                     28   414\n",
       "5    11246  278346            3                     12   414\n",
       "6    11246  278346            7                     14   414\n",
       "7    11246  278346            4                     18   414\n",
       "8    11246  278346            5                     24   414\n",
       "9    11246  278346            6                     15   414\n",
       "10   11246  278346            4                     32   414\n",
       "11   11246  278346            6                     17   414\n",
       "12   11246  278346            6                     23   414"
      ]
     },
     "execution_count": 61,
     "metadata": {
      "tags": []
     },
     "output_type": "execute_result"
    }
   ],
   "source": [
    "fem_2017.groupby(['mes']).sum()"
   ]
  },
  {
   "cell_type": "code",
   "execution_count": 0,
   "metadata": {
    "colab": {},
    "colab_type": "code",
    "id": "I0-9NoQv7FS4"
   },
   "outputs": [],
   "source": [
    "sum_fem_mes_2018 = fem_2018.groupby(['mes']).sum()"
   ]
  },
  {
   "cell_type": "code",
   "execution_count": 0,
   "metadata": {
    "colab": {
     "base_uri": "https://localhost:8080/",
     "height": 469
    },
    "colab_type": "code",
    "id": "n67LGy_AQ-rD",
    "outputId": "995aaf61-a7f9-4ba0-d920-5e463a80087b"
   },
   "outputs": [
    {
     "data": {
      "text/plain": [
       "<matplotlib.axes._subplots.AxesSubplot at 0x7fbc888a17b8>"
      ]
     },
     "execution_count": 63,
     "metadata": {
      "tags": []
     },
     "output_type": "execute_result"
    },
    {
     "data": {
      "image/png": "[encoded data removed]",
      "text/plain": [
       "<Figure size 1080x504 with 1 Axes>"
      ]
     },
     "metadata": {
      "tags": []
     },
     "output_type": "display_data"
    }
   ],
   "source": [
    "sum_fem_mes_2018['feminicidio_tentativa'].plot.bar(color = 'mediumvioletred', figsize = (15, 7))"
   ]
  },
  {
   "cell_type": "code",
   "execution_count": 0,
   "metadata": {
    "colab": {},
    "colab_type": "code",
    "id": "Xht3LCRi6Z1r"
   },
   "outputs": [],
   "source": [
    "sum_fem_mes_2019 = fem_2019.groupby(['mes']).sum()"
   ]
  },
  {
   "cell_type": "code",
   "execution_count": 0,
   "metadata": {
    "colab": {
     "base_uri": "https://localhost:8080/",
     "height": 459
    },
    "colab_type": "code",
    "id": "rRjvf-qRQ0py",
    "outputId": "27052e7d-43e4-482c-b3d1-2bd92be62512"
   },
   "outputs": [
    {
     "data": {
      "text/plain": [
       "<matplotlib.axes._subplots.AxesSubplot at 0x7fbc8886f550>"
      ]
     },
     "execution_count": 65,
     "metadata": {
      "tags": []
     },
     "output_type": "execute_result"
    },
    {
     "data": {
      "image/png": "[encoded data removed]",
      "text/plain": [
       "<Figure size 1080x504 with 1 Axes>"
      ]
     },
     "metadata": {
      "tags": []
     },
     "output_type": "display_data"
    }
   ],
   "source": [
    "sum_fem_mes_2019['feminicidio_tentativa'].plot.bar(color = 'mediumvioletred', figsize = (15, 7))"
   ]
  },
  {
   "cell_type": "markdown",
   "metadata": {
    "colab_type": "text",
    "id": "R3gVs_p1Nm2L"
   },
   "source": [
    "### Juntando pop com feminícidio"
   ]
  },
  {
   "cell_type": "code",
   "execution_count": 0,
   "metadata": {
    "colab": {},
    "colab_type": "code",
    "id": "3nPo4ba4-2q2"
   },
   "outputs": [],
   "source": [
    "join_pop_fem = pd.merge(population_df, feminicidio_df, how='inner', on=['CISP','vano', 'mes'])\n"
   ]
  },
  {
   "cell_type": "code",
   "execution_count": 0,
   "metadata": {
    "colab": {
     "base_uri": "https://localhost:8080/",
     "height": 195
    },
    "colab_type": "code",
    "id": "YAJjCTkNAzXX",
    "outputId": "19d280a5-cd78-41ec-d1f7-b6ffd3b9acaa"
   },
   "outputs": [
    {
     "data": {
      "text/html": [
       "<div>\n",
       "<style scoped>\n",
       "    .dataframe tbody tr th:only-of-type {\n",
       "        vertical-align: middle;\n",
       "    }\n",
       "\n",
       "    .dataframe tbody tr th {\n",
       "        vertical-align: top;\n",
       "    }\n",
       "\n",
       "    .dataframe thead th {\n",
       "        text-align: right;\n",
       "    }\n",
       "</style>\n",
       "<table border=\"1\" class=\"dataframe\">\n",
       "  <thead>\n",
       "    <tr style=\"text-align: right;\">\n",
       "      <th></th>\n",
       "      <th>CISP</th>\n",
       "      <th>mes</th>\n",
       "      <th>vano</th>\n",
       "      <th>pop_circ</th>\n",
       "      <th>feminicidio</th>\n",
       "      <th>feminicidio_tentativa</th>\n",
       "      <th>FASE</th>\n",
       "    </tr>\n",
       "  </thead>\n",
       "  <tbody>\n",
       "    <tr>\n",
       "      <th>0</th>\n",
       "      <td>1</td>\n",
       "      <td>10</td>\n",
       "      <td>2016</td>\n",
       "      <td>1685.217628</td>\n",
       "      <td>0</td>\n",
       "      <td>0</td>\n",
       "      <td>3</td>\n",
       "    </tr>\n",
       "    <tr>\n",
       "      <th>1</th>\n",
       "      <td>1</td>\n",
       "      <td>11</td>\n",
       "      <td>2016</td>\n",
       "      <td>1686.288969</td>\n",
       "      <td>0</td>\n",
       "      <td>0</td>\n",
       "      <td>3</td>\n",
       "    </tr>\n",
       "    <tr>\n",
       "      <th>2</th>\n",
       "      <td>1</td>\n",
       "      <td>12</td>\n",
       "      <td>2016</td>\n",
       "      <td>1687.360991</td>\n",
       "      <td>0</td>\n",
       "      <td>0</td>\n",
       "      <td>3</td>\n",
       "    </tr>\n",
       "    <tr>\n",
       "      <th>3</th>\n",
       "      <td>1</td>\n",
       "      <td>1</td>\n",
       "      <td>2017</td>\n",
       "      <td>1688.433694</td>\n",
       "      <td>0</td>\n",
       "      <td>0</td>\n",
       "      <td>3</td>\n",
       "    </tr>\n",
       "    <tr>\n",
       "      <th>4</th>\n",
       "      <td>1</td>\n",
       "      <td>2</td>\n",
       "      <td>2017</td>\n",
       "      <td>1689.507080</td>\n",
       "      <td>0</td>\n",
       "      <td>0</td>\n",
       "      <td>3</td>\n",
       "    </tr>\n",
       "  </tbody>\n",
       "</table>\n",
       "</div>"
      ],
      "text/plain": [
       "   CISP  mes  vano     pop_circ  feminicidio  feminicidio_tentativa  FASE\n",
       "0     1   10  2016  1685.217628            0                      0     3\n",
       "1     1   11  2016  1686.288969            0                      0     3\n",
       "2     1   12  2016  1687.360991            0                      0     3\n",
       "3     1    1  2017  1688.433694            0                      0     3\n",
       "4     1    2  2017  1689.507080            0                      0     3"
      ]
     },
     "execution_count": 67,
     "metadata": {
      "tags": []
     },
     "output_type": "execute_result"
    }
   ],
   "source": [
    "join_pop_fem.head()"
   ]
  },
  {
   "cell_type": "markdown",
   "metadata": {
    "colab_type": "text",
    "id": "3ze9pbEtN0nL"
   },
   "source": [
    "### Juntando o anterior (pop x fem) com o de crimes"
   ]
  },
  {
   "cell_type": "markdown",
   "metadata": {
    "colab_type": "text",
    "id": "xj8YFhaTONSD"
   },
   "source": [
    "Isso pra pegar o nome dos munícipios.\n",
    "\n",
    "mcirc é o código IBGE deles!!!"
   ]
  },
  {
   "cell_type": "code",
   "execution_count": 0,
   "metadata": {
    "colab": {},
    "colab_type": "code",
    "id": "08MVGkMnEB_I"
   },
   "outputs": [],
   "source": [
    "join_pop_fem_crimes = pd.merge(join_pop_fem, crimes_df, how='inner', on=['CISP', 'mes', 'vano'])\n",
    "join_pop_fem_crimes.drop(inplace=True, columns=['mes_ano', 'hom_doloso', 'hom_doloso', 'lesao_corp_morte', 'latrocinio', 'hom_por_interv_policial', 'tentat_hom', 'lesao_corp_dolosa', 'estupro', 'hom_culposo', 'lesao_corp_culposa', 'roubo_comercio', 'roubo_residencia', 'roubo_veiculo', 'roubo_carga', 'roubo_transeunte', 'roubo_em_coletivo', 'roubo_banco', 'roubo_cx_eletronico', 'roubo_celular', 'roubo_conducao_saque', 'roubo_apos_saque', 'roubo_bicicleta', 'outros_roubos', 'total_roubos', 'furto_veiculos', 'furto_transeunte', 'furto_coletivo', 'furto_celular', 'furto_bicicleta', 'outros_furtos', 'total_furtos', 'sequestro', 'extorsao', 'sequestro_relampago', 'estelionato', 'apreensao_drogas', 'posse_drogas', 'trafico_drogas', 'apreensao_drogas_sem_autor', 'recuperacao_veiculos', 'apf', 'aaapai', 'cmp', 'cmba', 'ameaca', 'pessoas_desaparecidas', 'encontro_cadaver', 'encontro_ossada', 'pol_militares_mortos_serv', 'pol_civis_mortos_serv', 'indicador_letalidade', 'indicador_roubo_rua', 'indicador_roubo_veic', 'registro_ocorrencias'])\n",
    "\n"
   ]
  },
  {
   "cell_type": "code",
   "execution_count": 0,
   "metadata": {
    "colab": {
     "base_uri": "https://localhost:8080/",
     "height": 195
    },
    "colab_type": "code",
    "id": "2XaAwYECEfco",
    "outputId": "434df330-4866-4882-efcd-5649e77a32ec"
   },
   "outputs": [
    {
     "data": {
      "text/html": [
       "<div>\n",
       "<style scoped>\n",
       "    .dataframe tbody tr th:only-of-type {\n",
       "        vertical-align: middle;\n",
       "    }\n",
       "\n",
       "    .dataframe tbody tr th {\n",
       "        vertical-align: top;\n",
       "    }\n",
       "\n",
       "    .dataframe thead th {\n",
       "        text-align: right;\n",
       "    }\n",
       "</style>\n",
       "<table border=\"1\" class=\"dataframe\">\n",
       "  <thead>\n",
       "    <tr style=\"text-align: right;\">\n",
       "      <th></th>\n",
       "      <th>CISP</th>\n",
       "      <th>mes</th>\n",
       "      <th>vano</th>\n",
       "      <th>pop_circ</th>\n",
       "      <th>feminicidio</th>\n",
       "      <th>feminicidio_tentativa</th>\n",
       "      <th>FASE</th>\n",
       "      <th>AISP</th>\n",
       "      <th>RISP</th>\n",
       "      <th>munic</th>\n",
       "      <th>mcirc</th>\n",
       "      <th>Regiao</th>\n",
       "    </tr>\n",
       "  </thead>\n",
       "  <tbody>\n",
       "    <tr>\n",
       "      <th>0</th>\n",
       "      <td>1</td>\n",
       "      <td>10</td>\n",
       "      <td>2016</td>\n",
       "      <td>1685.217628</td>\n",
       "      <td>0</td>\n",
       "      <td>0</td>\n",
       "      <td>3</td>\n",
       "      <td>5</td>\n",
       "      <td>1</td>\n",
       "      <td>Rio de Janeiro</td>\n",
       "      <td>3304557</td>\n",
       "      <td>Capital</td>\n",
       "    </tr>\n",
       "    <tr>\n",
       "      <th>1</th>\n",
       "      <td>1</td>\n",
       "      <td>11</td>\n",
       "      <td>2016</td>\n",
       "      <td>1686.288969</td>\n",
       "      <td>0</td>\n",
       "      <td>0</td>\n",
       "      <td>3</td>\n",
       "      <td>5</td>\n",
       "      <td>1</td>\n",
       "      <td>Rio de Janeiro</td>\n",
       "      <td>3304557</td>\n",
       "      <td>Capital</td>\n",
       "    </tr>\n",
       "    <tr>\n",
       "      <th>2</th>\n",
       "      <td>1</td>\n",
       "      <td>12</td>\n",
       "      <td>2016</td>\n",
       "      <td>1687.360991</td>\n",
       "      <td>0</td>\n",
       "      <td>0</td>\n",
       "      <td>3</td>\n",
       "      <td>5</td>\n",
       "      <td>1</td>\n",
       "      <td>Rio de Janeiro</td>\n",
       "      <td>3304557</td>\n",
       "      <td>Capital</td>\n",
       "    </tr>\n",
       "    <tr>\n",
       "      <th>3</th>\n",
       "      <td>1</td>\n",
       "      <td>1</td>\n",
       "      <td>2017</td>\n",
       "      <td>1688.433694</td>\n",
       "      <td>0</td>\n",
       "      <td>0</td>\n",
       "      <td>3</td>\n",
       "      <td>5</td>\n",
       "      <td>1</td>\n",
       "      <td>Rio de Janeiro</td>\n",
       "      <td>3304557</td>\n",
       "      <td>Capital</td>\n",
       "    </tr>\n",
       "    <tr>\n",
       "      <th>4</th>\n",
       "      <td>1</td>\n",
       "      <td>2</td>\n",
       "      <td>2017</td>\n",
       "      <td>1689.507080</td>\n",
       "      <td>0</td>\n",
       "      <td>0</td>\n",
       "      <td>3</td>\n",
       "      <td>5</td>\n",
       "      <td>1</td>\n",
       "      <td>Rio de Janeiro</td>\n",
       "      <td>3304557</td>\n",
       "      <td>Capital</td>\n",
       "    </tr>\n",
       "  </tbody>\n",
       "</table>\n",
       "</div>"
      ],
      "text/plain": [
       "   CISP  mes  vano     pop_circ  ...  RISP           munic    mcirc   Regiao\n",
       "0     1   10  2016  1685.217628  ...     1  Rio de Janeiro  3304557  Capital\n",
       "1     1   11  2016  1686.288969  ...     1  Rio de Janeiro  3304557  Capital\n",
       "2     1   12  2016  1687.360991  ...     1  Rio de Janeiro  3304557  Capital\n",
       "3     1    1  2017  1688.433694  ...     1  Rio de Janeiro  3304557  Capital\n",
       "4     1    2  2017  1689.507080  ...     1  Rio de Janeiro  3304557  Capital\n",
       "\n",
       "[5 rows x 12 columns]"
      ]
     },
     "execution_count": 69,
     "metadata": {
      "tags": []
     },
     "output_type": "execute_result"
    }
   ],
   "source": [
    "join_pop_fem_crimes.head()"
   ]
  },
  {
   "cell_type": "code",
   "execution_count": 0,
   "metadata": {
    "colab": {
     "base_uri": "https://localhost:8080/",
     "height": 195
    },
    "colab_type": "code",
    "id": "4pSDeSEjsoeO",
    "outputId": "cf7d1cdf-12de-4f5c-eb2f-a70b49910091"
   },
   "outputs": [
    {
     "data": {
      "text/html": [
       "<div>\n",
       "<style scoped>\n",
       "    .dataframe tbody tr th:only-of-type {\n",
       "        vertical-align: middle;\n",
       "    }\n",
       "\n",
       "    .dataframe tbody tr th {\n",
       "        vertical-align: top;\n",
       "    }\n",
       "\n",
       "    .dataframe thead th {\n",
       "        text-align: right;\n",
       "    }\n",
       "</style>\n",
       "<table border=\"1\" class=\"dataframe\">\n",
       "  <thead>\n",
       "    <tr style=\"text-align: right;\">\n",
       "      <th></th>\n",
       "      <th>CISP</th>\n",
       "      <th>mes</th>\n",
       "      <th>vano</th>\n",
       "      <th>pop_circ</th>\n",
       "      <th>feminicidio</th>\n",
       "      <th>feminicidio_tentativa</th>\n",
       "      <th>FASE</th>\n",
       "      <th>AISP</th>\n",
       "      <th>RISP</th>\n",
       "      <th>munic</th>\n",
       "      <th>mcirc</th>\n",
       "      <th>Regiao</th>\n",
       "      <th>per100k_ratio</th>\n",
       "    </tr>\n",
       "  </thead>\n",
       "  <tbody>\n",
       "    <tr>\n",
       "      <th>4817</th>\n",
       "      <td>168</td>\n",
       "      <td>4</td>\n",
       "      <td>2019</td>\n",
       "      <td>18203.10349</td>\n",
       "      <td>1</td>\n",
       "      <td>0</td>\n",
       "      <td>3</td>\n",
       "      <td>28</td>\n",
       "      <td>5</td>\n",
       "      <td>Rio Claro</td>\n",
       "      <td>3304409</td>\n",
       "      <td>Interior</td>\n",
       "      <td>5.493569</td>\n",
       "    </tr>\n",
       "    <tr>\n",
       "      <th>4818</th>\n",
       "      <td>168</td>\n",
       "      <td>5</td>\n",
       "      <td>2019</td>\n",
       "      <td>18213.93763</td>\n",
       "      <td>0</td>\n",
       "      <td>0</td>\n",
       "      <td>3</td>\n",
       "      <td>28</td>\n",
       "      <td>5</td>\n",
       "      <td>Rio Claro</td>\n",
       "      <td>3304409</td>\n",
       "      <td>Interior</td>\n",
       "      <td>5.490301</td>\n",
       "    </tr>\n",
       "    <tr>\n",
       "      <th>4819</th>\n",
       "      <td>168</td>\n",
       "      <td>6</td>\n",
       "      <td>2019</td>\n",
       "      <td>18224.77821</td>\n",
       "      <td>0</td>\n",
       "      <td>0</td>\n",
       "      <td>3</td>\n",
       "      <td>28</td>\n",
       "      <td>5</td>\n",
       "      <td>Rio Claro</td>\n",
       "      <td>3304409</td>\n",
       "      <td>Interior</td>\n",
       "      <td>5.487035</td>\n",
       "    </tr>\n",
       "    <tr>\n",
       "      <th>4820</th>\n",
       "      <td>168</td>\n",
       "      <td>7</td>\n",
       "      <td>2019</td>\n",
       "      <td>18235.20108</td>\n",
       "      <td>0</td>\n",
       "      <td>0</td>\n",
       "      <td>2</td>\n",
       "      <td>28</td>\n",
       "      <td>5</td>\n",
       "      <td>Rio Claro</td>\n",
       "      <td>3304409</td>\n",
       "      <td>Interior</td>\n",
       "      <td>5.483899</td>\n",
       "    </tr>\n",
       "    <tr>\n",
       "      <th>4821</th>\n",
       "      <td>168</td>\n",
       "      <td>8</td>\n",
       "      <td>2019</td>\n",
       "      <td>18246.05432</td>\n",
       "      <td>0</td>\n",
       "      <td>0</td>\n",
       "      <td>2</td>\n",
       "      <td>28</td>\n",
       "      <td>5</td>\n",
       "      <td>Rio Claro</td>\n",
       "      <td>3304409</td>\n",
       "      <td>Interior</td>\n",
       "      <td>5.480637</td>\n",
       "    </tr>\n",
       "  </tbody>\n",
       "</table>\n",
       "</div>"
      ],
      "text/plain": [
       "      CISP  mes  vano     pop_circ  ...      munic    mcirc    Regiao  per100k_ratio\n",
       "4817   168    4  2019  18203.10349  ...  Rio Claro  3304409  Interior       5.493569\n",
       "4818   168    5  2019  18213.93763  ...  Rio Claro  3304409  Interior       5.490301\n",
       "4819   168    6  2019  18224.77821  ...  Rio Claro  3304409  Interior       5.487035\n",
       "4820   168    7  2019  18235.20108  ...  Rio Claro  3304409  Interior       5.483899\n",
       "4821   168    8  2019  18246.05432  ...  Rio Claro  3304409  Interior       5.480637\n",
       "\n",
       "[5 rows x 13 columns]"
      ]
     },
     "execution_count": 70,
     "metadata": {
      "tags": []
     },
     "output_type": "execute_result"
    }
   ],
   "source": [
    "join_pop_fem_crimes['per100k_ratio'] = 100000 / join_pop_fem_crimes['pop_circ'] \n",
    "join_pop_fem_crimes.tail()"
   ]
  },
  {
   "cell_type": "code",
   "execution_count": 0,
   "metadata": {
    "colab": {
     "base_uri": "https://localhost:8080/",
     "height": 195
    },
    "colab_type": "code",
    "id": "iFbghcGlt476",
    "outputId": "d2d1c3b9-8c71-4ecb-a912-374c3439abb6"
   },
   "outputs": [
    {
     "data": {
      "text/html": [
       "<div>\n",
       "<style scoped>\n",
       "    .dataframe tbody tr th:only-of-type {\n",
       "        vertical-align: middle;\n",
       "    }\n",
       "\n",
       "    .dataframe tbody tr th {\n",
       "        vertical-align: top;\n",
       "    }\n",
       "\n",
       "    .dataframe thead th {\n",
       "        text-align: right;\n",
       "    }\n",
       "</style>\n",
       "<table border=\"1\" class=\"dataframe\">\n",
       "  <thead>\n",
       "    <tr style=\"text-align: right;\">\n",
       "      <th></th>\n",
       "      <th>CISP</th>\n",
       "      <th>mes</th>\n",
       "      <th>vano</th>\n",
       "      <th>pop_circ</th>\n",
       "      <th>feminicidio</th>\n",
       "      <th>feminicidio_tentativa</th>\n",
       "      <th>FASE</th>\n",
       "      <th>AISP</th>\n",
       "      <th>RISP</th>\n",
       "      <th>munic</th>\n",
       "      <th>mcirc</th>\n",
       "      <th>Regiao</th>\n",
       "      <th>per100k_ratio</th>\n",
       "    </tr>\n",
       "  </thead>\n",
       "  <tbody>\n",
       "    <tr>\n",
       "      <th>4817</th>\n",
       "      <td>168</td>\n",
       "      <td>4</td>\n",
       "      <td>2019</td>\n",
       "      <td>18203.10349</td>\n",
       "      <td>5.493569</td>\n",
       "      <td>0.0</td>\n",
       "      <td>3</td>\n",
       "      <td>28</td>\n",
       "      <td>5</td>\n",
       "      <td>Rio Claro</td>\n",
       "      <td>3304409</td>\n",
       "      <td>Interior</td>\n",
       "      <td>5.493569</td>\n",
       "    </tr>\n",
       "    <tr>\n",
       "      <th>4818</th>\n",
       "      <td>168</td>\n",
       "      <td>5</td>\n",
       "      <td>2019</td>\n",
       "      <td>18213.93763</td>\n",
       "      <td>0.000000</td>\n",
       "      <td>0.0</td>\n",
       "      <td>3</td>\n",
       "      <td>28</td>\n",
       "      <td>5</td>\n",
       "      <td>Rio Claro</td>\n",
       "      <td>3304409</td>\n",
       "      <td>Interior</td>\n",
       "      <td>5.490301</td>\n",
       "    </tr>\n",
       "    <tr>\n",
       "      <th>4819</th>\n",
       "      <td>168</td>\n",
       "      <td>6</td>\n",
       "      <td>2019</td>\n",
       "      <td>18224.77821</td>\n",
       "      <td>0.000000</td>\n",
       "      <td>0.0</td>\n",
       "      <td>3</td>\n",
       "      <td>28</td>\n",
       "      <td>5</td>\n",
       "      <td>Rio Claro</td>\n",
       "      <td>3304409</td>\n",
       "      <td>Interior</td>\n",
       "      <td>5.487035</td>\n",
       "    </tr>\n",
       "    <tr>\n",
       "      <th>4820</th>\n",
       "      <td>168</td>\n",
       "      <td>7</td>\n",
       "      <td>2019</td>\n",
       "      <td>18235.20108</td>\n",
       "      <td>0.000000</td>\n",
       "      <td>0.0</td>\n",
       "      <td>2</td>\n",
       "      <td>28</td>\n",
       "      <td>5</td>\n",
       "      <td>Rio Claro</td>\n",
       "      <td>3304409</td>\n",
       "      <td>Interior</td>\n",
       "      <td>5.483899</td>\n",
       "    </tr>\n",
       "    <tr>\n",
       "      <th>4821</th>\n",
       "      <td>168</td>\n",
       "      <td>8</td>\n",
       "      <td>2019</td>\n",
       "      <td>18246.05432</td>\n",
       "      <td>0.000000</td>\n",
       "      <td>0.0</td>\n",
       "      <td>2</td>\n",
       "      <td>28</td>\n",
       "      <td>5</td>\n",
       "      <td>Rio Claro</td>\n",
       "      <td>3304409</td>\n",
       "      <td>Interior</td>\n",
       "      <td>5.480637</td>\n",
       "    </tr>\n",
       "  </tbody>\n",
       "</table>\n",
       "</div>"
      ],
      "text/plain": [
       "      CISP  mes  vano     pop_circ  ...      munic    mcirc    Regiao  per100k_ratio\n",
       "4817   168    4  2019  18203.10349  ...  Rio Claro  3304409  Interior       5.493569\n",
       "4818   168    5  2019  18213.93763  ...  Rio Claro  3304409  Interior       5.490301\n",
       "4819   168    6  2019  18224.77821  ...  Rio Claro  3304409  Interior       5.487035\n",
       "4820   168    7  2019  18235.20108  ...  Rio Claro  3304409  Interior       5.483899\n",
       "4821   168    8  2019  18246.05432  ...  Rio Claro  3304409  Interior       5.480637\n",
       "\n",
       "[5 rows x 13 columns]"
      ]
     },
     "execution_count": 71,
     "metadata": {
      "tags": []
     },
     "output_type": "execute_result"
    }
   ],
   "source": [
    "fcols = join_pop_fem_crimes.columns[4:6]\n",
    "# cols\n",
    "fem_per100k = join_pop_fem_crimes.copy()\n",
    "fem_per100k[fcols].astype(float)\n",
    "#fem_per100k['posse_drogas'] = pd.to_numeric(data_per100k['posse_drogas'], errors='coerce')\n",
    "#data_per100k['trafico_drogas']  = pd.to_numeric(data_per100k['trafico_drogas'], errors='coerce')\n",
    "#data_per100k['apreensao_drogas_sem_autor']  = pd.to_numeric(data_per100k['apreensao_drogas_sem_autor'], errors='coerce')\n",
    "\n",
    "for c in fcols:\n",
    "    fem_per100k[c] = fem_per100k[c] * fem_per100k['per100k_ratio']\n",
    "    \n",
    "fem_per100k.tail(5)"
   ]
  },
  {
   "cell_type": "code",
   "execution_count": 0,
   "metadata": {
    "colab": {
     "base_uri": "https://localhost:8080/",
     "height": 225
    },
    "colab_type": "code",
    "id": "lUhPgT8LvJyz",
    "outputId": "c6fb18d8-a04a-426f-e85e-f0faa546c55b"
   },
   "outputs": [
    {
     "data": {
      "text/html": [
       "<div>\n",
       "<style scoped>\n",
       "    .dataframe tbody tr th:only-of-type {\n",
       "        vertical-align: middle;\n",
       "    }\n",
       "\n",
       "    .dataframe tbody tr th {\n",
       "        vertical-align: top;\n",
       "    }\n",
       "\n",
       "    .dataframe thead th {\n",
       "        text-align: right;\n",
       "    }\n",
       "</style>\n",
       "<table border=\"1\" class=\"dataframe\">\n",
       "  <thead>\n",
       "    <tr style=\"text-align: right;\">\n",
       "      <th></th>\n",
       "      <th>CISP</th>\n",
       "      <th>mes</th>\n",
       "      <th>vano</th>\n",
       "      <th>pop_circ</th>\n",
       "      <th>feminicidio</th>\n",
       "      <th>feminicidio_tentativa</th>\n",
       "      <th>FASE</th>\n",
       "      <th>AISP</th>\n",
       "      <th>RISP</th>\n",
       "      <th>mcirc</th>\n",
       "      <th>per100k_ratio</th>\n",
       "    </tr>\n",
       "    <tr>\n",
       "      <th>munic</th>\n",
       "      <th></th>\n",
       "      <th></th>\n",
       "      <th></th>\n",
       "      <th></th>\n",
       "      <th></th>\n",
       "      <th></th>\n",
       "      <th></th>\n",
       "      <th></th>\n",
       "      <th></th>\n",
       "      <th></th>\n",
       "      <th></th>\n",
       "    </tr>\n",
       "  </thead>\n",
       "  <tbody>\n",
       "    <tr>\n",
       "      <th>Angra dos Reis</th>\n",
       "      <td>5810</td>\n",
       "      <td>225</td>\n",
       "      <td>70620</td>\n",
       "      <td>7.112309e+06</td>\n",
       "      <td>0.499650</td>\n",
       "      <td>10.751203</td>\n",
       "      <td>103</td>\n",
       "      <td>1155</td>\n",
       "      <td>175</td>\n",
       "      <td>115503500</td>\n",
       "      <td>17.238760</td>\n",
       "    </tr>\n",
       "    <tr>\n",
       "      <th>Araruama</th>\n",
       "      <td>4130</td>\n",
       "      <td>225</td>\n",
       "      <td>70620</td>\n",
       "      <td>4.601110e+06</td>\n",
       "      <td>3.121685</td>\n",
       "      <td>3.761765</td>\n",
       "      <td>103</td>\n",
       "      <td>875</td>\n",
       "      <td>140</td>\n",
       "      <td>115507315</td>\n",
       "      <td>26.641230</td>\n",
       "    </tr>\n",
       "    <tr>\n",
       "      <th>Armação dos Búzios</th>\n",
       "      <td>4445</td>\n",
       "      <td>225</td>\n",
       "      <td>70620</td>\n",
       "      <td>1.189093e+06</td>\n",
       "      <td>0.000000</td>\n",
       "      <td>5.771445</td>\n",
       "      <td>103</td>\n",
       "      <td>875</td>\n",
       "      <td>140</td>\n",
       "      <td>115508155</td>\n",
       "      <td>103.145273</td>\n",
       "    </tr>\n",
       "    <tr>\n",
       "      <th>Arraial do Cabo</th>\n",
       "      <td>4620</td>\n",
       "      <td>225</td>\n",
       "      <td>70620</td>\n",
       "      <td>1.043426e+06</td>\n",
       "      <td>6.689538</td>\n",
       "      <td>6.569264</td>\n",
       "      <td>103</td>\n",
       "      <td>875</td>\n",
       "      <td>140</td>\n",
       "      <td>115509030</td>\n",
       "      <td>117.420172</td>\n",
       "    </tr>\n",
       "    <tr>\n",
       "      <th>Barra Mansa</th>\n",
       "      <td>3150</td>\n",
       "      <td>225</td>\n",
       "      <td>70620</td>\n",
       "      <td>6.347183e+06</td>\n",
       "      <td>0.550687</td>\n",
       "      <td>11.572289</td>\n",
       "      <td>103</td>\n",
       "      <td>980</td>\n",
       "      <td>175</td>\n",
       "      <td>115514245</td>\n",
       "      <td>19.300124</td>\n",
       "    </tr>\n",
       "  </tbody>\n",
       "</table>\n",
       "</div>"
      ],
      "text/plain": [
       "                    CISP  mes   vano  ...  RISP      mcirc  per100k_ratio\n",
       "munic                                 ...                                \n",
       "Angra dos Reis      5810  225  70620  ...   175  115503500      17.238760\n",
       "Araruama            4130  225  70620  ...   140  115507315      26.641230\n",
       "Armação dos Búzios  4445  225  70620  ...   140  115508155     103.145273\n",
       "Arraial do Cabo     4620  225  70620  ...   140  115509030     117.420172\n",
       "Barra Mansa         3150  225  70620  ...   175  115514245      19.300124\n",
       "\n",
       "[5 rows x 11 columns]"
      ]
     },
     "execution_count": 72,
     "metadata": {
      "tags": []
     },
     "output_type": "execute_result"
    }
   ],
   "source": [
    "sum_fem_100k = fem_per100k.groupby(['munic']).sum()\n",
    "sum_fem_100k.head()"
   ]
  },
  {
   "cell_type": "code",
   "execution_count": 0,
   "metadata": {
    "colab": {
     "base_uri": "https://localhost:8080/",
     "height": 225
    },
    "colab_type": "code",
    "id": "w7uAetTaH5LU",
    "outputId": "3aa4f2b4-7f15-4f7a-a30a-3ea20a91e5f6"
   },
   "outputs": [
    {
     "data": {
      "text/html": [
       "<div>\n",
       "<style scoped>\n",
       "    .dataframe tbody tr th:only-of-type {\n",
       "        vertical-align: middle;\n",
       "    }\n",
       "\n",
       "    .dataframe tbody tr th {\n",
       "        vertical-align: top;\n",
       "    }\n",
       "\n",
       "    .dataframe thead th {\n",
       "        text-align: right;\n",
       "    }\n",
       "</style>\n",
       "<table border=\"1\" class=\"dataframe\">\n",
       "  <thead>\n",
       "    <tr style=\"text-align: right;\">\n",
       "      <th></th>\n",
       "      <th>CISP</th>\n",
       "      <th>mes</th>\n",
       "      <th>vano</th>\n",
       "      <th>pop_circ</th>\n",
       "      <th>feminicidio</th>\n",
       "      <th>feminicidio_tentativa</th>\n",
       "      <th>FASE</th>\n",
       "      <th>AISP</th>\n",
       "      <th>RISP</th>\n",
       "      <th>mcirc</th>\n",
       "      <th>per100k_ratio</th>\n",
       "    </tr>\n",
       "    <tr>\n",
       "      <th>munic</th>\n",
       "      <th></th>\n",
       "      <th></th>\n",
       "      <th></th>\n",
       "      <th></th>\n",
       "      <th></th>\n",
       "      <th></th>\n",
       "      <th></th>\n",
       "      <th></th>\n",
       "      <th></th>\n",
       "      <th></th>\n",
       "      <th></th>\n",
       "    </tr>\n",
       "  </thead>\n",
       "  <tbody>\n",
       "    <tr>\n",
       "      <th>Angra dos Reis</th>\n",
       "      <td>5810</td>\n",
       "      <td>225</td>\n",
       "      <td>70620</td>\n",
       "      <td>7.112309e+06</td>\n",
       "      <td>1</td>\n",
       "      <td>22</td>\n",
       "      <td>103</td>\n",
       "      <td>1155</td>\n",
       "      <td>175</td>\n",
       "      <td>115503500</td>\n",
       "      <td>17.238760</td>\n",
       "    </tr>\n",
       "    <tr>\n",
       "      <th>Araruama</th>\n",
       "      <td>4130</td>\n",
       "      <td>225</td>\n",
       "      <td>70620</td>\n",
       "      <td>4.601110e+06</td>\n",
       "      <td>4</td>\n",
       "      <td>5</td>\n",
       "      <td>103</td>\n",
       "      <td>875</td>\n",
       "      <td>140</td>\n",
       "      <td>115507315</td>\n",
       "      <td>26.641230</td>\n",
       "    </tr>\n",
       "    <tr>\n",
       "      <th>Armação dos Búzios</th>\n",
       "      <td>4445</td>\n",
       "      <td>225</td>\n",
       "      <td>70620</td>\n",
       "      <td>1.189093e+06</td>\n",
       "      <td>0</td>\n",
       "      <td>2</td>\n",
       "      <td>103</td>\n",
       "      <td>875</td>\n",
       "      <td>140</td>\n",
       "      <td>115508155</td>\n",
       "      <td>103.145273</td>\n",
       "    </tr>\n",
       "    <tr>\n",
       "      <th>Arraial do Cabo</th>\n",
       "      <td>4620</td>\n",
       "      <td>225</td>\n",
       "      <td>70620</td>\n",
       "      <td>1.043426e+06</td>\n",
       "      <td>2</td>\n",
       "      <td>2</td>\n",
       "      <td>103</td>\n",
       "      <td>875</td>\n",
       "      <td>140</td>\n",
       "      <td>115509030</td>\n",
       "      <td>117.420172</td>\n",
       "    </tr>\n",
       "    <tr>\n",
       "      <th>Barra Mansa</th>\n",
       "      <td>3150</td>\n",
       "      <td>225</td>\n",
       "      <td>70620</td>\n",
       "      <td>6.347183e+06</td>\n",
       "      <td>1</td>\n",
       "      <td>21</td>\n",
       "      <td>103</td>\n",
       "      <td>980</td>\n",
       "      <td>175</td>\n",
       "      <td>115514245</td>\n",
       "      <td>19.300124</td>\n",
       "    </tr>\n",
       "  </tbody>\n",
       "</table>\n",
       "</div>"
      ],
      "text/plain": [
       "                    CISP  mes   vano  ...  RISP      mcirc  per100k_ratio\n",
       "munic                                 ...                                \n",
       "Angra dos Reis      5810  225  70620  ...   175  115503500      17.238760\n",
       "Araruama            4130  225  70620  ...   140  115507315      26.641230\n",
       "Armação dos Búzios  4445  225  70620  ...   140  115508155     103.145273\n",
       "Arraial do Cabo     4620  225  70620  ...   140  115509030     117.420172\n",
       "Barra Mansa         3150  225  70620  ...   175  115514245      19.300124\n",
       "\n",
       "[5 rows x 11 columns]"
      ]
     },
     "execution_count": 73,
     "metadata": {
      "tags": []
     },
     "output_type": "execute_result"
    }
   ],
   "source": [
    "sum_fem = join_pop_fem_crimes.groupby(['munic']).sum()\n",
    "sum_fem.head()"
   ]
  },
  {
   "cell_type": "code",
   "execution_count": 0,
   "metadata": {
    "colab": {
     "base_uri": "https://localhost:8080/",
     "height": 634
    },
    "colab_type": "code",
    "id": "z6Ppz-khKH54",
    "outputId": "0f5f1031-89a3-41dc-c578-33bfb0c4dc7d"
   },
   "outputs": [
    {
     "data": {
      "text/plain": [
       "<matplotlib.axes._subplots.AxesSubplot at 0x7fbc84474a58>"
      ]
     },
     "execution_count": 74,
     "metadata": {
      "tags": []
     },
     "output_type": "execute_result"
    },
    {
     "data": {
      "image/png": "[encoded data removed]",
      "text/plain": [
       "<Figure size 1080x504 with 1 Axes>"
      ]
     },
     "metadata": {
      "tags": []
     },
     "output_type": "display_data"
    }
   ],
   "source": [
    "sum_fem['feminicidio_tentativa'].sort_values(ascending=False).nlargest(20).plot.bar(color = 'mediumvioletred', figsize = (15, 7))"
   ]
  },
  {
   "cell_type": "code",
   "execution_count": 0,
   "metadata": {
    "colab": {
     "base_uri": "https://localhost:8080/",
     "height": 786
    },
    "colab_type": "code",
    "id": "tBnFMR18v5l0",
    "outputId": "db0de75c-1310-45d1-bf3e-30f76e3de7c6"
   },
   "outputs": [
    {
     "data": {
      "text/plain": [
       "<matplotlib.axes._subplots.AxesSubplot at 0x7fbc84447ef0>"
      ]
     },
     "execution_count": 75,
     "metadata": {
      "tags": []
     },
     "output_type": "execute_result"
    },
    {
     "data": {
      "image/png": "[encoded data removed]",
      "text/plain": [
       "<Figure size 1080x504 with 1 Axes>"
      ]
     },
     "metadata": {
      "tags": []
     },
     "output_type": "display_data"
    }
   ],
   "source": [
    "sum_fem_100k['feminicidio_tentativa'].sort_values(ascending=False).nlargest(20).plot.bar(color = 'mediumvioletred', figsize = (15, 7))"
   ]
  }
 ],
 "metadata": {
  "accelerator": "GPU",
  "colab": {
   "collapsed_sections": [
    "AYMN96qfOYOS",
    "T5FZrenWR4-L",
    "g3zLNg20Irb4",
    "i1DKsON8US8-",
    "lIpaMeNnL5eq"
   ],
   "name": "eda.ipynb",
   "provenance": []
  },
  "kernelspec": {
   "display_name": "Python 3",
   "language": "python",
   "name": "python3"
  },
  "language_info": {
   "codemirror_mode": {
    "name": "ipython",
    "version": 3
   },
   "file_extension": ".py",
   "mimetype": "text/x-python",
   "name": "python",
   "nbconvert_exporter": "python",
   "pygments_lexer": "ipython3",
   "version": "3.7.2"
  }
 },
 "nbformat": 4,
 "nbformat_minor": 1
}
