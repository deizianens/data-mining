{
  "nbformat": 4,
  "nbformat_minor": 0,
  "metadata": {
    "colab": {
      "name": "clustering.ipynb",
      "provenance": [],
      "collapsed_sections": []
    },
    "kernelspec": {
      "name": "python3",
      "display_name": "Python 3"
    }
  },
  "cells": [
    {
      "cell_type": "code",
      "metadata": {
        "id": "D9vMxXMmTYXR",
        "colab_type": "code",
        "colab": {}
      },
      "source": [
        "# for some basic operations\n",
        "import numpy as np \n",
        "import pandas as pd \n",
        "import datetime\n",
        "import calendar\n",
        "\n",
        "import sklearn\n",
        "from sklearn.preprocessing import StandardScaler\n",
        "from sklearn.cluster import KMeans\n",
        "from sklearn.metrics import silhouette_score\n",
        "\n",
        "from scipy.cluster.hierarchy import linkage\n",
        "from scipy.cluster.hierarchy import dendrogram\n",
        "from scipy.cluster.hierarchy import cut_tree\n",
        "\n",
        "# for visualizations\n",
        "import matplotlib.pyplot as plt\n",
        "import seaborn as sns\n"
      ],
      "execution_count": 0,
      "outputs": []
    },
    {
      "cell_type": "code",
      "metadata": {
        "id": "_AE646MQTbS4",
        "colab_type": "code",
        "colab": {}
      },
      "source": [
        "# Code to read csv file into Colaboratory:\n",
        "!pip install -U -q PyDrive\n",
        "from pydrive.auth import GoogleAuth\n",
        "from pydrive.drive import GoogleDrive\n",
        "from google.colab import auth\n",
        "from oauth2client.client import GoogleCredentials\n",
        "# Authenticate and create the PyDrive client.\n",
        "auth.authenticate_user()\n",
        "gauth = GoogleAuth()\n",
        "gauth.credentials = GoogleCredentials.get_application_default()\n",
        "drive = GoogleDrive(gauth)"
      ],
      "execution_count": 0,
      "outputs": []
    },
    {
      "cell_type": "code",
      "metadata": {
        "id": "Taw7Zm4oTfdW",
        "colab_type": "code",
        "outputId": "1a0a7b5c-7a6a-4cd7-d829-970f82928986",
        "colab": {
          "base_uri": "https://localhost:8080/",
          "height": 34
        }
      },
      "source": [
        "link = 'https://drive.google.com/open?id=1gXJhtcrcZ-7jFsRfTZXXFcVBKlRA-5qD' # The shareable link\n",
        "\n",
        "fluff, id = link.split('=')\n",
        "\n",
        "print (id) # Verify that you have everything after '='\n",
        "\n",
        "downloaded = drive.CreateFile({'id':id}) \n",
        "downloaded.GetContentFile('fogo-cruzado.csv') \n"
      ],
      "execution_count": 0,
      "outputs": [
        {
          "output_type": "stream",
          "text": [
            "1gXJhtcrcZ-7jFsRfTZXXFcVBKlRA-5qD\n"
          ],
          "name": "stdout"
        }
      ]
    },
    {
      "cell_type": "code",
      "metadata": {
        "id": "9uTGgiNQaJbG",
        "colab_type": "code",
        "colab": {}
      },
      "source": [
        "tiroteios_df = pd.read_csv('fogo-cruzado.csv', encoding='latin-1')"
      ],
      "execution_count": 0,
      "outputs": []
    },
    {
      "cell_type": "code",
      "metadata": {
        "id": "G39YvmOE0upD",
        "colab_type": "code",
        "colab": {}
      },
      "source": [
        "tiroteios_df['data_ocorrencia'] = pd.to_datetime(tiroteios_df['data_ocorrencia'], errors='coerce', dayfirst=True)\n",
        "tiroteios_df['ano'], tiroteios_df['mes'], tiroteios_df['dia'] = tiroteios_df['data_ocorrencia'].dt.year, tiroteios_df['data_ocorrencia'].dt.month, tiroteios_df['data_ocorrencia'].dt.day"
      ],
      "execution_count": 0,
      "outputs": []
    },
    {
      "cell_type": "code",
      "metadata": {
        "id": "c-7z9dtZ0-sO",
        "colab_type": "code",
        "outputId": "b376602e-9720-404f-a450-f3c197075731",
        "colab": {
          "base_uri": "https://localhost:8080/",
          "height": 350
        }
      },
      "source": [
        "tmp = []\n",
        "for i in range(tiroteios_df.shape[0]):\n",
        "    tmp.append(calendar.day_name[datetime.datetime(tiroteios_df['ano'][i], tiroteios_df['mes'][i], tiroteios_df['dia'][i]).weekday()])\n",
        "\n",
        "tiroteios_df['dia_da_semana'] = tmp\n",
        "tiroteios_df.head()"
      ],
      "execution_count": 0,
      "outputs": [
        {
          "output_type": "execute_result",
          "data": {
            "text/html": [
              "<div>\n",
              "<style scoped>\n",
              "    .dataframe tbody tr th:only-of-type {\n",
              "        vertical-align: middle;\n",
              "    }\n",
              "\n",
              "    .dataframe tbody tr th {\n",
              "        vertical-align: top;\n",
              "    }\n",
              "\n",
              "    .dataframe thead th {\n",
              "        text-align: right;\n",
              "    }\n",
              "</style>\n",
              "<table border=\"1\" class=\"dataframe\">\n",
              "  <thead>\n",
              "    <tr style=\"text-align: right;\">\n",
              "      <th></th>\n",
              "      <th>id_ocorrencia</th>\n",
              "      <th>local_ocorrencia</th>\n",
              "      <th>latitude_ocorrencia</th>\n",
              "      <th>longitude_ocorrencia</th>\n",
              "      <th>data_ocorrencia</th>\n",
              "      <th>hora_ocorrencia</th>\n",
              "      <th>presen_agen_segur_ocorrencia</th>\n",
              "      <th>qtd_morto_civil_ocorrencia</th>\n",
              "      <th>qtd_morto_agen_segur_ocorrencia</th>\n",
              "      <th>qtd_ferido_civil_ocorrencia</th>\n",
              "      <th>qtd_ferido_agen_segur_ocorrencia</th>\n",
              "      <th>fonte_ocorrencia</th>\n",
              "      <th>estado_id</th>\n",
              "      <th>cidade_id</th>\n",
              "      <th>nome_cidade</th>\n",
              "      <th>cod_ibge_cidade</th>\n",
              "      <th>gentilico_cidade</th>\n",
              "      <th>populacao_cidade</th>\n",
              "      <th>area_cidade</th>\n",
              "      <th>densidade_demo_cidade</th>\n",
              "      <th>nome_estado</th>\n",
              "      <th>uf_estado</th>\n",
              "      <th>cod_ibge_estado</th>\n",
              "      <th>ano</th>\n",
              "      <th>mes</th>\n",
              "      <th>dia</th>\n",
              "      <th>dia_da_semana</th>\n",
              "    </tr>\n",
              "  </thead>\n",
              "  <tbody>\n",
              "    <tr>\n",
              "      <th>0</th>\n",
              "      <td>8758</td>\n",
              "      <td>Maré; Rio de Janeiro - RJ; Brasil</td>\n",
              "      <td>-22.857496</td>\n",
              "      <td>-43.243015</td>\n",
              "      <td>2018-01-09</td>\n",
              "      <td>15:57:00</td>\n",
              "      <td>0</td>\n",
              "      <td>0</td>\n",
              "      <td>0</td>\n",
              "      <td>0</td>\n",
              "      <td>0</td>\n",
              "      <td>0</td>\n",
              "      <td>19</td>\n",
              "      <td>3661</td>\n",
              "      <td>Rio de Janeiro</td>\n",
              "      <td>3304557</td>\n",
              "      <td>carioca</td>\n",
              "      <td>6320446</td>\n",
              "      <td>119746</td>\n",
              "      <td>5.27</td>\n",
              "      <td>Rio de Janeiro</td>\n",
              "      <td>RJ</td>\n",
              "      <td>33</td>\n",
              "      <td>2018</td>\n",
              "      <td>1</td>\n",
              "      <td>9</td>\n",
              "      <td>Tuesday</td>\n",
              "    </tr>\n",
              "    <tr>\n",
              "      <th>1</th>\n",
              "      <td>10431</td>\n",
              "      <td>R. Alice - Laranjeiras; Rio de Janeiro - RJ; B...</td>\n",
              "      <td>-22.935377</td>\n",
              "      <td>-43.194631</td>\n",
              "      <td>2018-01-19</td>\n",
              "      <td>20:54:00</td>\n",
              "      <td>0</td>\n",
              "      <td>0</td>\n",
              "      <td>0</td>\n",
              "      <td>0</td>\n",
              "      <td>0</td>\n",
              "      <td>0</td>\n",
              "      <td>19</td>\n",
              "      <td>3661</td>\n",
              "      <td>Rio de Janeiro</td>\n",
              "      <td>3304557</td>\n",
              "      <td>carioca</td>\n",
              "      <td>6320446</td>\n",
              "      <td>119746</td>\n",
              "      <td>5.27</td>\n",
              "      <td>Rio de Janeiro</td>\n",
              "      <td>RJ</td>\n",
              "      <td>33</td>\n",
              "      <td>2018</td>\n",
              "      <td>1</td>\n",
              "      <td>19</td>\n",
              "      <td>Friday</td>\n",
              "    </tr>\n",
              "    <tr>\n",
              "      <th>2</th>\n",
              "      <td>10430</td>\n",
              "      <td>Areia Branca; Belford Roxo - RJ; Brasil</td>\n",
              "      <td>-22.748600</td>\n",
              "      <td>-43.410628</td>\n",
              "      <td>2018-01-19</td>\n",
              "      <td>18:37:00</td>\n",
              "      <td>0</td>\n",
              "      <td>0</td>\n",
              "      <td>0</td>\n",
              "      <td>0</td>\n",
              "      <td>0</td>\n",
              "      <td>0</td>\n",
              "      <td>19</td>\n",
              "      <td>3602</td>\n",
              "      <td>Belford Roxo</td>\n",
              "      <td>3300456</td>\n",
              "      <td>belford-roxense</td>\n",
              "      <td>469332</td>\n",
              "      <td>7782</td>\n",
              "      <td>6.03</td>\n",
              "      <td>Rio de Janeiro</td>\n",
              "      <td>RJ</td>\n",
              "      <td>33</td>\n",
              "      <td>2018</td>\n",
              "      <td>1</td>\n",
              "      <td>19</td>\n",
              "      <td>Friday</td>\n",
              "    </tr>\n",
              "    <tr>\n",
              "      <th>3</th>\n",
              "      <td>16</td>\n",
              "      <td>Santa Cruz; Rio de Janeiro - RJ; Brasil</td>\n",
              "      <td>-22.919651</td>\n",
              "      <td>-43.684387</td>\n",
              "      <td>2016-07-05</td>\n",
              "      <td>6:02:00</td>\n",
              "      <td>1</td>\n",
              "      <td>0</td>\n",
              "      <td>1</td>\n",
              "      <td>0</td>\n",
              "      <td>0</td>\n",
              "      <td>1</td>\n",
              "      <td>19</td>\n",
              "      <td>3661</td>\n",
              "      <td>Rio de Janeiro</td>\n",
              "      <td>3304557</td>\n",
              "      <td>carioca</td>\n",
              "      <td>6320446</td>\n",
              "      <td>119746</td>\n",
              "      <td>5.27</td>\n",
              "      <td>Rio de Janeiro</td>\n",
              "      <td>RJ</td>\n",
              "      <td>33</td>\n",
              "      <td>2016</td>\n",
              "      <td>7</td>\n",
              "      <td>5</td>\n",
              "      <td>Tuesday</td>\n",
              "    </tr>\n",
              "    <tr>\n",
              "      <th>4</th>\n",
              "      <td>17</td>\n",
              "      <td>Rua Barão - Praça Seca; Rio de Janeiro - RJ; B...</td>\n",
              "      <td>-22.898642</td>\n",
              "      <td>-43.352360</td>\n",
              "      <td>2016-07-05</td>\n",
              "      <td>13:44:00</td>\n",
              "      <td>1</td>\n",
              "      <td>0</td>\n",
              "      <td>0</td>\n",
              "      <td>0</td>\n",
              "      <td>0</td>\n",
              "      <td>0</td>\n",
              "      <td>19</td>\n",
              "      <td>3661</td>\n",
              "      <td>Rio de Janeiro</td>\n",
              "      <td>3304557</td>\n",
              "      <td>carioca</td>\n",
              "      <td>6320446</td>\n",
              "      <td>119746</td>\n",
              "      <td>5.27</td>\n",
              "      <td>Rio de Janeiro</td>\n",
              "      <td>RJ</td>\n",
              "      <td>33</td>\n",
              "      <td>2016</td>\n",
              "      <td>7</td>\n",
              "      <td>5</td>\n",
              "      <td>Tuesday</td>\n",
              "    </tr>\n",
              "  </tbody>\n",
              "</table>\n",
              "</div>"
            ],
            "text/plain": [
              "   id_ocorrencia  ... dia_da_semana\n",
              "0           8758  ...       Tuesday\n",
              "1          10431  ...        Friday\n",
              "2          10430  ...        Friday\n",
              "3             16  ...       Tuesday\n",
              "4             17  ...       Tuesday\n",
              "\n",
              "[5 rows x 27 columns]"
            ]
          },
          "metadata": {
            "tags": []
          },
          "execution_count": 21
        }
      ]
    },
    {
      "cell_type": "markdown",
      "metadata": {
        "id": "u4Ib0E9vx6nC",
        "colab_type": "text"
      },
      "source": [
        "**Contando a frequência dos crimes**"
      ]
    },
    {
      "cell_type": "code",
      "metadata": {
        "id": "gEDsiYSSyPeF",
        "colab_type": "code",
        "outputId": "d7184ab9-dda9-4538-b86d-82a0ee949743",
        "colab": {
          "base_uri": "https://localhost:8080/",
          "height": 195
        }
      },
      "source": [
        "tiroteios_f = tiroteios_df.groupby('nome_cidade')['data_ocorrencia'].count()\n",
        "tiroteios_f = tiroteios_f.reset_index()\n",
        "tiroteios_f.columns = ['nome_cidade', 'Frequency']\n",
        "tiroteios_f.head()"
      ],
      "execution_count": 0,
      "outputs": [
        {
          "output_type": "execute_result",
          "data": {
            "text/html": [
              "<div>\n",
              "<style scoped>\n",
              "    .dataframe tbody tr th:only-of-type {\n",
              "        vertical-align: middle;\n",
              "    }\n",
              "\n",
              "    .dataframe tbody tr th {\n",
              "        vertical-align: top;\n",
              "    }\n",
              "\n",
              "    .dataframe thead th {\n",
              "        text-align: right;\n",
              "    }\n",
              "</style>\n",
              "<table border=\"1\" class=\"dataframe\">\n",
              "  <thead>\n",
              "    <tr style=\"text-align: right;\">\n",
              "      <th></th>\n",
              "      <th>nome_cidade</th>\n",
              "      <th>Frequency</th>\n",
              "    </tr>\n",
              "  </thead>\n",
              "  <tbody>\n",
              "    <tr>\n",
              "      <th>0</th>\n",
              "      <td>Belford Roxo</td>\n",
              "      <td>1394</td>\n",
              "    </tr>\n",
              "    <tr>\n",
              "      <th>1</th>\n",
              "      <td>Cachoeiras de Macacu</td>\n",
              "      <td>2</td>\n",
              "    </tr>\n",
              "    <tr>\n",
              "      <th>2</th>\n",
              "      <td>Duque de Caxias</td>\n",
              "      <td>1064</td>\n",
              "    </tr>\n",
              "    <tr>\n",
              "      <th>3</th>\n",
              "      <td>Guapimirim</td>\n",
              "      <td>18</td>\n",
              "    </tr>\n",
              "    <tr>\n",
              "      <th>4</th>\n",
              "      <td>Itaboraí</td>\n",
              "      <td>294</td>\n",
              "    </tr>\n",
              "  </tbody>\n",
              "</table>\n",
              "</div>"
            ],
            "text/plain": [
              "            nome_cidade  Frequency\n",
              "0          Belford Roxo       1394\n",
              "1  Cachoeiras de Macacu          2\n",
              "2       Duque de Caxias       1064\n",
              "3            Guapimirim         18\n",
              "4              Itaboraí        294"
            ]
          },
          "metadata": {
            "tags": []
          },
          "execution_count": 24
        }
      ]
    },
    {
      "cell_type": "markdown",
      "metadata": {
        "id": "Hl-0hjJ42wk5",
        "colab_type": "text"
      },
      "source": [
        "**Diferença de tempo entre o ultimo tiroteio (verifica basicamente há quanto tempo não tem tiroteio naquela cidade)**"
      ]
    },
    {
      "cell_type": "code",
      "metadata": {
        "id": "2HACpg-E2v7s",
        "colab_type": "code",
        "colab": {}
      },
      "source": [
        "tiroteios_df['data_ocorrencia'] = pd.to_datetime(tiroteios_df['data_ocorrencia'],format='%Y-%m-%d')"
      ],
      "execution_count": 0,
      "outputs": []
    },
    {
      "cell_type": "code",
      "metadata": {
        "id": "P5JK-UoV3WS5",
        "colab_type": "code",
        "outputId": "b5e12bfe-3579-4333-a191-e83e929573f7",
        "colab": {
          "base_uri": "https://localhost:8080/",
          "height": 34
        }
      },
      "source": [
        "max_date = max(tiroteios_df['data_ocorrencia'])\n",
        "max_date"
      ],
      "execution_count": 0,
      "outputs": [
        {
          "output_type": "execute_result",
          "data": {
            "text/plain": [
              "Timestamp('2019-10-19 00:00:00')"
            ]
          },
          "metadata": {
            "tags": []
          },
          "execution_count": 29
        }
      ]
    },
    {
      "cell_type": "code",
      "metadata": {
        "id": "PCJ9DMRE3k9a",
        "colab_type": "code",
        "outputId": "8878e227-34bc-4d40-c361-f584a589ea3a",
        "colab": {
          "base_uri": "https://localhost:8080/",
          "height": 350
        }
      },
      "source": [
        "tiroteios_df['Diff'] = max_date - tiroteios_df['data_ocorrencia']\n",
        "tiroteios_df.head()"
      ],
      "execution_count": 0,
      "outputs": [
        {
          "output_type": "execute_result",
          "data": {
            "text/html": [
              "<div>\n",
              "<style scoped>\n",
              "    .dataframe tbody tr th:only-of-type {\n",
              "        vertical-align: middle;\n",
              "    }\n",
              "\n",
              "    .dataframe tbody tr th {\n",
              "        vertical-align: top;\n",
              "    }\n",
              "\n",
              "    .dataframe thead th {\n",
              "        text-align: right;\n",
              "    }\n",
              "</style>\n",
              "<table border=\"1\" class=\"dataframe\">\n",
              "  <thead>\n",
              "    <tr style=\"text-align: right;\">\n",
              "      <th></th>\n",
              "      <th>id_ocorrencia</th>\n",
              "      <th>local_ocorrencia</th>\n",
              "      <th>latitude_ocorrencia</th>\n",
              "      <th>longitude_ocorrencia</th>\n",
              "      <th>data_ocorrencia</th>\n",
              "      <th>hora_ocorrencia</th>\n",
              "      <th>presen_agen_segur_ocorrencia</th>\n",
              "      <th>qtd_morto_civil_ocorrencia</th>\n",
              "      <th>qtd_morto_agen_segur_ocorrencia</th>\n",
              "      <th>qtd_ferido_civil_ocorrencia</th>\n",
              "      <th>qtd_ferido_agen_segur_ocorrencia</th>\n",
              "      <th>fonte_ocorrencia</th>\n",
              "      <th>estado_id</th>\n",
              "      <th>cidade_id</th>\n",
              "      <th>nome_cidade</th>\n",
              "      <th>cod_ibge_cidade</th>\n",
              "      <th>gentilico_cidade</th>\n",
              "      <th>populacao_cidade</th>\n",
              "      <th>area_cidade</th>\n",
              "      <th>densidade_demo_cidade</th>\n",
              "      <th>nome_estado</th>\n",
              "      <th>uf_estado</th>\n",
              "      <th>cod_ibge_estado</th>\n",
              "      <th>ano</th>\n",
              "      <th>mes</th>\n",
              "      <th>dia</th>\n",
              "      <th>dia_da_semana</th>\n",
              "      <th>Diff</th>\n",
              "    </tr>\n",
              "  </thead>\n",
              "  <tbody>\n",
              "    <tr>\n",
              "      <th>0</th>\n",
              "      <td>8758</td>\n",
              "      <td>Maré; Rio de Janeiro - RJ; Brasil</td>\n",
              "      <td>-22.857496</td>\n",
              "      <td>-43.243015</td>\n",
              "      <td>2018-01-09</td>\n",
              "      <td>15:57:00</td>\n",
              "      <td>0</td>\n",
              "      <td>0</td>\n",
              "      <td>0</td>\n",
              "      <td>0</td>\n",
              "      <td>0</td>\n",
              "      <td>0</td>\n",
              "      <td>19</td>\n",
              "      <td>3661</td>\n",
              "      <td>Rio de Janeiro</td>\n",
              "      <td>3304557</td>\n",
              "      <td>carioca</td>\n",
              "      <td>6320446</td>\n",
              "      <td>119746</td>\n",
              "      <td>5.27</td>\n",
              "      <td>Rio de Janeiro</td>\n",
              "      <td>RJ</td>\n",
              "      <td>33</td>\n",
              "      <td>2018</td>\n",
              "      <td>1</td>\n",
              "      <td>9</td>\n",
              "      <td>Tuesday</td>\n",
              "      <td>648 days</td>\n",
              "    </tr>\n",
              "    <tr>\n",
              "      <th>1</th>\n",
              "      <td>10431</td>\n",
              "      <td>R. Alice - Laranjeiras; Rio de Janeiro - RJ; B...</td>\n",
              "      <td>-22.935377</td>\n",
              "      <td>-43.194631</td>\n",
              "      <td>2018-01-19</td>\n",
              "      <td>20:54:00</td>\n",
              "      <td>0</td>\n",
              "      <td>0</td>\n",
              "      <td>0</td>\n",
              "      <td>0</td>\n",
              "      <td>0</td>\n",
              "      <td>0</td>\n",
              "      <td>19</td>\n",
              "      <td>3661</td>\n",
              "      <td>Rio de Janeiro</td>\n",
              "      <td>3304557</td>\n",
              "      <td>carioca</td>\n",
              "      <td>6320446</td>\n",
              "      <td>119746</td>\n",
              "      <td>5.27</td>\n",
              "      <td>Rio de Janeiro</td>\n",
              "      <td>RJ</td>\n",
              "      <td>33</td>\n",
              "      <td>2018</td>\n",
              "      <td>1</td>\n",
              "      <td>19</td>\n",
              "      <td>Friday</td>\n",
              "      <td>638 days</td>\n",
              "    </tr>\n",
              "    <tr>\n",
              "      <th>2</th>\n",
              "      <td>10430</td>\n",
              "      <td>Areia Branca; Belford Roxo - RJ; Brasil</td>\n",
              "      <td>-22.748600</td>\n",
              "      <td>-43.410628</td>\n",
              "      <td>2018-01-19</td>\n",
              "      <td>18:37:00</td>\n",
              "      <td>0</td>\n",
              "      <td>0</td>\n",
              "      <td>0</td>\n",
              "      <td>0</td>\n",
              "      <td>0</td>\n",
              "      <td>0</td>\n",
              "      <td>19</td>\n",
              "      <td>3602</td>\n",
              "      <td>Belford Roxo</td>\n",
              "      <td>3300456</td>\n",
              "      <td>belford-roxense</td>\n",
              "      <td>469332</td>\n",
              "      <td>7782</td>\n",
              "      <td>6.03</td>\n",
              "      <td>Rio de Janeiro</td>\n",
              "      <td>RJ</td>\n",
              "      <td>33</td>\n",
              "      <td>2018</td>\n",
              "      <td>1</td>\n",
              "      <td>19</td>\n",
              "      <td>Friday</td>\n",
              "      <td>638 days</td>\n",
              "    </tr>\n",
              "    <tr>\n",
              "      <th>3</th>\n",
              "      <td>16</td>\n",
              "      <td>Santa Cruz; Rio de Janeiro - RJ; Brasil</td>\n",
              "      <td>-22.919651</td>\n",
              "      <td>-43.684387</td>\n",
              "      <td>2016-07-05</td>\n",
              "      <td>6:02:00</td>\n",
              "      <td>1</td>\n",
              "      <td>0</td>\n",
              "      <td>1</td>\n",
              "      <td>0</td>\n",
              "      <td>0</td>\n",
              "      <td>1</td>\n",
              "      <td>19</td>\n",
              "      <td>3661</td>\n",
              "      <td>Rio de Janeiro</td>\n",
              "      <td>3304557</td>\n",
              "      <td>carioca</td>\n",
              "      <td>6320446</td>\n",
              "      <td>119746</td>\n",
              "      <td>5.27</td>\n",
              "      <td>Rio de Janeiro</td>\n",
              "      <td>RJ</td>\n",
              "      <td>33</td>\n",
              "      <td>2016</td>\n",
              "      <td>7</td>\n",
              "      <td>5</td>\n",
              "      <td>Tuesday</td>\n",
              "      <td>1201 days</td>\n",
              "    </tr>\n",
              "    <tr>\n",
              "      <th>4</th>\n",
              "      <td>17</td>\n",
              "      <td>Rua Barão - Praça Seca; Rio de Janeiro - RJ; B...</td>\n",
              "      <td>-22.898642</td>\n",
              "      <td>-43.352360</td>\n",
              "      <td>2016-07-05</td>\n",
              "      <td>13:44:00</td>\n",
              "      <td>1</td>\n",
              "      <td>0</td>\n",
              "      <td>0</td>\n",
              "      <td>0</td>\n",
              "      <td>0</td>\n",
              "      <td>0</td>\n",
              "      <td>19</td>\n",
              "      <td>3661</td>\n",
              "      <td>Rio de Janeiro</td>\n",
              "      <td>3304557</td>\n",
              "      <td>carioca</td>\n",
              "      <td>6320446</td>\n",
              "      <td>119746</td>\n",
              "      <td>5.27</td>\n",
              "      <td>Rio de Janeiro</td>\n",
              "      <td>RJ</td>\n",
              "      <td>33</td>\n",
              "      <td>2016</td>\n",
              "      <td>7</td>\n",
              "      <td>5</td>\n",
              "      <td>Tuesday</td>\n",
              "      <td>1201 days</td>\n",
              "    </tr>\n",
              "  </tbody>\n",
              "</table>\n",
              "</div>"
            ],
            "text/plain": [
              "   id_ocorrencia  ...      Diff\n",
              "0           8758  ...  648 days\n",
              "1          10431  ...  638 days\n",
              "2          10430  ...  638 days\n",
              "3             16  ... 1201 days\n",
              "4             17  ... 1201 days\n",
              "\n",
              "[5 rows x 28 columns]"
            ]
          },
          "metadata": {
            "tags": []
          },
          "execution_count": 31
        }
      ]
    },
    {
      "cell_type": "code",
      "metadata": {
        "id": "laYZWw1V374g",
        "colab_type": "code",
        "outputId": "2c53b54d-133f-446e-c182-621cc7a8ea29",
        "colab": {
          "base_uri": "https://localhost:8080/",
          "height": 195
        }
      },
      "source": [
        "tiroteios_diff = tiroteios_df.groupby('nome_cidade')['Diff'].min()\n",
        "tiroteios_diff = tiroteios_diff.reset_index()\n",
        "tiroteios_diff.head()"
      ],
      "execution_count": 0,
      "outputs": [
        {
          "output_type": "execute_result",
          "data": {
            "text/html": [
              "<div>\n",
              "<style scoped>\n",
              "    .dataframe tbody tr th:only-of-type {\n",
              "        vertical-align: middle;\n",
              "    }\n",
              "\n",
              "    .dataframe tbody tr th {\n",
              "        vertical-align: top;\n",
              "    }\n",
              "\n",
              "    .dataframe thead th {\n",
              "        text-align: right;\n",
              "    }\n",
              "</style>\n",
              "<table border=\"1\" class=\"dataframe\">\n",
              "  <thead>\n",
              "    <tr style=\"text-align: right;\">\n",
              "      <th></th>\n",
              "      <th>nome_cidade</th>\n",
              "      <th>Diff</th>\n",
              "    </tr>\n",
              "  </thead>\n",
              "  <tbody>\n",
              "    <tr>\n",
              "      <th>0</th>\n",
              "      <td>Belford Roxo</td>\n",
              "      <td>1 days</td>\n",
              "    </tr>\n",
              "    <tr>\n",
              "      <th>1</th>\n",
              "      <td>Cachoeiras de Macacu</td>\n",
              "      <td>413 days</td>\n",
              "    </tr>\n",
              "    <tr>\n",
              "      <th>2</th>\n",
              "      <td>Duque de Caxias</td>\n",
              "      <td>3 days</td>\n",
              "    </tr>\n",
              "    <tr>\n",
              "      <th>3</th>\n",
              "      <td>Guapimirim</td>\n",
              "      <td>111 days</td>\n",
              "    </tr>\n",
              "    <tr>\n",
              "      <th>4</th>\n",
              "      <td>Itaboraí</td>\n",
              "      <td>17 days</td>\n",
              "    </tr>\n",
              "  </tbody>\n",
              "</table>\n",
              "</div>"
            ],
            "text/plain": [
              "            nome_cidade     Diff\n",
              "0          Belford Roxo   1 days\n",
              "1  Cachoeiras de Macacu 413 days\n",
              "2       Duque de Caxias   3 days\n",
              "3            Guapimirim 111 days\n",
              "4              Itaboraí  17 days"
            ]
          },
          "metadata": {
            "tags": []
          },
          "execution_count": 63
        }
      ]
    },
    {
      "cell_type": "code",
      "metadata": {
        "id": "4I8C5C4h5DXp",
        "colab_type": "code",
        "outputId": "fbbedada-7567-47f3-ec95-47ec58ab65b0",
        "colab": {
          "base_uri": "https://localhost:8080/",
          "height": 195
        }
      },
      "source": [
        "tiroteios_diff['Diff'] =tiroteios_diff['Diff'].dt.days\n",
        "tiroteios_diff.head()"
      ],
      "execution_count": 0,
      "outputs": [
        {
          "output_type": "execute_result",
          "data": {
            "text/html": [
              "<div>\n",
              "<style scoped>\n",
              "    .dataframe tbody tr th:only-of-type {\n",
              "        vertical-align: middle;\n",
              "    }\n",
              "\n",
              "    .dataframe tbody tr th {\n",
              "        vertical-align: top;\n",
              "    }\n",
              "\n",
              "    .dataframe thead th {\n",
              "        text-align: right;\n",
              "    }\n",
              "</style>\n",
              "<table border=\"1\" class=\"dataframe\">\n",
              "  <thead>\n",
              "    <tr style=\"text-align: right;\">\n",
              "      <th></th>\n",
              "      <th>nome_cidade</th>\n",
              "      <th>Diff</th>\n",
              "    </tr>\n",
              "  </thead>\n",
              "  <tbody>\n",
              "    <tr>\n",
              "      <th>0</th>\n",
              "      <td>Belford Roxo</td>\n",
              "      <td>1</td>\n",
              "    </tr>\n",
              "    <tr>\n",
              "      <th>1</th>\n",
              "      <td>Cachoeiras de Macacu</td>\n",
              "      <td>413</td>\n",
              "    </tr>\n",
              "    <tr>\n",
              "      <th>2</th>\n",
              "      <td>Duque de Caxias</td>\n",
              "      <td>3</td>\n",
              "    </tr>\n",
              "    <tr>\n",
              "      <th>3</th>\n",
              "      <td>Guapimirim</td>\n",
              "      <td>111</td>\n",
              "    </tr>\n",
              "    <tr>\n",
              "      <th>4</th>\n",
              "      <td>Itaboraí</td>\n",
              "      <td>17</td>\n",
              "    </tr>\n",
              "  </tbody>\n",
              "</table>\n",
              "</div>"
            ],
            "text/plain": [
              "            nome_cidade  Diff\n",
              "0          Belford Roxo     1\n",
              "1  Cachoeiras de Macacu   413\n",
              "2       Duque de Caxias     3\n",
              "3            Guapimirim   111\n",
              "4              Itaboraí    17"
            ]
          },
          "metadata": {
            "tags": []
          },
          "execution_count": 34
        }
      ]
    },
    {
      "cell_type": "markdown",
      "metadata": {
        "id": "s5YfoLID5QNz",
        "colab_type": "text"
      },
      "source": [
        "Juntando tudo"
      ]
    },
    {
      "cell_type": "code",
      "metadata": {
        "id": "NrFM484X5PJ3",
        "colab_type": "code",
        "outputId": "8f4b3f52-d772-4b23-ac04-9a5830a19a29",
        "colab": {
          "base_uri": "https://localhost:8080/",
          "height": 195
        }
      },
      "source": [
        "tiroteios = pd.merge(tiroteios_f, tiroteios_diff, on='nome_cidade', how='inner')\n",
        "tiroteios.columns = ['nome_cidade', 'Frequency', 'Recency']\n",
        "tiroteios.head()"
      ],
      "execution_count": 0,
      "outputs": [
        {
          "output_type": "execute_result",
          "data": {
            "text/html": [
              "<div>\n",
              "<style scoped>\n",
              "    .dataframe tbody tr th:only-of-type {\n",
              "        vertical-align: middle;\n",
              "    }\n",
              "\n",
              "    .dataframe tbody tr th {\n",
              "        vertical-align: top;\n",
              "    }\n",
              "\n",
              "    .dataframe thead th {\n",
              "        text-align: right;\n",
              "    }\n",
              "</style>\n",
              "<table border=\"1\" class=\"dataframe\">\n",
              "  <thead>\n",
              "    <tr style=\"text-align: right;\">\n",
              "      <th></th>\n",
              "      <th>nome_cidade</th>\n",
              "      <th>Frequency</th>\n",
              "      <th>Recency</th>\n",
              "    </tr>\n",
              "  </thead>\n",
              "  <tbody>\n",
              "    <tr>\n",
              "      <th>0</th>\n",
              "      <td>Belford Roxo</td>\n",
              "      <td>1394</td>\n",
              "      <td>1</td>\n",
              "    </tr>\n",
              "    <tr>\n",
              "      <th>1</th>\n",
              "      <td>Cachoeiras de Macacu</td>\n",
              "      <td>2</td>\n",
              "      <td>413</td>\n",
              "    </tr>\n",
              "    <tr>\n",
              "      <th>2</th>\n",
              "      <td>Duque de Caxias</td>\n",
              "      <td>1064</td>\n",
              "      <td>3</td>\n",
              "    </tr>\n",
              "    <tr>\n",
              "      <th>3</th>\n",
              "      <td>Guapimirim</td>\n",
              "      <td>18</td>\n",
              "      <td>111</td>\n",
              "    </tr>\n",
              "    <tr>\n",
              "      <th>4</th>\n",
              "      <td>Itaboraí</td>\n",
              "      <td>294</td>\n",
              "      <td>17</td>\n",
              "    </tr>\n",
              "  </tbody>\n",
              "</table>\n",
              "</div>"
            ],
            "text/plain": [
              "            nome_cidade  Frequency  Recency\n",
              "0          Belford Roxo       1394        1\n",
              "1  Cachoeiras de Macacu          2      413\n",
              "2       Duque de Caxias       1064        3\n",
              "3            Guapimirim         18      111\n",
              "4              Itaboraí        294       17"
            ]
          },
          "metadata": {
            "tags": []
          },
          "execution_count": 35
        }
      ]
    },
    {
      "cell_type": "markdown",
      "metadata": {
        "id": "jag_wuA_5vJA",
        "colab_type": "text"
      },
      "source": [
        "**Verificando outliers**"
      ]
    },
    {
      "cell_type": "code",
      "metadata": {
        "id": "cjfpVL6Z50dg",
        "colab_type": "code",
        "outputId": "1c6561f4-64c5-43c0-9ad6-f30832b63012",
        "colab": {
          "base_uri": "https://localhost:8080/",
          "height": 531
        }
      },
      "source": [
        "attributes = ['Frequency','Recency']\n",
        "\n",
        "plt.rcParams['figure.figsize'] = [10,8]\n",
        "sns.boxplot(data = tiroteios[attributes], orient=\"v\", palette=\"Set2\" ,whis=1.5,saturation=1, width=0.7)\n",
        "\n",
        "plt.title(\"Outliers Variable Distribution\", fontsize = 14, fontweight = 'bold')\n",
        "plt.ylabel(\"Range\", fontweight = 'bold')\n",
        "plt.xlabel(\"Atributos\", fontweight = 'bold')"
      ],
      "execution_count": 0,
      "outputs": [
        {
          "output_type": "execute_result",
          "data": {
            "text/plain": [
              "Text(0.5, 0, 'Atributos')"
            ]
          },
          "metadata": {
            "tags": []
          },
          "execution_count": 137
        },
        {
          "output_type": "display_data",
          "data": {
            "image/png": "[encoded data removed]",
            "text/plain": [
              "<Figure size 720x576 with 1 Axes>"
            ]
          },
          "metadata": {
            "tags": []
          }
        }
      ]
    },
    {
      "cell_type": "markdown",
      "metadata": {
        "id": "WDArnJgN6LdP",
        "colab_type": "text"
      },
      "source": [
        "**Removendo outliers**"
      ]
    },
    {
      "cell_type": "code",
      "metadata": {
        "id": "SplUHMSF6OKx",
        "colab_type": "code",
        "colab": {}
      },
      "source": [
        "Q1 = tiroteios.Recency.quantile(0.05)\n",
        "Q3 = tiroteios.Recency.quantile(0.95)\n",
        "IQR = Q3 - Q1\n",
        "tiroteios = tiroteios[(tiroteios.Recency >= Q1 - 1.5*IQR) & (tiroteios.Recency <= Q3 + 1.5*IQR)]\n",
        "\n",
        "Q1 = tiroteios.Frequency.quantile(0.05)\n",
        "Q3 = tiroteios.Frequency.quantile(0.95)\n",
        "IQR = Q3 - Q1\n",
        "tiroteios = tiroteios[(tiroteios.Frequency >= Q1 - 1.5*IQR) & (tiroteios.Frequency <= Q3 + 1.5*IQR)]"
      ],
      "execution_count": 0,
      "outputs": []
    },
    {
      "cell_type": "markdown",
      "metadata": {
        "id": "DtHGl10O6mbw",
        "colab_type": "text"
      },
      "source": [
        "**Reescalonando os Atributos**\n",
        "É importante redimensionar as variáveis para que elas tenham uma escala comparável. Existem duas maneiras comuns de redimensionar:\n",
        "\n",
        "* Escala Mínima-Máxima\n",
        "* Padronização (média-0, sigma-1)\n",
        "\n",
        "Aqui, usaremos o escalonamento de padronização."
      ]
    },
    {
      "cell_type": "code",
      "metadata": {
        "id": "J1Z7Fx7S6ll_",
        "colab_type": "code",
        "outputId": "e0f98d35-41d6-4d37-eb04-eeb7542bcc1b",
        "colab": {
          "base_uri": "https://localhost:8080/",
          "height": 34
        }
      },
      "source": [
        "tmp_data = tiroteios[['Frequency', 'Recency']]\n",
        "\n",
        "scaler = StandardScaler()\n",
        "\n",
        "tiroteios_scaled = scaler.fit_transform(tmp_data)\n",
        "tiroteios_scaled.shape"
      ],
      "execution_count": 0,
      "outputs": [
        {
          "output_type": "execute_result",
          "data": {
            "text/plain": [
              "(20, 2)"
            ]
          },
          "metadata": {
            "tags": []
          },
          "execution_count": 41
        }
      ]
    },
    {
      "cell_type": "code",
      "metadata": {
        "id": "zkgyrX327dp4",
        "colab_type": "code",
        "outputId": "5844789a-d01a-4a15-982a-6cb6cbb81255",
        "colab": {
          "base_uri": "https://localhost:8080/",
          "height": 195
        }
      },
      "source": [
        "tiroteios_scaled = pd.DataFrame(tiroteios_scaled)\n",
        "tiroteios_scaled.columns = ['Frequency', 'Recency']\n",
        "tiroteios_scaled.head()"
      ],
      "execution_count": 0,
      "outputs": [
        {
          "output_type": "execute_result",
          "data": {
            "text/html": [
              "<div>\n",
              "<style scoped>\n",
              "    .dataframe tbody tr th:only-of-type {\n",
              "        vertical-align: middle;\n",
              "    }\n",
              "\n",
              "    .dataframe tbody tr th {\n",
              "        vertical-align: top;\n",
              "    }\n",
              "\n",
              "    .dataframe thead th {\n",
              "        text-align: right;\n",
              "    }\n",
              "</style>\n",
              "<table border=\"1\" class=\"dataframe\">\n",
              "  <thead>\n",
              "    <tr style=\"text-align: right;\">\n",
              "      <th></th>\n",
              "      <th>Frequency</th>\n",
              "      <th>Recency</th>\n",
              "    </tr>\n",
              "  </thead>\n",
              "  <tbody>\n",
              "    <tr>\n",
              "      <th>0</th>\n",
              "      <td>1.602364</td>\n",
              "      <td>-0.580360</td>\n",
              "    </tr>\n",
              "    <tr>\n",
              "      <th>1</th>\n",
              "      <td>-0.759943</td>\n",
              "      <td>1.967411</td>\n",
              "    </tr>\n",
              "    <tr>\n",
              "      <th>2</th>\n",
              "      <td>1.042334</td>\n",
              "      <td>-0.567992</td>\n",
              "    </tr>\n",
              "    <tr>\n",
              "      <th>3</th>\n",
              "      <td>-0.732790</td>\n",
              "      <td>0.099870</td>\n",
              "    </tr>\n",
              "    <tr>\n",
              "      <th>4</th>\n",
              "      <td>-0.264402</td>\n",
              "      <td>-0.481417</td>\n",
              "    </tr>\n",
              "  </tbody>\n",
              "</table>\n",
              "</div>"
            ],
            "text/plain": [
              "   Frequency   Recency\n",
              "0   1.602364 -0.580360\n",
              "1  -0.759943  1.967411\n",
              "2   1.042334 -0.567992\n",
              "3  -0.732790  0.099870\n",
              "4  -0.264402 -0.481417"
            ]
          },
          "metadata": {
            "tags": []
          },
          "execution_count": 42
        }
      ]
    },
    {
      "cell_type": "markdown",
      "metadata": {
        "id": "SVtXGRZK7otX",
        "colab_type": "text"
      },
      "source": [
        "## K-Means"
      ]
    },
    {
      "cell_type": "markdown",
      "metadata": {
        "id": "gTE09pYm7v6G",
        "colab_type": "text"
      },
      "source": [
        "**K-Means Clustering**\n",
        "O agrupamento K-means é um dos algoritmos de aprendizado de máquina não supervisionados.\n",
        "\n",
        "O algoritmo funciona da seguinte maneira:\n",
        "\n",
        "* O objetivo desse algoritmo é encontrar similaridades entre os dados e agrupá-los conforme o número de cluster passado pelo argumento k.\n",
        "\n",
        "* Este utiliza um método simples e eficiente baseado no conceito de distância.\n",
        "\n",
        "* O algoritmo de forma iterativa atribui os pontos de dados ao grupo que representa a menor distância, ou seja, ao grupo de dados que seja mais similar."
      ]
    },
    {
      "cell_type": "code",
      "metadata": {
        "id": "i7e9WaGM7rnH",
        "colab_type": "code",
        "outputId": "60d474f6-e3de-419c-977a-1f07b40ff98c",
        "colab": {
          "base_uri": "https://localhost:8080/",
          "height": 67
        }
      },
      "source": [
        "# k-means with some arbitrary k\n",
        "\n",
        "kmeans = KMeans(n_clusters=4, max_iter=50)\n",
        "kmeans.fit(tiroteios_scaled)"
      ],
      "execution_count": 0,
      "outputs": [
        {
          "output_type": "execute_result",
          "data": {
            "text/plain": [
              "KMeans(algorithm='auto', copy_x=True, init='k-means++', max_iter=50,\n",
              "       n_clusters=4, n_init=10, n_jobs=None, precompute_distances='auto',\n",
              "       random_state=None, tol=0.0001, verbose=0)"
            ]
          },
          "metadata": {
            "tags": []
          },
          "execution_count": 43
        }
      ]
    },
    {
      "cell_type": "markdown",
      "metadata": {
        "id": "DxZHfRmK8i9W",
        "colab_type": "text"
      },
      "source": [
        "**Encontrando numero ideal de clusters com Elbow-Curve**\n",
        "\n"
      ]
    },
    {
      "cell_type": "code",
      "metadata": {
        "id": "psaJ_6sU8yqD",
        "colab_type": "code",
        "outputId": "332caf45-e54f-43a1-bd87-abc553699f15",
        "colab": {
          "base_uri": "https://localhost:8080/",
          "height": 500
        }
      },
      "source": [
        "ssd = []\n",
        "range_n_clusters = [2, 3, 4, 5, 6, 7, 8]\n",
        "for num_clusters in range_n_clusters:\n",
        "    kmeans = KMeans(n_clusters=num_clusters, max_iter=50)\n",
        "    kmeans.fit(tiroteios_scaled)\n",
        "    \n",
        "    ssd.append(kmeans.inertia_)\n",
        "    \n",
        "# plot the SSDs for each n_clusters\n",
        "plt.plot(ssd)"
      ],
      "execution_count": 0,
      "outputs": [
        {
          "output_type": "execute_result",
          "data": {
            "text/plain": [
              "[<matplotlib.lines.Line2D at 0x7f4c01899630>]"
            ]
          },
          "metadata": {
            "tags": []
          },
          "execution_count": 44
        },
        {
          "output_type": "display_data",
          "data": {
            "image/png": "[encoded data removed]",
            "text/plain": [
              "<Figure size 720x576 with 1 Axes>"
            ]
          },
          "metadata": {
            "tags": []
          }
        }
      ]
    },
    {
      "cell_type": "markdown",
      "metadata": {
        "id": "vzXrhPVn9U7t",
        "colab_type": "text"
      },
      "source": [
        "**Análise de Silhueta**  \n",
        "O coeficiente de silhueta avalia a coesão dos clusters através da proximidade de um ponto xi aos pontos xj do cluster Ci onde pertence e a proximidade do mesmo ponto aos pontos do cluster mais próximo Cj . \n",
        "\n",
        "O valor deste coeficiente varia entre [−1, 1]:\n",
        "\n",
        "* o valor 1 significa que xi está mais próximo dos pontos do seu cluster do que dos pontos do cluster mais próximo e −1 representa a situação contrária. \n",
        "\n",
        "Por fim, de modo a perceber se os cluster estão bem coesos, faz-se uma média dos coeficientes de silhueta de todos os pontos."
      ]
    },
    {
      "cell_type": "code",
      "metadata": {
        "id": "hrZ9UxOJ91p9",
        "colab_type": "code",
        "outputId": "f6072121-ec3a-46da-bc3f-1c5df9384dca",
        "colab": {
          "base_uri": "https://localhost:8080/",
          "height": 134
        }
      },
      "source": [
        "# de 2 a 8 cluters\n",
        "range_n_clusters = [2, 3, 4, 5, 6, 7, 8]\n",
        "\n",
        "for num_clusters in range_n_clusters:\n",
        "    kmeans = KMeans(n_clusters=num_clusters, max_iter=50)\n",
        "    kmeans.fit(tiroteios_scaled)\n",
        "    \n",
        "    cluster_labels = kmeans.labels_\n",
        "    \n",
        "    # calculo do score de silhueta\n",
        "    silhouette_avg = silhouette_score(tiroteios_scaled, cluster_labels)\n",
        "    print(\"For n_clusters={0}, the silhouette score is {1}\".format(num_clusters, silhouette_avg))"
      ],
      "execution_count": 0,
      "outputs": [
        {
          "output_type": "stream",
          "text": [
            "For n_clusters=2, the silhouette score is 0.5698528091914731\n",
            "For n_clusters=3, the silhouette score is 0.6432777341652172\n",
            "For n_clusters=4, the silhouette score is 0.630558233445076\n",
            "For n_clusters=5, the silhouette score is 0.5860419093140548\n",
            "For n_clusters=6, the silhouette score is 0.5516918704252779\n",
            "For n_clusters=7, the silhouette score is 0.5271606450944439\n",
            "For n_clusters=8, the silhouette score is 0.5390469239221526\n"
          ],
          "name": "stdout"
        }
      ]
    },
    {
      "cell_type": "markdown",
      "metadata": {
        "id": "rPfyFC0j-KFe",
        "colab_type": "text"
      },
      "source": [
        "**Usando k = 3**"
      ]
    },
    {
      "cell_type": "code",
      "metadata": {
        "id": "ICxbtX5W-Nf1",
        "colab_type": "code",
        "outputId": "38d7bc45-33c9-4131-cd50-671e888495bb",
        "colab": {
          "base_uri": "https://localhost:8080/",
          "height": 67
        }
      },
      "source": [
        "kmeans = KMeans(n_clusters=3, max_iter=50)\n",
        "kmeans.fit(tiroteios_scaled)"
      ],
      "execution_count": 0,
      "outputs": [
        {
          "output_type": "execute_result",
          "data": {
            "text/plain": [
              "KMeans(algorithm='auto', copy_x=True, init='k-means++', max_iter=50,\n",
              "       n_clusters=3, n_init=10, n_jobs=None, precompute_distances='auto',\n",
              "       random_state=None, tol=0.0001, verbose=0)"
            ]
          },
          "metadata": {
            "tags": []
          },
          "execution_count": 131
        }
      ]
    },
    {
      "cell_type": "code",
      "metadata": {
        "id": "OJcf6893B0Ax",
        "colab_type": "code",
        "outputId": "637893e6-b6b9-47dd-a139-25fce4b8b75c",
        "colab": {
          "base_uri": "https://localhost:8080/",
          "height": 50
        }
      },
      "source": [
        " kmeans.labels_"
      ],
      "execution_count": 0,
      "outputs": [
        {
          "output_type": "execute_result",
          "data": {
            "text/plain": [
              "array([1, 0, 1, 2, 2, 2, 2, 2, 2, 2, 2, 1, 1, 0, 2, 0, 2, 1, 2, 0],\n",
              "      dtype=int32)"
            ]
          },
          "metadata": {
            "tags": []
          },
          "execution_count": 132
        }
      ]
    },
    {
      "cell_type": "code",
      "metadata": {
        "id": "rijhz1oK-Zh9",
        "colab_type": "code",
        "outputId": "c9d6ab6b-33b3-4743-98f0-9a4090dff862",
        "colab": {
          "base_uri": "https://localhost:8080/",
          "height": 639
        }
      },
      "source": [
        "# assign the label\n",
        "tiroteios['Cluster_Id'] = kmeans.labels_\n",
        "tiroteios"
      ],
      "execution_count": 0,
      "outputs": [
        {
          "output_type": "execute_result",
          "data": {
            "text/html": [
              "<div>\n",
              "<style scoped>\n",
              "    .dataframe tbody tr th:only-of-type {\n",
              "        vertical-align: middle;\n",
              "    }\n",
              "\n",
              "    .dataframe tbody tr th {\n",
              "        vertical-align: top;\n",
              "    }\n",
              "\n",
              "    .dataframe thead th {\n",
              "        text-align: right;\n",
              "    }\n",
              "</style>\n",
              "<table border=\"1\" class=\"dataframe\">\n",
              "  <thead>\n",
              "    <tr style=\"text-align: right;\">\n",
              "      <th></th>\n",
              "      <th>nome_cidade</th>\n",
              "      <th>Frequency</th>\n",
              "      <th>Recency</th>\n",
              "      <th>Cluster_Id</th>\n",
              "      <th>Cluster_Labels</th>\n",
              "    </tr>\n",
              "  </thead>\n",
              "  <tbody>\n",
              "    <tr>\n",
              "      <th>0</th>\n",
              "      <td>Belford Roxo</td>\n",
              "      <td>1394</td>\n",
              "      <td>1</td>\n",
              "      <td>1</td>\n",
              "      <td>0</td>\n",
              "    </tr>\n",
              "    <tr>\n",
              "      <th>1</th>\n",
              "      <td>Cachoeiras de Macacu</td>\n",
              "      <td>2</td>\n",
              "      <td>413</td>\n",
              "      <td>0</td>\n",
              "      <td>1</td>\n",
              "    </tr>\n",
              "    <tr>\n",
              "      <th>2</th>\n",
              "      <td>Duque de Caxias</td>\n",
              "      <td>1064</td>\n",
              "      <td>3</td>\n",
              "      <td>1</td>\n",
              "      <td>0</td>\n",
              "    </tr>\n",
              "    <tr>\n",
              "      <th>3</th>\n",
              "      <td>Guapimirim</td>\n",
              "      <td>18</td>\n",
              "      <td>111</td>\n",
              "      <td>2</td>\n",
              "      <td>2</td>\n",
              "    </tr>\n",
              "    <tr>\n",
              "      <th>4</th>\n",
              "      <td>Itaboraí</td>\n",
              "      <td>294</td>\n",
              "      <td>17</td>\n",
              "      <td>2</td>\n",
              "      <td>2</td>\n",
              "    </tr>\n",
              "    <tr>\n",
              "      <th>5</th>\n",
              "      <td>Itaguaí</td>\n",
              "      <td>199</td>\n",
              "      <td>5</td>\n",
              "      <td>2</td>\n",
              "      <td>2</td>\n",
              "    </tr>\n",
              "    <tr>\n",
              "      <th>6</th>\n",
              "      <td>Japeri</td>\n",
              "      <td>207</td>\n",
              "      <td>35</td>\n",
              "      <td>2</td>\n",
              "      <td>2</td>\n",
              "    </tr>\n",
              "    <tr>\n",
              "      <th>7</th>\n",
              "      <td>Magé</td>\n",
              "      <td>86</td>\n",
              "      <td>2</td>\n",
              "      <td>2</td>\n",
              "      <td>2</td>\n",
              "    </tr>\n",
              "    <tr>\n",
              "      <th>8</th>\n",
              "      <td>Maricá</td>\n",
              "      <td>114</td>\n",
              "      <td>7</td>\n",
              "      <td>2</td>\n",
              "      <td>2</td>\n",
              "    </tr>\n",
              "    <tr>\n",
              "      <th>9</th>\n",
              "      <td>Mesquita</td>\n",
              "      <td>249</td>\n",
              "      <td>25</td>\n",
              "      <td>2</td>\n",
              "      <td>2</td>\n",
              "    </tr>\n",
              "    <tr>\n",
              "      <th>10</th>\n",
              "      <td>Nilópolis</td>\n",
              "      <td>158</td>\n",
              "      <td>8</td>\n",
              "      <td>2</td>\n",
              "      <td>2</td>\n",
              "    </tr>\n",
              "    <tr>\n",
              "      <th>11</th>\n",
              "      <td>Niterói</td>\n",
              "      <td>1297</td>\n",
              "      <td>2</td>\n",
              "      <td>1</td>\n",
              "      <td>0</td>\n",
              "    </tr>\n",
              "    <tr>\n",
              "      <th>12</th>\n",
              "      <td>Nova Iguaçu</td>\n",
              "      <td>859</td>\n",
              "      <td>1</td>\n",
              "      <td>1</td>\n",
              "      <td>0</td>\n",
              "    </tr>\n",
              "    <tr>\n",
              "      <th>13</th>\n",
              "      <td>Paracambi</td>\n",
              "      <td>10</td>\n",
              "      <td>229</td>\n",
              "      <td>0</td>\n",
              "      <td>2</td>\n",
              "    </tr>\n",
              "    <tr>\n",
              "      <th>14</th>\n",
              "      <td>Queimados</td>\n",
              "      <td>270</td>\n",
              "      <td>1</td>\n",
              "      <td>2</td>\n",
              "      <td>2</td>\n",
              "    </tr>\n",
              "    <tr>\n",
              "      <th>15</th>\n",
              "      <td>Rio Bonito</td>\n",
              "      <td>2</td>\n",
              "      <td>540</td>\n",
              "      <td>0</td>\n",
              "      <td>1</td>\n",
              "    </tr>\n",
              "    <tr>\n",
              "      <th>17</th>\n",
              "      <td>Seropédica</td>\n",
              "      <td>30</td>\n",
              "      <td>85</td>\n",
              "      <td>2</td>\n",
              "      <td>2</td>\n",
              "    </tr>\n",
              "    <tr>\n",
              "      <th>18</th>\n",
              "      <td>São Gonçalo</td>\n",
              "      <td>2204</td>\n",
              "      <td>0</td>\n",
              "      <td>1</td>\n",
              "      <td>0</td>\n",
              "    </tr>\n",
              "    <tr>\n",
              "      <th>19</th>\n",
              "      <td>São João de Meriti</td>\n",
              "      <td>536</td>\n",
              "      <td>4</td>\n",
              "      <td>2</td>\n",
              "      <td>2</td>\n",
              "    </tr>\n",
              "    <tr>\n",
              "      <th>20</th>\n",
              "      <td>Tanguá</td>\n",
              "      <td>3</td>\n",
              "      <td>408</td>\n",
              "      <td>0</td>\n",
              "      <td>1</td>\n",
              "    </tr>\n",
              "  </tbody>\n",
              "</table>\n",
              "</div>"
            ],
            "text/plain": [
              "             nome_cidade  Frequency  Recency  Cluster_Id  Cluster_Labels\n",
              "0           Belford Roxo       1394        1           1               0\n",
              "1   Cachoeiras de Macacu          2      413           0               1\n",
              "2        Duque de Caxias       1064        3           1               0\n",
              "3             Guapimirim         18      111           2               2\n",
              "4               Itaboraí        294       17           2               2\n",
              "5                Itaguaí        199        5           2               2\n",
              "6                 Japeri        207       35           2               2\n",
              "7                   Magé         86        2           2               2\n",
              "8                 Maricá        114        7           2               2\n",
              "9               Mesquita        249       25           2               2\n",
              "10             Nilópolis        158        8           2               2\n",
              "11               Niterói       1297        2           1               0\n",
              "12           Nova Iguaçu        859        1           1               0\n",
              "13             Paracambi         10      229           0               2\n",
              "14             Queimados        270        1           2               2\n",
              "15            Rio Bonito          2      540           0               1\n",
              "17            Seropédica         30       85           2               2\n",
              "18           São Gonçalo       2204        0           1               0\n",
              "19    São João de Meriti        536        4           2               2\n",
              "20                Tanguá          3      408           0               1"
            ]
          },
          "metadata": {
            "tags": []
          },
          "execution_count": 133
        }
      ]
    },
    {
      "cell_type": "code",
      "metadata": {
        "id": "MeAgp2zc-lag",
        "colab_type": "code",
        "outputId": "695de29e-398e-4ff4-f9ae-d2d015ed3001",
        "colab": {
          "base_uri": "https://localhost:8080/",
          "height": 515
        }
      },
      "source": [
        "sns.boxplot(x='Cluster_Id', y='Frequency', data=tiroteios)"
      ],
      "execution_count": 0,
      "outputs": [
        {
          "output_type": "execute_result",
          "data": {
            "text/plain": [
              "<matplotlib.axes._subplots.AxesSubplot at 0x7f4bfecff208>"
            ]
          },
          "metadata": {
            "tags": []
          },
          "execution_count": 135
        },
        {
          "output_type": "display_data",
          "data": {
            "image/png": "[encoded data removed]",
            "text/plain": [
              "<Figure size 720x576 with 1 Axes>"
            ]
          },
          "metadata": {
            "tags": []
          }
        }
      ]
    },
    {
      "cell_type": "code",
      "metadata": {
        "id": "c0GPy_EK-r38",
        "colab_type": "code",
        "outputId": "2a481c7b-995b-4a65-9116-81fe9729dee6",
        "colab": {
          "base_uri": "https://localhost:8080/",
          "height": 515
        }
      },
      "source": [
        "sns.boxplot(x='Cluster_Id', y='Recency', data=tiroteios)"
      ],
      "execution_count": 0,
      "outputs": [
        {
          "output_type": "execute_result",
          "data": {
            "text/plain": [
              "<matplotlib.axes._subplots.AxesSubplot at 0x7f4bfeae1a58>"
            ]
          },
          "metadata": {
            "tags": []
          },
          "execution_count": 136
        },
        {
          "output_type": "display_data",
          "data": {
            "image/png": "[encoded data removed]",
            "text/plain": [
              "<Figure size 720x576 with 1 Axes>"
            ]
          },
          "metadata": {
            "tags": []
          }
        }
      ]
    },
    {
      "cell_type": "markdown",
      "metadata": {
        "id": "VVUQzyuyJDS7",
        "colab_type": "text"
      },
      "source": [
        "### Cluestering Hierárquico"
      ]
    },
    {
      "cell_type": "markdown",
      "metadata": {
        "id": "96j-ioUp-0ut",
        "colab_type": "text"
      },
      "source": [
        "**Single Linkage**"
      ]
    },
    {
      "cell_type": "code",
      "metadata": {
        "id": "W1X2Chq_-3Vl",
        "colab_type": "code",
        "outputId": "8d2a34eb-3df5-448a-8e4b-1370a57023f9",
        "colab": {
          "base_uri": "https://localhost:8080/",
          "height": 486
        }
      },
      "source": [
        "mergings = linkage(tiroteios_scaled, method=\"single\", metric='euclidean')\n",
        "dendrogram(mergings)\n",
        "plt.show()"
      ],
      "execution_count": 0,
      "outputs": [
        {
          "output_type": "display_data",
          "data": {
            "image/png": "[encoded data removed]",
            "text/plain": [
              "<Figure size 720x576 with 1 Axes>"
            ]
          },
          "metadata": {
            "tags": []
          }
        }
      ]
    },
    {
      "cell_type": "markdown",
      "metadata": {
        "id": "JVR2655a_GzF",
        "colab_type": "text"
      },
      "source": [
        "**Complete Linkage**"
      ]
    },
    {
      "cell_type": "code",
      "metadata": {
        "id": "FPr7XqU0_BRV",
        "colab_type": "code",
        "outputId": "8556710d-37af-454f-ed18-66d7d17e62ca",
        "colab": {
          "base_uri": "https://localhost:8080/",
          "height": 486
        }
      },
      "source": [
        "mergings = linkage(tiroteios_scaled, method=\"complete\", metric='euclidean')\n",
        "dendrogram(mergings)\n",
        "plt.show()"
      ],
      "execution_count": 0,
      "outputs": [
        {
          "output_type": "display_data",
          "data": {
            "image/png": "[encoded data removed]",
            "text/plain": [
              "<Figure size 720x576 with 1 Axes>"
            ]
          },
          "metadata": {
            "tags": []
          }
        }
      ]
    },
    {
      "cell_type": "code",
      "metadata": {
        "id": "C3sh5Y7WJNx1",
        "colab_type": "code",
        "outputId": "2a16afd9-0d1d-4931-db8f-94d1fe2606dc",
        "colab": {
          "base_uri": "https://localhost:8080/",
          "height": 486
        }
      },
      "source": [
        "mergings = linkage(tiroteios_scaled, method=\"average\", metric='euclidean')\n",
        "dendrogram(mergings)\n",
        "plt.show()"
      ],
      "execution_count": 0,
      "outputs": [
        {
          "output_type": "display_data",
          "data": {
            "image/png": "[encoded data removed]",
            "text/plain": [
              "<Figure size 720x576 with 1 Axes>"
            ]
          },
          "metadata": {
            "tags": []
          }
        }
      ]
    },
    {
      "cell_type": "markdown",
      "metadata": {
        "id": "Kwk6azvQBZ08",
        "colab_type": "text"
      },
      "source": [
        "Cortando o dendograma em k=3"
      ]
    },
    {
      "cell_type": "code",
      "metadata": {
        "id": "HK3_6MbSBcC7",
        "colab_type": "code",
        "outputId": "1d5cc037-a766-4a4d-ea54-1ebc350e5e9a",
        "colab": {
          "base_uri": "https://localhost:8080/",
          "height": 34
        }
      },
      "source": [
        "mergings = linkage(tiroteios_scaled, method=\"complete\", metric='euclidean')\n",
        "\n",
        "cluster_labels = cut_tree(mergings, n_clusters=3).reshape(-1, )\n",
        "cluster_labels"
      ],
      "execution_count": 0,
      "outputs": [
        {
          "output_type": "execute_result",
          "data": {
            "text/plain": [
              "array([0, 1, 0, 2, 2, 2, 2, 2, 2, 2, 2, 0, 0, 2, 2, 1, 2, 0, 2, 1])"
            ]
          },
          "metadata": {
            "tags": []
          },
          "execution_count": 119
        }
      ]
    },
    {
      "cell_type": "code",
      "metadata": {
        "id": "AC_NgjQxBeu9",
        "colab_type": "code",
        "outputId": "3f041a47-e688-426f-f07c-b84916051222",
        "colab": {
          "base_uri": "https://localhost:8080/",
          "height": 639
        }
      },
      "source": [
        "tiroteios['Cluster_Labels'] = cluster_labels\n",
        "tiroteios"
      ],
      "execution_count": 0,
      "outputs": [
        {
          "output_type": "execute_result",
          "data": {
            "text/html": [
              "<div>\n",
              "<style scoped>\n",
              "    .dataframe tbody tr th:only-of-type {\n",
              "        vertical-align: middle;\n",
              "    }\n",
              "\n",
              "    .dataframe tbody tr th {\n",
              "        vertical-align: top;\n",
              "    }\n",
              "\n",
              "    .dataframe thead th {\n",
              "        text-align: right;\n",
              "    }\n",
              "</style>\n",
              "<table border=\"1\" class=\"dataframe\">\n",
              "  <thead>\n",
              "    <tr style=\"text-align: right;\">\n",
              "      <th></th>\n",
              "      <th>nome_cidade</th>\n",
              "      <th>Frequency</th>\n",
              "      <th>Recency</th>\n",
              "      <th>Cluster_Id</th>\n",
              "      <th>Cluster_Labels</th>\n",
              "    </tr>\n",
              "  </thead>\n",
              "  <tbody>\n",
              "    <tr>\n",
              "      <th>0</th>\n",
              "      <td>Belford Roxo</td>\n",
              "      <td>1394</td>\n",
              "      <td>1</td>\n",
              "      <td>1</td>\n",
              "      <td>0</td>\n",
              "    </tr>\n",
              "    <tr>\n",
              "      <th>1</th>\n",
              "      <td>Cachoeiras de Macacu</td>\n",
              "      <td>2</td>\n",
              "      <td>413</td>\n",
              "      <td>0</td>\n",
              "      <td>1</td>\n",
              "    </tr>\n",
              "    <tr>\n",
              "      <th>2</th>\n",
              "      <td>Duque de Caxias</td>\n",
              "      <td>1064</td>\n",
              "      <td>3</td>\n",
              "      <td>1</td>\n",
              "      <td>0</td>\n",
              "    </tr>\n",
              "    <tr>\n",
              "      <th>3</th>\n",
              "      <td>Guapimirim</td>\n",
              "      <td>18</td>\n",
              "      <td>111</td>\n",
              "      <td>2</td>\n",
              "      <td>2</td>\n",
              "    </tr>\n",
              "    <tr>\n",
              "      <th>4</th>\n",
              "      <td>Itaboraí</td>\n",
              "      <td>294</td>\n",
              "      <td>17</td>\n",
              "      <td>2</td>\n",
              "      <td>2</td>\n",
              "    </tr>\n",
              "    <tr>\n",
              "      <th>5</th>\n",
              "      <td>Itaguaí</td>\n",
              "      <td>199</td>\n",
              "      <td>5</td>\n",
              "      <td>2</td>\n",
              "      <td>2</td>\n",
              "    </tr>\n",
              "    <tr>\n",
              "      <th>6</th>\n",
              "      <td>Japeri</td>\n",
              "      <td>207</td>\n",
              "      <td>35</td>\n",
              "      <td>2</td>\n",
              "      <td>2</td>\n",
              "    </tr>\n",
              "    <tr>\n",
              "      <th>7</th>\n",
              "      <td>Magé</td>\n",
              "      <td>86</td>\n",
              "      <td>2</td>\n",
              "      <td>2</td>\n",
              "      <td>2</td>\n",
              "    </tr>\n",
              "    <tr>\n",
              "      <th>8</th>\n",
              "      <td>Maricá</td>\n",
              "      <td>114</td>\n",
              "      <td>7</td>\n",
              "      <td>2</td>\n",
              "      <td>2</td>\n",
              "    </tr>\n",
              "    <tr>\n",
              "      <th>9</th>\n",
              "      <td>Mesquita</td>\n",
              "      <td>249</td>\n",
              "      <td>25</td>\n",
              "      <td>2</td>\n",
              "      <td>2</td>\n",
              "    </tr>\n",
              "    <tr>\n",
              "      <th>10</th>\n",
              "      <td>Nilópolis</td>\n",
              "      <td>158</td>\n",
              "      <td>8</td>\n",
              "      <td>2</td>\n",
              "      <td>2</td>\n",
              "    </tr>\n",
              "    <tr>\n",
              "      <th>11</th>\n",
              "      <td>Niterói</td>\n",
              "      <td>1297</td>\n",
              "      <td>2</td>\n",
              "      <td>1</td>\n",
              "      <td>0</td>\n",
              "    </tr>\n",
              "    <tr>\n",
              "      <th>12</th>\n",
              "      <td>Nova Iguaçu</td>\n",
              "      <td>859</td>\n",
              "      <td>1</td>\n",
              "      <td>1</td>\n",
              "      <td>0</td>\n",
              "    </tr>\n",
              "    <tr>\n",
              "      <th>13</th>\n",
              "      <td>Paracambi</td>\n",
              "      <td>10</td>\n",
              "      <td>229</td>\n",
              "      <td>0</td>\n",
              "      <td>2</td>\n",
              "    </tr>\n",
              "    <tr>\n",
              "      <th>14</th>\n",
              "      <td>Queimados</td>\n",
              "      <td>270</td>\n",
              "      <td>1</td>\n",
              "      <td>2</td>\n",
              "      <td>2</td>\n",
              "    </tr>\n",
              "    <tr>\n",
              "      <th>15</th>\n",
              "      <td>Rio Bonito</td>\n",
              "      <td>2</td>\n",
              "      <td>540</td>\n",
              "      <td>0</td>\n",
              "      <td>1</td>\n",
              "    </tr>\n",
              "    <tr>\n",
              "      <th>17</th>\n",
              "      <td>Seropédica</td>\n",
              "      <td>30</td>\n",
              "      <td>85</td>\n",
              "      <td>2</td>\n",
              "      <td>2</td>\n",
              "    </tr>\n",
              "    <tr>\n",
              "      <th>18</th>\n",
              "      <td>São Gonçalo</td>\n",
              "      <td>2204</td>\n",
              "      <td>0</td>\n",
              "      <td>1</td>\n",
              "      <td>0</td>\n",
              "    </tr>\n",
              "    <tr>\n",
              "      <th>19</th>\n",
              "      <td>São João de Meriti</td>\n",
              "      <td>536</td>\n",
              "      <td>4</td>\n",
              "      <td>2</td>\n",
              "      <td>2</td>\n",
              "    </tr>\n",
              "    <tr>\n",
              "      <th>20</th>\n",
              "      <td>Tanguá</td>\n",
              "      <td>3</td>\n",
              "      <td>408</td>\n",
              "      <td>0</td>\n",
              "      <td>1</td>\n",
              "    </tr>\n",
              "  </tbody>\n",
              "</table>\n",
              "</div>"
            ],
            "text/plain": [
              "             nome_cidade  Frequency  Recency  Cluster_Id  Cluster_Labels\n",
              "0           Belford Roxo       1394        1           1               0\n",
              "1   Cachoeiras de Macacu          2      413           0               1\n",
              "2        Duque de Caxias       1064        3           1               0\n",
              "3             Guapimirim         18      111           2               2\n",
              "4               Itaboraí        294       17           2               2\n",
              "5                Itaguaí        199        5           2               2\n",
              "6                 Japeri        207       35           2               2\n",
              "7                   Magé         86        2           2               2\n",
              "8                 Maricá        114        7           2               2\n",
              "9               Mesquita        249       25           2               2\n",
              "10             Nilópolis        158        8           2               2\n",
              "11               Niterói       1297        2           1               0\n",
              "12           Nova Iguaçu        859        1           1               0\n",
              "13             Paracambi         10      229           0               2\n",
              "14             Queimados        270        1           2               2\n",
              "15            Rio Bonito          2      540           0               1\n",
              "17            Seropédica         30       85           2               2\n",
              "18           São Gonçalo       2204        0           1               0\n",
              "19    São João de Meriti        536        4           2               2\n",
              "20                Tanguá          3      408           0               1"
            ]
          },
          "metadata": {
            "tags": []
          },
          "execution_count": 134
        }
      ]
    },
    {
      "cell_type": "code",
      "metadata": {
        "id": "pV86nG1ECPF0",
        "colab_type": "code",
        "outputId": "f36b0507-8059-4d35-fe5c-2df80a286c1a",
        "colab": {
          "base_uri": "https://localhost:8080/",
          "height": 515
        }
      },
      "source": [
        "sns.boxplot(x='Cluster_Labels', y='Frequency', data=tiroteios)"
      ],
      "execution_count": 0,
      "outputs": [
        {
          "output_type": "execute_result",
          "data": {
            "text/plain": [
              "<matplotlib.axes._subplots.AxesSubplot at 0x7f4bfea87438>"
            ]
          },
          "metadata": {
            "tags": []
          },
          "execution_count": 121
        },
        {
          "output_type": "display_data",
          "data": {
            "image/png": "[encoded data removed]",
            "text/plain": [
              "<Figure size 720x576 with 1 Axes>"
            ]
          },
          "metadata": {
            "tags": []
          }
        }
      ]
    },
    {
      "cell_type": "code",
      "metadata": {
        "id": "ud0aQDZ3CUCD",
        "colab_type": "code",
        "outputId": "844ecc3d-06c9-44a4-ff40-e1891bde534c",
        "colab": {
          "base_uri": "https://localhost:8080/",
          "height": 515
        }
      },
      "source": [
        "sns.boxplot(x='Cluster_Labels', y='Recency', data=tiroteios)"
      ],
      "execution_count": 0,
      "outputs": [
        {
          "output_type": "execute_result",
          "data": {
            "text/plain": [
              "<matplotlib.axes._subplots.AxesSubplot at 0x7f4bfed8ce80>"
            ]
          },
          "metadata": {
            "tags": []
          },
          "execution_count": 122
        },
        {
          "output_type": "display_data",
          "data": {
            "image/png": "[encoded data removed]",
            "text/plain": [
              "<Figure size 720x576 with 1 Axes>"
            ]
          },
          "metadata": {
            "tags": []
          }
        }
      ]
    },
    {
      "cell_type": "markdown",
      "metadata": {
        "id": "J_8vLg8tCfw0",
        "colab_type": "text"
      },
      "source": [
        "### Análise Final\n",
        "\n"
      ]
    },
    {
      "cell_type": "markdown",
      "metadata": {
        "id": "XDogjM0vMbkD",
        "colab_type": "text"
      },
      "source": [
        "* Cluster 0 - Cidades com mais tiroteios sendo estes mais recentes\n",
        "* Cluster 1 - Cidades com menos tiroteios sendo estes mais antigos\n",
        "* Cluster 2 - Intermediário\n",
        "\n",
        "K-means muda o nome do cluster toda vez que é executado. Mas parece que os clusters gerados pelo K-means e dendrograma são praticamente iguais (pouquissima diferença), só muda o nome mesmo.\n",
        "\n",
        "*De acordo com o professor não tem nenhum agrupamento evidente.*"
      ]
    }
  ]
}